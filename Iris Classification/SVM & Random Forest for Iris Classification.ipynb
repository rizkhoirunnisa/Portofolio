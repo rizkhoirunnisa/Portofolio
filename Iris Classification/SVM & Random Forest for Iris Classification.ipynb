{
 "cells": [
  {
   "cell_type": "markdown",
   "id": "b3dfd771",
   "metadata": {},
   "source": [
    "### Import Package"
   ]
  },
  {
   "cell_type": "code",
   "execution_count": 1,
   "id": "457a2c61",
   "metadata": {},
   "outputs": [],
   "source": [
    "import pandas as pd\n",
    "import numpy as np\n",
    "import seaborn as sns\n",
    "import matplotlib.pyplot as plt\n",
    "import seaborn as sns"
   ]
  },
  {
   "cell_type": "code",
   "execution_count": 2,
   "id": "62d75d3c",
   "metadata": {},
   "outputs": [],
   "source": [
    "from urllib.request import urlretrieve\n",
    "\n",
    "from sklearn.model_selection import train_test_split\n",
    "from sklearn.preprocessing import StandardScaler\n",
    "from sklearn.preprocessing import LabelEncoder\n",
    "from sklearn.metrics import confusion_matrix \n",
    "from sklearn.metrics import accuracy_score\n",
    "from sklearn.metrics import classification_report\n",
    "from sklearn.model_selection import GridSearchCV\n",
    "from sklearn.ensemble import AdaBoostClassifier\n",
    "from sklearn.svm import SVC\n",
    "from sklearn.ensemble import RandomForestClassifier\n",
    "\n",
    "\n",
    "from jcopml.plot import plot_missing_value"
   ]
  },
  {
   "cell_type": "markdown",
   "id": "112c1175",
   "metadata": {},
   "source": [
    "### 1 . Data Preparation"
   ]
  },
  {
   "cell_type": "code",
   "execution_count": 3,
   "id": "ef5f219a",
   "metadata": {},
   "outputs": [],
   "source": [
    "iris = 'http://archive.ics.uci.edu/ml/machine-learning-databases/iris/iris.data'\n",
    "save = urlretrieve(iris,'D:/iris.csv')\n",
    "data = pd.read_csv(iris, sep=',')"
   ]
  },
  {
   "cell_type": "code",
   "execution_count": 4,
   "id": "97f8280c",
   "metadata": {},
   "outputs": [],
   "source": [
    "attributes = [\"sepal_length\", \"sepal_width\", \"petal_length\", \"petal_width\", \"class\"]\n",
    "data.columns = attributes"
   ]
  },
  {
   "cell_type": "code",
   "execution_count": 5,
   "id": "3a19ab8f",
   "metadata": {},
   "outputs": [
    {
     "data": {
      "text/html": [
       "<div>\n",
       "<style scoped>\n",
       "    .dataframe tbody tr th:only-of-type {\n",
       "        vertical-align: middle;\n",
       "    }\n",
       "\n",
       "    .dataframe tbody tr th {\n",
       "        vertical-align: top;\n",
       "    }\n",
       "\n",
       "    .dataframe thead th {\n",
       "        text-align: right;\n",
       "    }\n",
       "</style>\n",
       "<table border=\"1\" class=\"dataframe\">\n",
       "  <thead>\n",
       "    <tr style=\"text-align: right;\">\n",
       "      <th></th>\n",
       "      <th>sepal_length</th>\n",
       "      <th>sepal_width</th>\n",
       "      <th>petal_length</th>\n",
       "      <th>petal_width</th>\n",
       "      <th>class</th>\n",
       "    </tr>\n",
       "  </thead>\n",
       "  <tbody>\n",
       "    <tr>\n",
       "      <th>0</th>\n",
       "      <td>4.9</td>\n",
       "      <td>3.0</td>\n",
       "      <td>1.4</td>\n",
       "      <td>0.2</td>\n",
       "      <td>Iris-setosa</td>\n",
       "    </tr>\n",
       "    <tr>\n",
       "      <th>1</th>\n",
       "      <td>4.7</td>\n",
       "      <td>3.2</td>\n",
       "      <td>1.3</td>\n",
       "      <td>0.2</td>\n",
       "      <td>Iris-setosa</td>\n",
       "    </tr>\n",
       "    <tr>\n",
       "      <th>2</th>\n",
       "      <td>4.6</td>\n",
       "      <td>3.1</td>\n",
       "      <td>1.5</td>\n",
       "      <td>0.2</td>\n",
       "      <td>Iris-setosa</td>\n",
       "    </tr>\n",
       "    <tr>\n",
       "      <th>3</th>\n",
       "      <td>5.0</td>\n",
       "      <td>3.6</td>\n",
       "      <td>1.4</td>\n",
       "      <td>0.2</td>\n",
       "      <td>Iris-setosa</td>\n",
       "    </tr>\n",
       "    <tr>\n",
       "      <th>4</th>\n",
       "      <td>5.4</td>\n",
       "      <td>3.9</td>\n",
       "      <td>1.7</td>\n",
       "      <td>0.4</td>\n",
       "      <td>Iris-setosa</td>\n",
       "    </tr>\n",
       "  </tbody>\n",
       "</table>\n",
       "</div>"
      ],
      "text/plain": [
       "   sepal_length  sepal_width  petal_length  petal_width        class\n",
       "0           4.9          3.0           1.4          0.2  Iris-setosa\n",
       "1           4.7          3.2           1.3          0.2  Iris-setosa\n",
       "2           4.6          3.1           1.5          0.2  Iris-setosa\n",
       "3           5.0          3.6           1.4          0.2  Iris-setosa\n",
       "4           5.4          3.9           1.7          0.4  Iris-setosa"
      ]
     },
     "execution_count": 5,
     "metadata": {},
     "output_type": "execute_result"
    }
   ],
   "source": [
    "data.head()"
   ]
  },
  {
   "cell_type": "code",
   "execution_count": 6,
   "id": "cf5fa6d8",
   "metadata": {},
   "outputs": [
    {
     "data": {
      "text/html": [
       "<div>\n",
       "<style scoped>\n",
       "    .dataframe tbody tr th:only-of-type {\n",
       "        vertical-align: middle;\n",
       "    }\n",
       "\n",
       "    .dataframe tbody tr th {\n",
       "        vertical-align: top;\n",
       "    }\n",
       "\n",
       "    .dataframe thead th {\n",
       "        text-align: right;\n",
       "    }\n",
       "</style>\n",
       "<table border=\"1\" class=\"dataframe\">\n",
       "  <thead>\n",
       "    <tr style=\"text-align: right;\">\n",
       "      <th></th>\n",
       "      <th>count</th>\n",
       "      <th>mean</th>\n",
       "      <th>std</th>\n",
       "      <th>min</th>\n",
       "      <th>25%</th>\n",
       "      <th>50%</th>\n",
       "      <th>75%</th>\n",
       "      <th>max</th>\n",
       "    </tr>\n",
       "  </thead>\n",
       "  <tbody>\n",
       "    <tr>\n",
       "      <th>sepal_length</th>\n",
       "      <td>149.0</td>\n",
       "      <td>5.848322</td>\n",
       "      <td>0.828594</td>\n",
       "      <td>4.3</td>\n",
       "      <td>5.1</td>\n",
       "      <td>5.8</td>\n",
       "      <td>6.4</td>\n",
       "      <td>7.9</td>\n",
       "    </tr>\n",
       "    <tr>\n",
       "      <th>sepal_width</th>\n",
       "      <td>149.0</td>\n",
       "      <td>3.051007</td>\n",
       "      <td>0.433499</td>\n",
       "      <td>2.0</td>\n",
       "      <td>2.8</td>\n",
       "      <td>3.0</td>\n",
       "      <td>3.3</td>\n",
       "      <td>4.4</td>\n",
       "    </tr>\n",
       "    <tr>\n",
       "      <th>petal_length</th>\n",
       "      <td>149.0</td>\n",
       "      <td>3.774497</td>\n",
       "      <td>1.759651</td>\n",
       "      <td>1.0</td>\n",
       "      <td>1.6</td>\n",
       "      <td>4.4</td>\n",
       "      <td>5.1</td>\n",
       "      <td>6.9</td>\n",
       "    </tr>\n",
       "    <tr>\n",
       "      <th>petal_width</th>\n",
       "      <td>149.0</td>\n",
       "      <td>1.205369</td>\n",
       "      <td>0.761292</td>\n",
       "      <td>0.1</td>\n",
       "      <td>0.3</td>\n",
       "      <td>1.3</td>\n",
       "      <td>1.8</td>\n",
       "      <td>2.5</td>\n",
       "    </tr>\n",
       "  </tbody>\n",
       "</table>\n",
       "</div>"
      ],
      "text/plain": [
       "              count      mean       std  min  25%  50%  75%  max\n",
       "sepal_length  149.0  5.848322  0.828594  4.3  5.1  5.8  6.4  7.9\n",
       "sepal_width   149.0  3.051007  0.433499  2.0  2.8  3.0  3.3  4.4\n",
       "petal_length  149.0  3.774497  1.759651  1.0  1.6  4.4  5.1  6.9\n",
       "petal_width   149.0  1.205369  0.761292  0.1  0.3  1.3  1.8  2.5"
      ]
     },
     "execution_count": 6,
     "metadata": {},
     "output_type": "execute_result"
    }
   ],
   "source": [
    "data.describe().transpose()"
   ]
  },
  {
   "cell_type": "code",
   "execution_count": 7,
   "id": "fbb54202",
   "metadata": {},
   "outputs": [
    {
     "data": {
      "text/plain": [
       "Text(0.5, 1.0, 'Graph of Classes Data')"
      ]
     },
     "execution_count": 7,
     "metadata": {},
     "output_type": "execute_result"
    },
    {
     "data": {
      "image/png": "[encoded data removed]",
      "text/plain": [
       "<Figure size 360x576 with 1 Axes>"
      ]
     },
     "metadata": {
      "needs_background": "light"
     },
     "output_type": "display_data"
    }
   ],
   "source": [
    "fig = plt.figure(figsize = (5, 8))\n",
    "sns.set(style = \"darkgrid\")\n",
    "data[\"class\"].value_counts().plot(kind = \"bar\")\n",
    "\n",
    "# Labeling the Y-axis\n",
    "plt.ylabel(\"Number of Data\")\n",
    "\n",
    "# Labeling the X-axis\n",
    "plt.xlabel(\"Classes\")\n",
    "\n",
    "# Give a title to the graph\n",
    "plt.title(\"Graph of Classes Data\")"
   ]
  },
  {
   "cell_type": "markdown",
   "id": "dc099431",
   "metadata": {},
   "source": [
    "### 2. Data Cleansing"
   ]
  },
  {
   "cell_type": "code",
   "execution_count": 8,
   "id": "370e2d3a",
   "metadata": {},
   "outputs": [
    {
     "data": {
      "text/html": [
       "<div>\n",
       "<style scoped>\n",
       "    .dataframe tbody tr th:only-of-type {\n",
       "        vertical-align: middle;\n",
       "    }\n",
       "\n",
       "    .dataframe tbody tr th {\n",
       "        vertical-align: top;\n",
       "    }\n",
       "\n",
       "    .dataframe thead th {\n",
       "        text-align: right;\n",
       "    }\n",
       "</style>\n",
       "<table border=\"1\" class=\"dataframe\">\n",
       "  <thead>\n",
       "    <tr style=\"text-align: right;\">\n",
       "      <th></th>\n",
       "      <th>missing_value</th>\n",
       "      <th>%</th>\n",
       "    </tr>\n",
       "  </thead>\n",
       "  <tbody>\n",
       "    <tr>\n",
       "      <th>sepal_length</th>\n",
       "      <td>0</td>\n",
       "      <td>0.0</td>\n",
       "    </tr>\n",
       "    <tr>\n",
       "      <th>sepal_width</th>\n",
       "      <td>0</td>\n",
       "      <td>0.0</td>\n",
       "    </tr>\n",
       "    <tr>\n",
       "      <th>petal_length</th>\n",
       "      <td>0</td>\n",
       "      <td>0.0</td>\n",
       "    </tr>\n",
       "    <tr>\n",
       "      <th>petal_width</th>\n",
       "      <td>0</td>\n",
       "      <td>0.0</td>\n",
       "    </tr>\n",
       "    <tr>\n",
       "      <th>class</th>\n",
       "      <td>0</td>\n",
       "      <td>0.0</td>\n",
       "    </tr>\n",
       "  </tbody>\n",
       "</table>\n",
       "</div>"
      ],
      "text/plain": [
       "              missing_value    %\n",
       "sepal_length              0  0.0\n",
       "sepal_width               0  0.0\n",
       "petal_length              0  0.0\n",
       "petal_width               0  0.0\n",
       "class                     0  0.0"
      ]
     },
     "execution_count": 8,
     "metadata": {},
     "output_type": "execute_result"
    },
    {
     "data": {
      "image/png": "[encoded data removed]",
      "text/plain": [
       "<Figure size 1080x576 with 1 Axes>"
      ]
     },
     "metadata": {},
     "output_type": "display_data"
    }
   ],
   "source": [
    "plot_missing_value(data, return_df=True)"
   ]
  },
  {
   "cell_type": "markdown",
   "id": "9083d519",
   "metadata": {},
   "source": [
    "#### Make object named encoder¶"
   ]
  },
  {
   "cell_type": "code",
   "execution_count": 9,
   "id": "7893b115",
   "metadata": {},
   "outputs": [],
   "source": [
    "encoder = LabelEncoder()"
   ]
  },
  {
   "cell_type": "markdown",
   "id": "a00a636e",
   "metadata": {},
   "source": [
    "#### List column of categori and convert to numeric"
   ]
  },
  {
   "cell_type": "code",
   "execution_count": 10,
   "id": "08494a5d",
   "metadata": {},
   "outputs": [],
   "source": [
    "categorical_data = [\"class\"]"
   ]
  },
  {
   "cell_type": "code",
   "execution_count": 11,
   "id": "8dbae54f",
   "metadata": {},
   "outputs": [],
   "source": [
    "for kolom in categorical_data:\n",
    "    data[kolom] = encoder.fit_transform(data[kolom])"
   ]
  },
  {
   "cell_type": "code",
   "execution_count": 12,
   "id": "d9a26807",
   "metadata": {},
   "outputs": [
    {
     "data": {
      "text/html": [
       "<div>\n",
       "<style scoped>\n",
       "    .dataframe tbody tr th:only-of-type {\n",
       "        vertical-align: middle;\n",
       "    }\n",
       "\n",
       "    .dataframe tbody tr th {\n",
       "        vertical-align: top;\n",
       "    }\n",
       "\n",
       "    .dataframe thead th {\n",
       "        text-align: right;\n",
       "    }\n",
       "</style>\n",
       "<table border=\"1\" class=\"dataframe\">\n",
       "  <thead>\n",
       "    <tr style=\"text-align: right;\">\n",
       "      <th></th>\n",
       "      <th>sepal_length</th>\n",
       "      <th>sepal_width</th>\n",
       "      <th>petal_length</th>\n",
       "      <th>petal_width</th>\n",
       "      <th>class</th>\n",
       "    </tr>\n",
       "  </thead>\n",
       "  <tbody>\n",
       "    <tr>\n",
       "      <th>0</th>\n",
       "      <td>4.9</td>\n",
       "      <td>3.0</td>\n",
       "      <td>1.4</td>\n",
       "      <td>0.2</td>\n",
       "      <td>0</td>\n",
       "    </tr>\n",
       "    <tr>\n",
       "      <th>1</th>\n",
       "      <td>4.7</td>\n",
       "      <td>3.2</td>\n",
       "      <td>1.3</td>\n",
       "      <td>0.2</td>\n",
       "      <td>0</td>\n",
       "    </tr>\n",
       "    <tr>\n",
       "      <th>2</th>\n",
       "      <td>4.6</td>\n",
       "      <td>3.1</td>\n",
       "      <td>1.5</td>\n",
       "      <td>0.2</td>\n",
       "      <td>0</td>\n",
       "    </tr>\n",
       "    <tr>\n",
       "      <th>3</th>\n",
       "      <td>5.0</td>\n",
       "      <td>3.6</td>\n",
       "      <td>1.4</td>\n",
       "      <td>0.2</td>\n",
       "      <td>0</td>\n",
       "    </tr>\n",
       "    <tr>\n",
       "      <th>4</th>\n",
       "      <td>5.4</td>\n",
       "      <td>3.9</td>\n",
       "      <td>1.7</td>\n",
       "      <td>0.4</td>\n",
       "      <td>0</td>\n",
       "    </tr>\n",
       "  </tbody>\n",
       "</table>\n",
       "</div>"
      ],
      "text/plain": [
       "   sepal_length  sepal_width  petal_length  petal_width  class\n",
       "0           4.9          3.0           1.4          0.2      0\n",
       "1           4.7          3.2           1.3          0.2      0\n",
       "2           4.6          3.1           1.5          0.2      0\n",
       "3           5.0          3.6           1.4          0.2      0\n",
       "4           5.4          3.9           1.7          0.4      0"
      ]
     },
     "execution_count": 12,
     "metadata": {},
     "output_type": "execute_result"
    }
   ],
   "source": [
    "data.head()"
   ]
  },
  {
   "cell_type": "markdown",
   "id": "2d47001b",
   "metadata": {},
   "source": [
    "### 3. Spliting Data"
   ]
  },
  {
   "cell_type": "code",
   "execution_count": 13,
   "id": "624c99d6",
   "metadata": {},
   "outputs": [],
   "source": [
    "X = data.iloc[:, 0:-1].values\n",
    "y = data.iloc[:, -1].values"
   ]
  },
  {
   "cell_type": "code",
   "execution_count": 14,
   "id": "f87e748d",
   "metadata": {},
   "outputs": [],
   "source": [
    "X_train, X_test, y_train, y_test = train_test_split(X, y, test_size = 0.3, random_state = 33)"
   ]
  },
  {
   "cell_type": "markdown",
   "id": "59de823e",
   "metadata": {},
   "source": [
    "### 4. Feature Scaling"
   ]
  },
  {
   "cell_type": "code",
   "execution_count": 15,
   "id": "87071b52",
   "metadata": {},
   "outputs": [],
   "source": [
    "np.random.seed(123)"
   ]
  },
  {
   "cell_type": "code",
   "execution_count": 16,
   "id": "3ec6db50",
   "metadata": {},
   "outputs": [],
   "source": [
    "sc = StandardScaler()\n",
    "scaler = sc.fit(X_train)\n",
    "X_train = scaler.transform(X_train)\n",
    "X_test = scaler.transform(X_test)"
   ]
  },
  {
   "cell_type": "markdown",
   "id": "6f3272c4",
   "metadata": {},
   "source": [
    "### 5. Build Model using SVM Classifier"
   ]
  },
  {
   "cell_type": "code",
   "execution_count": 17,
   "id": "d5ff8095",
   "metadata": {},
   "outputs": [],
   "source": [
    "np.random.seed(123)"
   ]
  },
  {
   "cell_type": "code",
   "execution_count": 18,
   "id": "09025f44",
   "metadata": {},
   "outputs": [
    {
     "data": {
      "text/plain": [
       "SVC()"
      ]
     },
     "execution_count": 18,
     "metadata": {},
     "output_type": "execute_result"
    }
   ],
   "source": [
    "# Build Model\n",
    "model = SVC()\n",
    "model.fit(X_train, y_train)"
   ]
  },
  {
   "cell_type": "code",
   "execution_count": 19,
   "id": "8a578cc4",
   "metadata": {},
   "outputs": [
    {
     "name": "stdout",
     "output_type": "stream",
     "text": [
      "              precision    recall  f1-score   support\n",
      "\n",
      "           0       1.00      1.00      1.00        11\n",
      "           1       0.83      1.00      0.91        15\n",
      "           2       1.00      0.84      0.91        19\n",
      "\n",
      "    accuracy                           0.93        45\n",
      "   macro avg       0.94      0.95      0.94        45\n",
      "weighted avg       0.94      0.93      0.93        45\n",
      "\n"
     ]
    }
   ],
   "source": [
    "# Predict and print classification report\n",
    "predictions = model.predict(X_test)\n",
    "print(classification_report(y_test, predictions))"
   ]
  },
  {
   "cell_type": "code",
   "execution_count": 20,
   "id": "10c71a1e",
   "metadata": {},
   "outputs": [
    {
     "data": {
      "text/plain": [
       "array([[11,  0,  0],\n",
       "       [ 0, 15,  0],\n",
       "       [ 0,  3, 16]], dtype=int64)"
      ]
     },
     "execution_count": 20,
     "metadata": {},
     "output_type": "execute_result"
    }
   ],
   "source": [
    "#Confusion matrix\n",
    "cms = confusion_matrix(y_test,predictions)\n",
    "cms"
   ]
  },
  {
   "cell_type": "code",
   "execution_count": 21,
   "id": "8c58ba0a",
   "metadata": {},
   "outputs": [
    {
     "data": {
      "text/plain": [
       "Text(0.5, 1.0, 'Confusion Matrix for Iris Dataset using SVC')"
      ]
     },
     "execution_count": 21,
     "metadata": {},
     "output_type": "execute_result"
    },
    {
     "data": {
      "image/png": "[encoded data removed]",
      "text/plain": [
       "<Figure size 720x432 with 2 Axes>"
      ]
     },
     "metadata": {},
     "output_type": "display_data"
    }
   ],
   "source": [
    "#Plotting confusion matrix\n",
    "\n",
    "fig = plt.figure(figsize = (10, 6))\n",
    "sns.heatmap(cms, annot = True)\n",
    "\n",
    "# Labeling the X-axis\n",
    "plt.xlabel(\"Predicted Class\")\n",
    "\n",
    "# Labeling the Y-axis\n",
    "plt.ylabel(\"True Class\")\n",
    "\n",
    "# Give a title to the graph\n",
    "plt.title(\"Confusion Matrix for Iris Dataset using SVC\")"
   ]
  },
  {
   "cell_type": "markdown",
   "id": "a6e9014d",
   "metadata": {},
   "source": [
    "#### SVM using Parameter Tuning"
   ]
  },
  {
   "cell_type": "code",
   "execution_count": 22,
   "id": "29035e48",
   "metadata": {},
   "outputs": [
    {
     "name": "stdout",
     "output_type": "stream",
     "text": [
      "Fitting 5 folds for each of 100 candidates, totalling 500 fits\n",
      "[CV 1/5] END ..................C=0.1, gamma=1, kernel=linear; total time=   0.0s\n",
      "[CV 2/5] END ..................C=0.1, gamma=1, kernel=linear; total time=   0.0s\n",
      "[CV 3/5] END ..................C=0.1, gamma=1, kernel=linear; total time=   0.0s\n",
      "[CV 4/5] END ..................C=0.1, gamma=1, kernel=linear; total time=   0.0s\n",
      "[CV 5/5] END ..................C=0.1, gamma=1, kernel=linear; total time=   0.0s\n",
      "[CV 1/5] END ....................C=0.1, gamma=1, kernel=poly; total time=   0.0s\n",
      "[CV 2/5] END ....................C=0.1, gamma=1, kernel=poly; total time=   0.0s\n",
      "[CV 3/5] END ....................C=0.1, gamma=1, kernel=poly; total time=   0.0s\n",
      "[CV 4/5] END ....................C=0.1, gamma=1, kernel=poly; total time=   0.0s\n",
      "[CV 5/5] END ....................C=0.1, gamma=1, kernel=poly; total time=   0.0s\n",
      "[CV 1/5] END .....................C=0.1, gamma=1, kernel=rbf; total time=   0.0s\n",
      "[CV 2/5] END .....................C=0.1, gamma=1, kernel=rbf; total time=   0.0s\n",
      "[CV 3/5] END .....................C=0.1, gamma=1, kernel=rbf; total time=   0.0s\n",
      "[CV 4/5] END .....................C=0.1, gamma=1, kernel=rbf; total time=   0.0s\n",
      "[CV 5/5] END .....................C=0.1, gamma=1, kernel=rbf; total time=   0.0s\n",
      "[CV 1/5] END .................C=0.1, gamma=1, kernel=sigmoid; total time=   0.0s\n",
      "[CV 2/5] END .................C=0.1, gamma=1, kernel=sigmoid; total time=   0.0s\n",
      "[CV 3/5] END .................C=0.1, gamma=1, kernel=sigmoid; total time=   0.0s\n",
      "[CV 4/5] END .................C=0.1, gamma=1, kernel=sigmoid; total time=   0.0s\n",
      "[CV 5/5] END .................C=0.1, gamma=1, kernel=sigmoid; total time=   0.0s\n",
      "[CV 1/5] END ................C=0.1, gamma=0.1, kernel=linear; total time=   0.0s\n",
      "[CV 2/5] END ................C=0.1, gamma=0.1, kernel=linear; total time=   0.0s\n",
      "[CV 3/5] END ................C=0.1, gamma=0.1, kernel=linear; total time=   0.0s\n",
      "[CV 4/5] END ................C=0.1, gamma=0.1, kernel=linear; total time=   0.0s\n",
      "[CV 5/5] END ................C=0.1, gamma=0.1, kernel=linear; total time=   0.0s\n",
      "[CV 1/5] END ..................C=0.1, gamma=0.1, kernel=poly; total time=   0.0s\n",
      "[CV 2/5] END ..................C=0.1, gamma=0.1, kernel=poly; total time=   0.0s\n",
      "[CV 3/5] END ..................C=0.1, gamma=0.1, kernel=poly; total time=   0.0s\n",
      "[CV 4/5] END ..................C=0.1, gamma=0.1, kernel=poly; total time=   0.0s\n",
      "[CV 5/5] END ..................C=0.1, gamma=0.1, kernel=poly; total time=   0.0s\n",
      "[CV 1/5] END ...................C=0.1, gamma=0.1, kernel=rbf; total time=   0.0s\n",
      "[CV 2/5] END ...................C=0.1, gamma=0.1, kernel=rbf; total time=   0.0s\n",
      "[CV 3/5] END ...................C=0.1, gamma=0.1, kernel=rbf; total time=   0.0s\n",
      "[CV 4/5] END ...................C=0.1, gamma=0.1, kernel=rbf; total time=   0.0s\n",
      "[CV 5/5] END ...................C=0.1, gamma=0.1, kernel=rbf; total time=   0.0s\n",
      "[CV 1/5] END ...............C=0.1, gamma=0.1, kernel=sigmoid; total time=   0.0s\n",
      "[CV 2/5] END ...............C=0.1, gamma=0.1, kernel=sigmoid; total time=   0.0s\n",
      "[CV 3/5] END ...............C=0.1, gamma=0.1, kernel=sigmoid; total time=   0.0s\n",
      "[CV 4/5] END ...............C=0.1, gamma=0.1, kernel=sigmoid; total time=   0.0s\n",
      "[CV 5/5] END ...............C=0.1, gamma=0.1, kernel=sigmoid; total time=   0.0s\n",
      "[CV 1/5] END ...............C=0.1, gamma=0.01, kernel=linear; total time=   0.0s\n",
      "[CV 2/5] END ...............C=0.1, gamma=0.01, kernel=linear; total time=   0.0s\n",
      "[CV 3/5] END ...............C=0.1, gamma=0.01, kernel=linear; total time=   0.0s\n",
      "[CV 4/5] END ...............C=0.1, gamma=0.01, kernel=linear; total time=   0.0s\n",
      "[CV 5/5] END ...............C=0.1, gamma=0.01, kernel=linear; total time=   0.0s\n",
      "[CV 1/5] END .................C=0.1, gamma=0.01, kernel=poly; total time=   0.0s\n",
      "[CV 2/5] END .................C=0.1, gamma=0.01, kernel=poly; total time=   0.0s\n",
      "[CV 3/5] END .................C=0.1, gamma=0.01, kernel=poly; total time=   0.0s\n",
      "[CV 4/5] END .................C=0.1, gamma=0.01, kernel=poly; total time=   0.0s\n",
      "[CV 5/5] END .................C=0.1, gamma=0.01, kernel=poly; total time=   0.0s\n",
      "[CV 1/5] END ..................C=0.1, gamma=0.01, kernel=rbf; total time=   0.0s\n",
      "[CV 2/5] END ..................C=0.1, gamma=0.01, kernel=rbf; total time=   0.0s\n",
      "[CV 3/5] END ..................C=0.1, gamma=0.01, kernel=rbf; total time=   0.0s\n",
      "[CV 4/5] END ..................C=0.1, gamma=0.01, kernel=rbf; total time=   0.0s\n",
      "[CV 5/5] END ..................C=0.1, gamma=0.01, kernel=rbf; total time=   0.0s\n",
      "[CV 1/5] END ..............C=0.1, gamma=0.01, kernel=sigmoid; total time=   0.0s\n",
      "[CV 2/5] END ..............C=0.1, gamma=0.01, kernel=sigmoid; total time=   0.0s\n",
      "[CV 3/5] END ..............C=0.1, gamma=0.01, kernel=sigmoid; total time=   0.0s\n",
      "[CV 4/5] END ..............C=0.1, gamma=0.01, kernel=sigmoid; total time=   0.0s\n",
      "[CV 5/5] END ..............C=0.1, gamma=0.01, kernel=sigmoid; total time=   0.0s\n",
      "[CV 1/5] END ..............C=0.1, gamma=0.001, kernel=linear; total time=   0.0s\n",
      "[CV 2/5] END ..............C=0.1, gamma=0.001, kernel=linear; total time=   0.0s\n",
      "[CV 3/5] END ..............C=0.1, gamma=0.001, kernel=linear; total time=   0.0s\n",
      "[CV 4/5] END ..............C=0.1, gamma=0.001, kernel=linear; total time=   0.0s\n",
      "[CV 5/5] END ..............C=0.1, gamma=0.001, kernel=linear; total time=   0.0s\n",
      "[CV 1/5] END ................C=0.1, gamma=0.001, kernel=poly; total time=   0.0s\n",
      "[CV 2/5] END ................C=0.1, gamma=0.001, kernel=poly; total time=   0.0s\n",
      "[CV 3/5] END ................C=0.1, gamma=0.001, kernel=poly; total time=   0.0s\n",
      "[CV 4/5] END ................C=0.1, gamma=0.001, kernel=poly; total time=   0.0s\n",
      "[CV 5/5] END ................C=0.1, gamma=0.001, kernel=poly; total time=   0.0s\n",
      "[CV 1/5] END .................C=0.1, gamma=0.001, kernel=rbf; total time=   0.0s\n",
      "[CV 2/5] END .................C=0.1, gamma=0.001, kernel=rbf; total time=   0.0s\n",
      "[CV 3/5] END .................C=0.1, gamma=0.001, kernel=rbf; total time=   0.0s\n",
      "[CV 4/5] END .................C=0.1, gamma=0.001, kernel=rbf; total time=   0.0s\n",
      "[CV 5/5] END .................C=0.1, gamma=0.001, kernel=rbf; total time=   0.0s\n",
      "[CV 1/5] END .............C=0.1, gamma=0.001, kernel=sigmoid; total time=   0.0s\n",
      "[CV 2/5] END .............C=0.1, gamma=0.001, kernel=sigmoid; total time=   0.0s\n",
      "[CV 3/5] END .............C=0.1, gamma=0.001, kernel=sigmoid; total time=   0.0s\n",
      "[CV 4/5] END .............C=0.1, gamma=0.001, kernel=sigmoid; total time=   0.0s\n",
      "[CV 5/5] END .............C=0.1, gamma=0.001, kernel=sigmoid; total time=   0.0s\n",
      "[CV 1/5] END .............C=0.1, gamma=0.0001, kernel=linear; total time=   0.0s\n",
      "[CV 2/5] END .............C=0.1, gamma=0.0001, kernel=linear; total time=   0.0s\n",
      "[CV 3/5] END .............C=0.1, gamma=0.0001, kernel=linear; total time=   0.0s\n",
      "[CV 4/5] END .............C=0.1, gamma=0.0001, kernel=linear; total time=   0.0s\n",
      "[CV 5/5] END .............C=0.1, gamma=0.0001, kernel=linear; total time=   0.0s\n",
      "[CV 1/5] END ...............C=0.1, gamma=0.0001, kernel=poly; total time=   0.0s\n",
      "[CV 2/5] END ...............C=0.1, gamma=0.0001, kernel=poly; total time=   0.0s\n",
      "[CV 3/5] END ...............C=0.1, gamma=0.0001, kernel=poly; total time=   0.0s\n",
      "[CV 4/5] END ...............C=0.1, gamma=0.0001, kernel=poly; total time=   0.0s\n",
      "[CV 5/5] END ...............C=0.1, gamma=0.0001, kernel=poly; total time=   0.0s\n",
      "[CV 1/5] END ................C=0.1, gamma=0.0001, kernel=rbf; total time=   0.0s\n",
      "[CV 2/5] END ................C=0.1, gamma=0.0001, kernel=rbf; total time=   0.0s\n",
      "[CV 3/5] END ................C=0.1, gamma=0.0001, kernel=rbf; total time=   0.0s\n",
      "[CV 4/5] END ................C=0.1, gamma=0.0001, kernel=rbf; total time=   0.0s\n",
      "[CV 5/5] END ................C=0.1, gamma=0.0001, kernel=rbf; total time=   0.0s\n",
      "[CV 1/5] END ............C=0.1, gamma=0.0001, kernel=sigmoid; total time=   0.0s\n",
      "[CV 2/5] END ............C=0.1, gamma=0.0001, kernel=sigmoid; total time=   0.0s\n",
      "[CV 3/5] END ............C=0.1, gamma=0.0001, kernel=sigmoid; total time=   0.0s\n",
      "[CV 4/5] END ............C=0.1, gamma=0.0001, kernel=sigmoid; total time=   0.0s\n",
      "[CV 5/5] END ............C=0.1, gamma=0.0001, kernel=sigmoid; total time=   0.0s\n",
      "[CV 1/5] END ....................C=1, gamma=1, kernel=linear; total time=   0.0s\n",
      "[CV 2/5] END ....................C=1, gamma=1, kernel=linear; total time=   0.0s\n",
      "[CV 3/5] END ....................C=1, gamma=1, kernel=linear; total time=   0.0s\n",
      "[CV 4/5] END ....................C=1, gamma=1, kernel=linear; total time=   0.0s\n",
      "[CV 5/5] END ....................C=1, gamma=1, kernel=linear; total time=   0.0s\n",
      "[CV 1/5] END ......................C=1, gamma=1, kernel=poly; total time=   0.0s\n",
      "[CV 2/5] END ......................C=1, gamma=1, kernel=poly; total time=   0.0s\n",
      "[CV 3/5] END ......................C=1, gamma=1, kernel=poly; total time=   0.0s\n",
      "[CV 4/5] END ......................C=1, gamma=1, kernel=poly; total time=   0.0s\n",
      "[CV 5/5] END ......................C=1, gamma=1, kernel=poly; total time=   0.0s\n",
      "[CV 1/5] END .......................C=1, gamma=1, kernel=rbf; total time=   0.0s\n",
      "[CV 2/5] END .......................C=1, gamma=1, kernel=rbf; total time=   0.0s\n"
     ]
    },
    {
     "name": "stdout",
     "output_type": "stream",
     "text": [
      "[CV 3/5] END .......................C=1, gamma=1, kernel=rbf; total time=   0.0s\n",
      "[CV 4/5] END .......................C=1, gamma=1, kernel=rbf; total time=   0.0s\n",
      "[CV 5/5] END .......................C=1, gamma=1, kernel=rbf; total time=   0.0s\n",
      "[CV 1/5] END ...................C=1, gamma=1, kernel=sigmoid; total time=   0.0s\n",
      "[CV 2/5] END ...................C=1, gamma=1, kernel=sigmoid; total time=   0.0s\n",
      "[CV 3/5] END ...................C=1, gamma=1, kernel=sigmoid; total time=   0.0s\n",
      "[CV 4/5] END ...................C=1, gamma=1, kernel=sigmoid; total time=   0.0s\n",
      "[CV 5/5] END ...................C=1, gamma=1, kernel=sigmoid; total time=   0.0s\n",
      "[CV 1/5] END ..................C=1, gamma=0.1, kernel=linear; total time=   0.0s\n",
      "[CV 2/5] END ..................C=1, gamma=0.1, kernel=linear; total time=   0.0s\n",
      "[CV 3/5] END ..................C=1, gamma=0.1, kernel=linear; total time=   0.0s\n",
      "[CV 4/5] END ..................C=1, gamma=0.1, kernel=linear; total time=   0.0s\n",
      "[CV 5/5] END ..................C=1, gamma=0.1, kernel=linear; total time=   0.0s\n",
      "[CV 1/5] END ....................C=1, gamma=0.1, kernel=poly; total time=   0.0s\n",
      "[CV 2/5] END ....................C=1, gamma=0.1, kernel=poly; total time=   0.0s\n",
      "[CV 3/5] END ....................C=1, gamma=0.1, kernel=poly; total time=   0.0s\n",
      "[CV 4/5] END ....................C=1, gamma=0.1, kernel=poly; total time=   0.0s\n",
      "[CV 5/5] END ....................C=1, gamma=0.1, kernel=poly; total time=   0.0s\n",
      "[CV 1/5] END .....................C=1, gamma=0.1, kernel=rbf; total time=   0.0s\n",
      "[CV 2/5] END .....................C=1, gamma=0.1, kernel=rbf; total time=   0.0s\n",
      "[CV 3/5] END .....................C=1, gamma=0.1, kernel=rbf; total time=   0.0s\n",
      "[CV 4/5] END .....................C=1, gamma=0.1, kernel=rbf; total time=   0.0s\n",
      "[CV 5/5] END .....................C=1, gamma=0.1, kernel=rbf; total time=   0.0s\n",
      "[CV 1/5] END .................C=1, gamma=0.1, kernel=sigmoid; total time=   0.0s\n",
      "[CV 2/5] END .................C=1, gamma=0.1, kernel=sigmoid; total time=   0.0s\n",
      "[CV 3/5] END .................C=1, gamma=0.1, kernel=sigmoid; total time=   0.0s\n",
      "[CV 4/5] END .................C=1, gamma=0.1, kernel=sigmoid; total time=   0.0s\n",
      "[CV 5/5] END .................C=1, gamma=0.1, kernel=sigmoid; total time=   0.0s\n",
      "[CV 1/5] END .................C=1, gamma=0.01, kernel=linear; total time=   0.0s\n",
      "[CV 2/5] END .................C=1, gamma=0.01, kernel=linear; total time=   0.0s\n",
      "[CV 3/5] END .................C=1, gamma=0.01, kernel=linear; total time=   0.0s\n",
      "[CV 4/5] END .................C=1, gamma=0.01, kernel=linear; total time=   0.0s\n",
      "[CV 5/5] END .................C=1, gamma=0.01, kernel=linear; total time=   0.0s\n",
      "[CV 1/5] END ...................C=1, gamma=0.01, kernel=poly; total time=   0.0s\n",
      "[CV 2/5] END ...................C=1, gamma=0.01, kernel=poly; total time=   0.0s\n",
      "[CV 3/5] END ...................C=1, gamma=0.01, kernel=poly; total time=   0.0s\n",
      "[CV 4/5] END ...................C=1, gamma=0.01, kernel=poly; total time=   0.0s\n",
      "[CV 5/5] END ...................C=1, gamma=0.01, kernel=poly; total time=   0.0s\n",
      "[CV 1/5] END ....................C=1, gamma=0.01, kernel=rbf; total time=   0.0s\n",
      "[CV 2/5] END ....................C=1, gamma=0.01, kernel=rbf; total time=   0.0s\n",
      "[CV 3/5] END ....................C=1, gamma=0.01, kernel=rbf; total time=   0.0s\n",
      "[CV 4/5] END ....................C=1, gamma=0.01, kernel=rbf; total time=   0.0s\n",
      "[CV 5/5] END ....................C=1, gamma=0.01, kernel=rbf; total time=   0.0s\n",
      "[CV 1/5] END ................C=1, gamma=0.01, kernel=sigmoid; total time=   0.0s\n",
      "[CV 2/5] END ................C=1, gamma=0.01, kernel=sigmoid; total time=   0.0s\n",
      "[CV 3/5] END ................C=1, gamma=0.01, kernel=sigmoid; total time=   0.0s\n",
      "[CV 4/5] END ................C=1, gamma=0.01, kernel=sigmoid; total time=   0.0s\n",
      "[CV 5/5] END ................C=1, gamma=0.01, kernel=sigmoid; total time=   0.0s\n",
      "[CV 1/5] END ................C=1, gamma=0.001, kernel=linear; total time=   0.0s\n",
      "[CV 2/5] END ................C=1, gamma=0.001, kernel=linear; total time=   0.0s\n",
      "[CV 3/5] END ................C=1, gamma=0.001, kernel=linear; total time=   0.0s\n",
      "[CV 4/5] END ................C=1, gamma=0.001, kernel=linear; total time=   0.0s\n",
      "[CV 5/5] END ................C=1, gamma=0.001, kernel=linear; total time=   0.0s\n",
      "[CV 1/5] END ..................C=1, gamma=0.001, kernel=poly; total time=   0.0s\n",
      "[CV 2/5] END ..................C=1, gamma=0.001, kernel=poly; total time=   0.0s\n",
      "[CV 3/5] END ..................C=1, gamma=0.001, kernel=poly; total time=   0.0s\n",
      "[CV 4/5] END ..................C=1, gamma=0.001, kernel=poly; total time=   0.0s\n",
      "[CV 5/5] END ..................C=1, gamma=0.001, kernel=poly; total time=   0.0s\n",
      "[CV 1/5] END ...................C=1, gamma=0.001, kernel=rbf; total time=   0.0s\n",
      "[CV 2/5] END ...................C=1, gamma=0.001, kernel=rbf; total time=   0.0s\n",
      "[CV 3/5] END ...................C=1, gamma=0.001, kernel=rbf; total time=   0.0s\n",
      "[CV 4/5] END ...................C=1, gamma=0.001, kernel=rbf; total time=   0.0s\n",
      "[CV 5/5] END ...................C=1, gamma=0.001, kernel=rbf; total time=   0.0s\n",
      "[CV 1/5] END ...............C=1, gamma=0.001, kernel=sigmoid; total time=   0.0s\n",
      "[CV 2/5] END ...............C=1, gamma=0.001, kernel=sigmoid; total time=   0.0s\n",
      "[CV 3/5] END ...............C=1, gamma=0.001, kernel=sigmoid; total time=   0.0s\n",
      "[CV 4/5] END ...............C=1, gamma=0.001, kernel=sigmoid; total time=   0.0s\n",
      "[CV 5/5] END ...............C=1, gamma=0.001, kernel=sigmoid; total time=   0.0s\n",
      "[CV 1/5] END ...............C=1, gamma=0.0001, kernel=linear; total time=   0.0s\n",
      "[CV 2/5] END ...............C=1, gamma=0.0001, kernel=linear; total time=   0.0s\n",
      "[CV 3/5] END ...............C=1, gamma=0.0001, kernel=linear; total time=   0.0s\n",
      "[CV 4/5] END ...............C=1, gamma=0.0001, kernel=linear; total time=   0.0s\n",
      "[CV 5/5] END ...............C=1, gamma=0.0001, kernel=linear; total time=   0.0s\n",
      "[CV 1/5] END .................C=1, gamma=0.0001, kernel=poly; total time=   0.0s\n",
      "[CV 2/5] END .................C=1, gamma=0.0001, kernel=poly; total time=   0.0s\n",
      "[CV 3/5] END .................C=1, gamma=0.0001, kernel=poly; total time=   0.0s\n",
      "[CV 4/5] END .................C=1, gamma=0.0001, kernel=poly; total time=   0.0s\n",
      "[CV 5/5] END .................C=1, gamma=0.0001, kernel=poly; total time=   0.0s\n",
      "[CV 1/5] END ..................C=1, gamma=0.0001, kernel=rbf; total time=   0.0s\n",
      "[CV 2/5] END ..................C=1, gamma=0.0001, kernel=rbf; total time=   0.0s\n",
      "[CV 3/5] END ..................C=1, gamma=0.0001, kernel=rbf; total time=   0.0s\n",
      "[CV 4/5] END ..................C=1, gamma=0.0001, kernel=rbf; total time=   0.0s\n",
      "[CV 5/5] END ..................C=1, gamma=0.0001, kernel=rbf; total time=   0.0s\n",
      "[CV 1/5] END ..............C=1, gamma=0.0001, kernel=sigmoid; total time=   0.0s\n",
      "[CV 2/5] END ..............C=1, gamma=0.0001, kernel=sigmoid; total time=   0.0s\n",
      "[CV 3/5] END ..............C=1, gamma=0.0001, kernel=sigmoid; total time=   0.0s\n",
      "[CV 4/5] END ..............C=1, gamma=0.0001, kernel=sigmoid; total time=   0.0s\n",
      "[CV 5/5] END ..............C=1, gamma=0.0001, kernel=sigmoid; total time=   0.0s\n",
      "[CV 1/5] END ...................C=10, gamma=1, kernel=linear; total time=   0.0s\n",
      "[CV 2/5] END ...................C=10, gamma=1, kernel=linear; total time=   0.0s\n",
      "[CV 3/5] END ...................C=10, gamma=1, kernel=linear; total time=   0.0s\n",
      "[CV 4/5] END ...................C=10, gamma=1, kernel=linear; total time=   0.0s\n",
      "[CV 5/5] END ...................C=10, gamma=1, kernel=linear; total time=   0.0s\n",
      "[CV 1/5] END .....................C=10, gamma=1, kernel=poly; total time=   0.0s\n",
      "[CV 2/5] END .....................C=10, gamma=1, kernel=poly; total time=   0.0s\n",
      "[CV 3/5] END .....................C=10, gamma=1, kernel=poly; total time=   0.0s\n",
      "[CV 4/5] END .....................C=10, gamma=1, kernel=poly; total time=   0.0s\n",
      "[CV 5/5] END .....................C=10, gamma=1, kernel=poly; total time=   0.0s\n",
      "[CV 1/5] END ......................C=10, gamma=1, kernel=rbf; total time=   0.0s\n",
      "[CV 2/5] END ......................C=10, gamma=1, kernel=rbf; total time=   0.0s\n",
      "[CV 3/5] END ......................C=10, gamma=1, kernel=rbf; total time=   0.0s\n",
      "[CV 4/5] END ......................C=10, gamma=1, kernel=rbf; total time=   0.0s\n",
      "[CV 5/5] END ......................C=10, gamma=1, kernel=rbf; total time=   0.0s\n",
      "[CV 1/5] END ..................C=10, gamma=1, kernel=sigmoid; total time=   0.0s\n",
      "[CV 2/5] END ..................C=10, gamma=1, kernel=sigmoid; total time=   0.0s\n",
      "[CV 3/5] END ..................C=10, gamma=1, kernel=sigmoid; total time=   0.0s\n",
      "[CV 4/5] END ..................C=10, gamma=1, kernel=sigmoid; total time=   0.0s\n",
      "[CV 5/5] END ..................C=10, gamma=1, kernel=sigmoid; total time=   0.0s\n",
      "[CV 1/5] END .................C=10, gamma=0.1, kernel=linear; total time=   0.0s\n",
      "[CV 2/5] END .................C=10, gamma=0.1, kernel=linear; total time=   0.0s\n",
      "[CV 3/5] END .................C=10, gamma=0.1, kernel=linear; total time=   0.0s\n",
      "[CV 4/5] END .................C=10, gamma=0.1, kernel=linear; total time=   0.0s\n",
      "[CV 5/5] END .................C=10, gamma=0.1, kernel=linear; total time=   0.0s\n",
      "[CV 1/5] END ...................C=10, gamma=0.1, kernel=poly; total time=   0.0s\n",
      "[CV 2/5] END ...................C=10, gamma=0.1, kernel=poly; total time=   0.0s\n",
      "[CV 3/5] END ...................C=10, gamma=0.1, kernel=poly; total time=   0.0s\n",
      "[CV 4/5] END ...................C=10, gamma=0.1, kernel=poly; total time=   0.0s\n",
      "[CV 5/5] END ...................C=10, gamma=0.1, kernel=poly; total time=   0.0s\n",
      "[CV 1/5] END ....................C=10, gamma=0.1, kernel=rbf; total time=   0.0s\n",
      "[CV 2/5] END ....................C=10, gamma=0.1, kernel=rbf; total time=   0.0s\n",
      "[CV 3/5] END ....................C=10, gamma=0.1, kernel=rbf; total time=   0.0s\n",
      "[CV 4/5] END ....................C=10, gamma=0.1, kernel=rbf; total time=   0.0s\n",
      "[CV 5/5] END ....................C=10, gamma=0.1, kernel=rbf; total time=   0.0s\n",
      "[CV 1/5] END ................C=10, gamma=0.1, kernel=sigmoid; total time=   0.0s\n",
      "[CV 2/5] END ................C=10, gamma=0.1, kernel=sigmoid; total time=   0.0s\n",
      "[CV 3/5] END ................C=10, gamma=0.1, kernel=sigmoid; total time=   0.0s\n",
      "[CV 4/5] END ................C=10, gamma=0.1, kernel=sigmoid; total time=   0.0s\n",
      "[CV 5/5] END ................C=10, gamma=0.1, kernel=sigmoid; total time=   0.0s\n",
      "[CV 1/5] END ................C=10, gamma=0.01, kernel=linear; total time=   0.0s\n",
      "[CV 2/5] END ................C=10, gamma=0.01, kernel=linear; total time=   0.0s\n",
      "[CV 3/5] END ................C=10, gamma=0.01, kernel=linear; total time=   0.0s\n",
      "[CV 4/5] END ................C=10, gamma=0.01, kernel=linear; total time=   0.0s\n",
      "[CV 5/5] END ................C=10, gamma=0.01, kernel=linear; total time=   0.0s\n",
      "[CV 1/5] END ..................C=10, gamma=0.01, kernel=poly; total time=   0.0s\n",
      "[CV 2/5] END ..................C=10, gamma=0.01, kernel=poly; total time=   0.0s\n",
      "[CV 3/5] END ..................C=10, gamma=0.01, kernel=poly; total time=   0.0s\n",
      "[CV 4/5] END ..................C=10, gamma=0.01, kernel=poly; total time=   0.0s\n",
      "[CV 5/5] END ..................C=10, gamma=0.01, kernel=poly; total time=   0.0s\n",
      "[CV 1/5] END ...................C=10, gamma=0.01, kernel=rbf; total time=   0.0s\n",
      "[CV 2/5] END ...................C=10, gamma=0.01, kernel=rbf; total time=   0.0s\n",
      "[CV 3/5] END ...................C=10, gamma=0.01, kernel=rbf; total time=   0.0s\n",
      "[CV 4/5] END ...................C=10, gamma=0.01, kernel=rbf; total time=   0.0s\n",
      "[CV 5/5] END ...................C=10, gamma=0.01, kernel=rbf; total time=   0.0s\n",
      "[CV 1/5] END ...............C=10, gamma=0.01, kernel=sigmoid; total time=   0.0s\n",
      "[CV 2/5] END ...............C=10, gamma=0.01, kernel=sigmoid; total time=   0.0s\n",
      "[CV 3/5] END ...............C=10, gamma=0.01, kernel=sigmoid; total time=   0.0s\n",
      "[CV 4/5] END ...............C=10, gamma=0.01, kernel=sigmoid; total time=   0.0s\n",
      "[CV 5/5] END ...............C=10, gamma=0.01, kernel=sigmoid; total time=   0.0s\n",
      "[CV 1/5] END ...............C=10, gamma=0.001, kernel=linear; total time=   0.0s\n",
      "[CV 2/5] END ...............C=10, gamma=0.001, kernel=linear; total time=   0.0s\n",
      "[CV 3/5] END ...............C=10, gamma=0.001, kernel=linear; total time=   0.0s\n",
      "[CV 4/5] END ...............C=10, gamma=0.001, kernel=linear; total time=   0.0s\n",
      "[CV 5/5] END ...............C=10, gamma=0.001, kernel=linear; total time=   0.0s\n",
      "[CV 1/5] END .................C=10, gamma=0.001, kernel=poly; total time=   0.0s\n",
      "[CV 2/5] END .................C=10, gamma=0.001, kernel=poly; total time=   0.0s\n",
      "[CV 3/5] END .................C=10, gamma=0.001, kernel=poly; total time=   0.0s\n",
      "[CV 4/5] END .................C=10, gamma=0.001, kernel=poly; total time=   0.0s\n",
      "[CV 5/5] END .................C=10, gamma=0.001, kernel=poly; total time=   0.0s\n"
     ]
    },
    {
     "name": "stdout",
     "output_type": "stream",
     "text": [
      "[CV 1/5] END ..................C=10, gamma=0.001, kernel=rbf; total time=   0.0s\n",
      "[CV 2/5] END ..................C=10, gamma=0.001, kernel=rbf; total time=   0.0s\n",
      "[CV 3/5] END ..................C=10, gamma=0.001, kernel=rbf; total time=   0.0s\n",
      "[CV 4/5] END ..................C=10, gamma=0.001, kernel=rbf; total time=   0.0s\n",
      "[CV 5/5] END ..................C=10, gamma=0.001, kernel=rbf; total time=   0.0s\n",
      "[CV 1/5] END ..............C=10, gamma=0.001, kernel=sigmoid; total time=   0.0s\n",
      "[CV 2/5] END ..............C=10, gamma=0.001, kernel=sigmoid; total time=   0.0s\n",
      "[CV 3/5] END ..............C=10, gamma=0.001, kernel=sigmoid; total time=   0.0s\n",
      "[CV 4/5] END ..............C=10, gamma=0.001, kernel=sigmoid; total time=   0.0s\n",
      "[CV 5/5] END ..............C=10, gamma=0.001, kernel=sigmoid; total time=   0.0s\n",
      "[CV 1/5] END ..............C=10, gamma=0.0001, kernel=linear; total time=   0.0s\n",
      "[CV 2/5] END ..............C=10, gamma=0.0001, kernel=linear; total time=   0.0s\n",
      "[CV 3/5] END ..............C=10, gamma=0.0001, kernel=linear; total time=   0.0s\n",
      "[CV 4/5] END ..............C=10, gamma=0.0001, kernel=linear; total time=   0.0s\n",
      "[CV 5/5] END ..............C=10, gamma=0.0001, kernel=linear; total time=   0.0s\n",
      "[CV 1/5] END ................C=10, gamma=0.0001, kernel=poly; total time=   0.0s\n",
      "[CV 2/5] END ................C=10, gamma=0.0001, kernel=poly; total time=   0.0s\n",
      "[CV 3/5] END ................C=10, gamma=0.0001, kernel=poly; total time=   0.0s\n",
      "[CV 4/5] END ................C=10, gamma=0.0001, kernel=poly; total time=   0.0s\n",
      "[CV 5/5] END ................C=10, gamma=0.0001, kernel=poly; total time=   0.0s\n",
      "[CV 1/5] END .................C=10, gamma=0.0001, kernel=rbf; total time=   0.0s\n",
      "[CV 2/5] END .................C=10, gamma=0.0001, kernel=rbf; total time=   0.0s\n",
      "[CV 3/5] END .................C=10, gamma=0.0001, kernel=rbf; total time=   0.0s\n",
      "[CV 4/5] END .................C=10, gamma=0.0001, kernel=rbf; total time=   0.0s\n",
      "[CV 5/5] END .................C=10, gamma=0.0001, kernel=rbf; total time=   0.0s\n",
      "[CV 1/5] END .............C=10, gamma=0.0001, kernel=sigmoid; total time=   0.0s\n",
      "[CV 2/5] END .............C=10, gamma=0.0001, kernel=sigmoid; total time=   0.0s\n",
      "[CV 3/5] END .............C=10, gamma=0.0001, kernel=sigmoid; total time=   0.0s\n",
      "[CV 4/5] END .............C=10, gamma=0.0001, kernel=sigmoid; total time=   0.0s\n",
      "[CV 5/5] END .............C=10, gamma=0.0001, kernel=sigmoid; total time=   0.0s\n",
      "[CV 1/5] END ..................C=100, gamma=1, kernel=linear; total time=   0.0s\n",
      "[CV 2/5] END ..................C=100, gamma=1, kernel=linear; total time=   0.0s\n",
      "[CV 3/5] END ..................C=100, gamma=1, kernel=linear; total time=   0.0s\n",
      "[CV 4/5] END ..................C=100, gamma=1, kernel=linear; total time=   0.0s\n",
      "[CV 5/5] END ..................C=100, gamma=1, kernel=linear; total time=   0.0s\n",
      "[CV 1/5] END ....................C=100, gamma=1, kernel=poly; total time=   0.0s\n",
      "[CV 2/5] END ....................C=100, gamma=1, kernel=poly; total time=   0.0s\n",
      "[CV 3/5] END ....................C=100, gamma=1, kernel=poly; total time=   0.0s\n",
      "[CV 4/5] END ....................C=100, gamma=1, kernel=poly; total time=   0.0s\n",
      "[CV 5/5] END ....................C=100, gamma=1, kernel=poly; total time=   0.0s\n",
      "[CV 1/5] END .....................C=100, gamma=1, kernel=rbf; total time=   0.0s\n",
      "[CV 2/5] END .....................C=100, gamma=1, kernel=rbf; total time=   0.0s\n",
      "[CV 3/5] END .....................C=100, gamma=1, kernel=rbf; total time=   0.0s\n",
      "[CV 4/5] END .....................C=100, gamma=1, kernel=rbf; total time=   0.0s\n",
      "[CV 5/5] END .....................C=100, gamma=1, kernel=rbf; total time=   0.0s\n",
      "[CV 1/5] END .................C=100, gamma=1, kernel=sigmoid; total time=   0.0s\n",
      "[CV 2/5] END .................C=100, gamma=1, kernel=sigmoid; total time=   0.0s\n",
      "[CV 3/5] END .................C=100, gamma=1, kernel=sigmoid; total time=   0.0s\n",
      "[CV 4/5] END .................C=100, gamma=1, kernel=sigmoid; total time=   0.0s\n",
      "[CV 5/5] END .................C=100, gamma=1, kernel=sigmoid; total time=   0.0s\n",
      "[CV 1/5] END ................C=100, gamma=0.1, kernel=linear; total time=   0.0s\n",
      "[CV 2/5] END ................C=100, gamma=0.1, kernel=linear; total time=   0.0s\n",
      "[CV 3/5] END ................C=100, gamma=0.1, kernel=linear; total time=   0.0s\n",
      "[CV 4/5] END ................C=100, gamma=0.1, kernel=linear; total time=   0.0s\n",
      "[CV 5/5] END ................C=100, gamma=0.1, kernel=linear; total time=   0.0s\n",
      "[CV 1/5] END ..................C=100, gamma=0.1, kernel=poly; total time=   0.0s\n",
      "[CV 2/5] END ..................C=100, gamma=0.1, kernel=poly; total time=   0.0s\n",
      "[CV 3/5] END ..................C=100, gamma=0.1, kernel=poly; total time=   0.0s\n",
      "[CV 4/5] END ..................C=100, gamma=0.1, kernel=poly; total time=   0.0s\n",
      "[CV 5/5] END ..................C=100, gamma=0.1, kernel=poly; total time=   0.0s\n",
      "[CV 1/5] END ...................C=100, gamma=0.1, kernel=rbf; total time=   0.0s\n",
      "[CV 2/5] END ...................C=100, gamma=0.1, kernel=rbf; total time=   0.0s\n",
      "[CV 3/5] END ...................C=100, gamma=0.1, kernel=rbf; total time=   0.0s\n",
      "[CV 4/5] END ...................C=100, gamma=0.1, kernel=rbf; total time=   0.0s\n",
      "[CV 5/5] END ...................C=100, gamma=0.1, kernel=rbf; total time=   0.0s\n",
      "[CV 1/5] END ...............C=100, gamma=0.1, kernel=sigmoid; total time=   0.0s\n",
      "[CV 2/5] END ...............C=100, gamma=0.1, kernel=sigmoid; total time=   0.0s\n",
      "[CV 3/5] END ...............C=100, gamma=0.1, kernel=sigmoid; total time=   0.0s\n",
      "[CV 4/5] END ...............C=100, gamma=0.1, kernel=sigmoid; total time=   0.0s\n",
      "[CV 5/5] END ...............C=100, gamma=0.1, kernel=sigmoid; total time=   0.0s\n",
      "[CV 1/5] END ...............C=100, gamma=0.01, kernel=linear; total time=   0.0s\n",
      "[CV 2/5] END ...............C=100, gamma=0.01, kernel=linear; total time=   0.0s\n",
      "[CV 3/5] END ...............C=100, gamma=0.01, kernel=linear; total time=   0.0s\n",
      "[CV 4/5] END ...............C=100, gamma=0.01, kernel=linear; total time=   0.0s\n",
      "[CV 5/5] END ...............C=100, gamma=0.01, kernel=linear; total time=   0.0s\n",
      "[CV 1/5] END .................C=100, gamma=0.01, kernel=poly; total time=   0.0s\n",
      "[CV 2/5] END .................C=100, gamma=0.01, kernel=poly; total time=   0.0s\n",
      "[CV 3/5] END .................C=100, gamma=0.01, kernel=poly; total time=   0.0s\n",
      "[CV 4/5] END .................C=100, gamma=0.01, kernel=poly; total time=   0.0s\n",
      "[CV 5/5] END .................C=100, gamma=0.01, kernel=poly; total time=   0.0s\n",
      "[CV 1/5] END ..................C=100, gamma=0.01, kernel=rbf; total time=   0.0s\n",
      "[CV 2/5] END ..................C=100, gamma=0.01, kernel=rbf; total time=   0.0s\n",
      "[CV 3/5] END ..................C=100, gamma=0.01, kernel=rbf; total time=   0.0s\n",
      "[CV 4/5] END ..................C=100, gamma=0.01, kernel=rbf; total time=   0.0s\n",
      "[CV 5/5] END ..................C=100, gamma=0.01, kernel=rbf; total time=   0.0s\n",
      "[CV 1/5] END ..............C=100, gamma=0.01, kernel=sigmoid; total time=   0.0s\n",
      "[CV 2/5] END ..............C=100, gamma=0.01, kernel=sigmoid; total time=   0.0s\n",
      "[CV 3/5] END ..............C=100, gamma=0.01, kernel=sigmoid; total time=   0.0s\n",
      "[CV 4/5] END ..............C=100, gamma=0.01, kernel=sigmoid; total time=   0.0s\n",
      "[CV 5/5] END ..............C=100, gamma=0.01, kernel=sigmoid; total time=   0.0s\n",
      "[CV 1/5] END ..............C=100, gamma=0.001, kernel=linear; total time=   0.0s\n",
      "[CV 2/5] END ..............C=100, gamma=0.001, kernel=linear; total time=   0.0s\n",
      "[CV 3/5] END ..............C=100, gamma=0.001, kernel=linear; total time=   0.0s\n",
      "[CV 4/5] END ..............C=100, gamma=0.001, kernel=linear; total time=   0.0s\n",
      "[CV 5/5] END ..............C=100, gamma=0.001, kernel=linear; total time=   0.0s\n",
      "[CV 1/5] END ................C=100, gamma=0.001, kernel=poly; total time=   0.0s\n",
      "[CV 2/5] END ................C=100, gamma=0.001, kernel=poly; total time=   0.0s\n",
      "[CV 3/5] END ................C=100, gamma=0.001, kernel=poly; total time=   0.0s\n",
      "[CV 4/5] END ................C=100, gamma=0.001, kernel=poly; total time=   0.0s\n",
      "[CV 5/5] END ................C=100, gamma=0.001, kernel=poly; total time=   0.0s\n",
      "[CV 1/5] END .................C=100, gamma=0.001, kernel=rbf; total time=   0.0s\n",
      "[CV 2/5] END .................C=100, gamma=0.001, kernel=rbf; total time=   0.0s\n",
      "[CV 3/5] END .................C=100, gamma=0.001, kernel=rbf; total time=   0.0s\n",
      "[CV 4/5] END .................C=100, gamma=0.001, kernel=rbf; total time=   0.0s\n",
      "[CV 5/5] END .................C=100, gamma=0.001, kernel=rbf; total time=   0.0s\n",
      "[CV 1/5] END .............C=100, gamma=0.001, kernel=sigmoid; total time=   0.0s\n",
      "[CV 2/5] END .............C=100, gamma=0.001, kernel=sigmoid; total time=   0.0s\n",
      "[CV 3/5] END .............C=100, gamma=0.001, kernel=sigmoid; total time=   0.0s\n",
      "[CV 4/5] END .............C=100, gamma=0.001, kernel=sigmoid; total time=   0.0s\n",
      "[CV 5/5] END .............C=100, gamma=0.001, kernel=sigmoid; total time=   0.0s\n",
      "[CV 1/5] END .............C=100, gamma=0.0001, kernel=linear; total time=   0.0s\n",
      "[CV 2/5] END .............C=100, gamma=0.0001, kernel=linear; total time=   0.0s\n",
      "[CV 3/5] END .............C=100, gamma=0.0001, kernel=linear; total time=   0.0s\n",
      "[CV 4/5] END .............C=100, gamma=0.0001, kernel=linear; total time=   0.0s\n",
      "[CV 5/5] END .............C=100, gamma=0.0001, kernel=linear; total time=   0.0s\n",
      "[CV 1/5] END ...............C=100, gamma=0.0001, kernel=poly; total time=   0.0s\n",
      "[CV 2/5] END ...............C=100, gamma=0.0001, kernel=poly; total time=   0.0s\n",
      "[CV 3/5] END ...............C=100, gamma=0.0001, kernel=poly; total time=   0.0s\n",
      "[CV 4/5] END ...............C=100, gamma=0.0001, kernel=poly; total time=   0.0s\n",
      "[CV 5/5] END ...............C=100, gamma=0.0001, kernel=poly; total time=   0.0s\n",
      "[CV 1/5] END ................C=100, gamma=0.0001, kernel=rbf; total time=   0.0s\n",
      "[CV 2/5] END ................C=100, gamma=0.0001, kernel=rbf; total time=   0.0s\n",
      "[CV 3/5] END ................C=100, gamma=0.0001, kernel=rbf; total time=   0.0s\n",
      "[CV 4/5] END ................C=100, gamma=0.0001, kernel=rbf; total time=   0.0s\n",
      "[CV 5/5] END ................C=100, gamma=0.0001, kernel=rbf; total time=   0.0s\n",
      "[CV 1/5] END ............C=100, gamma=0.0001, kernel=sigmoid; total time=   0.0s\n",
      "[CV 2/5] END ............C=100, gamma=0.0001, kernel=sigmoid; total time=   0.0s\n",
      "[CV 3/5] END ............C=100, gamma=0.0001, kernel=sigmoid; total time=   0.0s\n",
      "[CV 4/5] END ............C=100, gamma=0.0001, kernel=sigmoid; total time=   0.0s\n",
      "[CV 5/5] END ............C=100, gamma=0.0001, kernel=sigmoid; total time=   0.0s\n",
      "[CV 1/5] END .................C=1000, gamma=1, kernel=linear; total time=   0.0s\n",
      "[CV 2/5] END .................C=1000, gamma=1, kernel=linear; total time=   0.0s\n",
      "[CV 3/5] END .................C=1000, gamma=1, kernel=linear; total time=   0.0s\n",
      "[CV 4/5] END .................C=1000, gamma=1, kernel=linear; total time=   0.0s\n",
      "[CV 5/5] END .................C=1000, gamma=1, kernel=linear; total time=   0.0s\n",
      "[CV 1/5] END ...................C=1000, gamma=1, kernel=poly; total time=   0.0s\n",
      "[CV 2/5] END ...................C=1000, gamma=1, kernel=poly; total time=   0.0s\n",
      "[CV 3/5] END ...................C=1000, gamma=1, kernel=poly; total time=   0.0s\n",
      "[CV 4/5] END ...................C=1000, gamma=1, kernel=poly; total time=   0.0s\n",
      "[CV 5/5] END ...................C=1000, gamma=1, kernel=poly; total time=   0.0s\n",
      "[CV 1/5] END ....................C=1000, gamma=1, kernel=rbf; total time=   0.0s\n",
      "[CV 2/5] END ....................C=1000, gamma=1, kernel=rbf; total time=   0.0s\n",
      "[CV 3/5] END ....................C=1000, gamma=1, kernel=rbf; total time=   0.0s\n",
      "[CV 4/5] END ....................C=1000, gamma=1, kernel=rbf; total time=   0.0s\n",
      "[CV 5/5] END ....................C=1000, gamma=1, kernel=rbf; total time=   0.0s\n",
      "[CV 1/5] END ................C=1000, gamma=1, kernel=sigmoid; total time=   0.0s\n",
      "[CV 2/5] END ................C=1000, gamma=1, kernel=sigmoid; total time=   0.0s\n",
      "[CV 3/5] END ................C=1000, gamma=1, kernel=sigmoid; total time=   0.0s\n",
      "[CV 4/5] END ................C=1000, gamma=1, kernel=sigmoid; total time=   0.0s\n",
      "[CV 5/5] END ................C=1000, gamma=1, kernel=sigmoid; total time=   0.0s\n",
      "[CV 1/5] END ...............C=1000, gamma=0.1, kernel=linear; total time=   0.0s\n",
      "[CV 2/5] END ...............C=1000, gamma=0.1, kernel=linear; total time=   0.0s\n",
      "[CV 3/5] END ...............C=1000, gamma=0.1, kernel=linear; total time=   0.0s\n",
      "[CV 4/5] END ...............C=1000, gamma=0.1, kernel=linear; total time=   0.0s\n",
      "[CV 5/5] END ...............C=1000, gamma=0.1, kernel=linear; total time=   0.0s\n",
      "[CV 1/5] END .................C=1000, gamma=0.1, kernel=poly; total time=   0.0s\n",
      "[CV 2/5] END .................C=1000, gamma=0.1, kernel=poly; total time=   0.0s\n",
      "[CV 3/5] END .................C=1000, gamma=0.1, kernel=poly; total time=   0.0s\n"
     ]
    },
    {
     "name": "stdout",
     "output_type": "stream",
     "text": [
      "[CV 4/5] END .................C=1000, gamma=0.1, kernel=poly; total time=   0.0s\n",
      "[CV 5/5] END .................C=1000, gamma=0.1, kernel=poly; total time=   0.0s\n",
      "[CV 1/5] END ..................C=1000, gamma=0.1, kernel=rbf; total time=   0.0s\n",
      "[CV 2/5] END ..................C=1000, gamma=0.1, kernel=rbf; total time=   0.0s\n",
      "[CV 3/5] END ..................C=1000, gamma=0.1, kernel=rbf; total time=   0.0s\n",
      "[CV 4/5] END ..................C=1000, gamma=0.1, kernel=rbf; total time=   0.0s\n",
      "[CV 5/5] END ..................C=1000, gamma=0.1, kernel=rbf; total time=   0.0s\n",
      "[CV 1/5] END ..............C=1000, gamma=0.1, kernel=sigmoid; total time=   0.0s\n",
      "[CV 2/5] END ..............C=1000, gamma=0.1, kernel=sigmoid; total time=   0.0s\n",
      "[CV 3/5] END ..............C=1000, gamma=0.1, kernel=sigmoid; total time=   0.0s\n",
      "[CV 4/5] END ..............C=1000, gamma=0.1, kernel=sigmoid; total time=   0.0s\n",
      "[CV 5/5] END ..............C=1000, gamma=0.1, kernel=sigmoid; total time=   0.0s\n",
      "[CV 1/5] END ..............C=1000, gamma=0.01, kernel=linear; total time=   0.0s\n",
      "[CV 2/5] END ..............C=1000, gamma=0.01, kernel=linear; total time=   0.0s\n",
      "[CV 3/5] END ..............C=1000, gamma=0.01, kernel=linear; total time=   0.0s\n",
      "[CV 4/5] END ..............C=1000, gamma=0.01, kernel=linear; total time=   0.0s\n",
      "[CV 5/5] END ..............C=1000, gamma=0.01, kernel=linear; total time=   0.0s\n",
      "[CV 1/5] END ................C=1000, gamma=0.01, kernel=poly; total time=   0.0s\n",
      "[CV 2/5] END ................C=1000, gamma=0.01, kernel=poly; total time=   0.0s\n",
      "[CV 3/5] END ................C=1000, gamma=0.01, kernel=poly; total time=   0.0s\n",
      "[CV 4/5] END ................C=1000, gamma=0.01, kernel=poly; total time=   0.0s\n",
      "[CV 5/5] END ................C=1000, gamma=0.01, kernel=poly; total time=   0.0s\n",
      "[CV 1/5] END .................C=1000, gamma=0.01, kernel=rbf; total time=   0.0s\n",
      "[CV 2/5] END .................C=1000, gamma=0.01, kernel=rbf; total time=   0.0s\n",
      "[CV 3/5] END .................C=1000, gamma=0.01, kernel=rbf; total time=   0.0s\n",
      "[CV 4/5] END .................C=1000, gamma=0.01, kernel=rbf; total time=   0.0s\n",
      "[CV 5/5] END .................C=1000, gamma=0.01, kernel=rbf; total time=   0.0s\n",
      "[CV 1/5] END .............C=1000, gamma=0.01, kernel=sigmoid; total time=   0.0s\n",
      "[CV 2/5] END .............C=1000, gamma=0.01, kernel=sigmoid; total time=   0.0s\n",
      "[CV 3/5] END .............C=1000, gamma=0.01, kernel=sigmoid; total time=   0.0s\n",
      "[CV 4/5] END .............C=1000, gamma=0.01, kernel=sigmoid; total time=   0.0s\n",
      "[CV 5/5] END .............C=1000, gamma=0.01, kernel=sigmoid; total time=   0.0s\n",
      "[CV 1/5] END .............C=1000, gamma=0.001, kernel=linear; total time=   0.0s\n",
      "[CV 2/5] END .............C=1000, gamma=0.001, kernel=linear; total time=   0.0s\n",
      "[CV 3/5] END .............C=1000, gamma=0.001, kernel=linear; total time=   0.0s\n",
      "[CV 4/5] END .............C=1000, gamma=0.001, kernel=linear; total time=   0.0s\n",
      "[CV 5/5] END .............C=1000, gamma=0.001, kernel=linear; total time=   0.0s\n",
      "[CV 1/5] END ...............C=1000, gamma=0.001, kernel=poly; total time=   0.0s\n",
      "[CV 2/5] END ...............C=1000, gamma=0.001, kernel=poly; total time=   0.0s\n",
      "[CV 3/5] END ...............C=1000, gamma=0.001, kernel=poly; total time=   0.0s\n",
      "[CV 4/5] END ...............C=1000, gamma=0.001, kernel=poly; total time=   0.0s\n",
      "[CV 5/5] END ...............C=1000, gamma=0.001, kernel=poly; total time=   0.0s\n",
      "[CV 1/5] END ................C=1000, gamma=0.001, kernel=rbf; total time=   0.0s\n",
      "[CV 2/5] END ................C=1000, gamma=0.001, kernel=rbf; total time=   0.0s\n",
      "[CV 3/5] END ................C=1000, gamma=0.001, kernel=rbf; total time=   0.0s\n",
      "[CV 4/5] END ................C=1000, gamma=0.001, kernel=rbf; total time=   0.0s\n",
      "[CV 5/5] END ................C=1000, gamma=0.001, kernel=rbf; total time=   0.0s\n",
      "[CV 1/5] END ............C=1000, gamma=0.001, kernel=sigmoid; total time=   0.0s\n",
      "[CV 2/5] END ............C=1000, gamma=0.001, kernel=sigmoid; total time=   0.0s\n",
      "[CV 3/5] END ............C=1000, gamma=0.001, kernel=sigmoid; total time=   0.0s\n",
      "[CV 4/5] END ............C=1000, gamma=0.001, kernel=sigmoid; total time=   0.0s\n",
      "[CV 5/5] END ............C=1000, gamma=0.001, kernel=sigmoid; total time=   0.0s\n",
      "[CV 1/5] END ............C=1000, gamma=0.0001, kernel=linear; total time=   0.0s\n",
      "[CV 2/5] END ............C=1000, gamma=0.0001, kernel=linear; total time=   0.0s\n",
      "[CV 3/5] END ............C=1000, gamma=0.0001, kernel=linear; total time=   0.0s\n",
      "[CV 4/5] END ............C=1000, gamma=0.0001, kernel=linear; total time=   0.0s\n",
      "[CV 5/5] END ............C=1000, gamma=0.0001, kernel=linear; total time=   0.0s\n",
      "[CV 1/5] END ..............C=1000, gamma=0.0001, kernel=poly; total time=   0.0s\n",
      "[CV 2/5] END ..............C=1000, gamma=0.0001, kernel=poly; total time=   0.0s\n",
      "[CV 3/5] END ..............C=1000, gamma=0.0001, kernel=poly; total time=   0.0s\n",
      "[CV 4/5] END ..............C=1000, gamma=0.0001, kernel=poly; total time=   0.0s\n",
      "[CV 5/5] END ..............C=1000, gamma=0.0001, kernel=poly; total time=   0.0s\n",
      "[CV 1/5] END ...............C=1000, gamma=0.0001, kernel=rbf; total time=   0.0s\n",
      "[CV 2/5] END ...............C=1000, gamma=0.0001, kernel=rbf; total time=   0.0s\n",
      "[CV 3/5] END ...............C=1000, gamma=0.0001, kernel=rbf; total time=   0.0s\n",
      "[CV 4/5] END ...............C=1000, gamma=0.0001, kernel=rbf; total time=   0.0s\n",
      "[CV 5/5] END ...............C=1000, gamma=0.0001, kernel=rbf; total time=   0.0s\n",
      "[CV 1/5] END ...........C=1000, gamma=0.0001, kernel=sigmoid; total time=   0.0s\n",
      "[CV 2/5] END ...........C=1000, gamma=0.0001, kernel=sigmoid; total time=   0.0s\n",
      "[CV 3/5] END ...........C=1000, gamma=0.0001, kernel=sigmoid; total time=   0.0s\n",
      "[CV 4/5] END ...........C=1000, gamma=0.0001, kernel=sigmoid; total time=   0.0s\n",
      "[CV 5/5] END ...........C=1000, gamma=0.0001, kernel=sigmoid; total time=   0.0s\n",
      "{'C': 100, 'gamma': 1, 'kernel': 'linear'}\n",
      "SVC(C=100, gamma=1, kernel='linear')\n"
     ]
    }
   ],
   "source": [
    "np.random.seed(123)\n",
    "\n",
    "# defining parameter range\n",
    "param_grid = {'C': [0.1, 1, 10, 100, 1000], \n",
    "              'gamma': [1, 0.1, 0.01, 0.001, 0.0001],\n",
    "              'kernel': ['linear', 'poly', 'rbf', 'sigmoid']} \n",
    "  \n",
    "grid = GridSearchCV(SVC(), param_grid, refit = True, verbose = 3)\n",
    "  \n",
    "# fitting the model for grid search\n",
    "grid.fit(X_train, y_train)\n",
    "\n",
    "# print best parameter after tuning\n",
    "print(grid.best_params_)\n",
    "  \n",
    "# print how our model looks after hyper-parameter tuning\n",
    "print(grid.best_estimator_)"
   ]
  },
  {
   "cell_type": "code",
   "execution_count": 23,
   "id": "72acb9ad",
   "metadata": {},
   "outputs": [
    {
     "name": "stdout",
     "output_type": "stream",
     "text": [
      "              precision    recall  f1-score   support\n",
      "\n",
      "           0       1.00      1.00      1.00        11\n",
      "           1       0.94      1.00      0.97        15\n",
      "           2       1.00      0.95      0.97        19\n",
      "\n",
      "    accuracy                           0.98        45\n",
      "   macro avg       0.98      0.98      0.98        45\n",
      "weighted avg       0.98      0.98      0.98        45\n",
      "\n"
     ]
    }
   ],
   "source": [
    "#predict and print classification report\n",
    "grid_predictions = grid.predict(X_test)\n",
    "  \n",
    "# print classification report\n",
    "print(classification_report(y_test, grid_predictions))"
   ]
  },
  {
   "cell_type": "code",
   "execution_count": 24,
   "id": "4cc7bbf5",
   "metadata": {},
   "outputs": [
    {
     "data": {
      "text/plain": [
       "array([[11,  0,  0],\n",
       "       [ 0, 15,  0],\n",
       "       [ 0,  1, 18]], dtype=int64)"
      ]
     },
     "execution_count": 24,
     "metadata": {},
     "output_type": "execute_result"
    }
   ],
   "source": [
    "# confusion matrix\n",
    "cmg = confusion_matrix(y_test,grid_predictions)\n",
    "cmg"
   ]
  },
  {
   "cell_type": "code",
   "execution_count": 25,
   "id": "c8006407",
   "metadata": {},
   "outputs": [
    {
     "data": {
      "text/plain": [
       "Text(0.5, 1.0, 'Confusion Matrix for Iris Dataset using Parameter Tuning')"
      ]
     },
     "execution_count": 25,
     "metadata": {},
     "output_type": "execute_result"
    },
    {
     "data": {
      "image/png": "[encoded data removed]",
      "text/plain": [
       "<Figure size 720x432 with 2 Axes>"
      ]
     },
     "metadata": {},
     "output_type": "display_data"
    }
   ],
   "source": [
    "# Plotting confusion matrix\n",
    "\n",
    "fig = plt.figure(figsize = (10, 6))\n",
    "sns.heatmap(cmg, annot = True)\n",
    "\n",
    "# Labeling the X-axis\n",
    "plt.xlabel(\"Predicted Class\")\n",
    "\n",
    "# Labeling the Y-axis\n",
    "plt.ylabel(\"True Class\")\n",
    "\n",
    "# Give a title to the graph\n",
    "plt.title(\"Confusion Matrix for Iris Dataset using Parameter Tuning\")"
   ]
  },
  {
   "cell_type": "markdown",
   "id": "dfc0cc56",
   "metadata": {},
   "source": [
    "#### SVM using Adaboost Algorithm"
   ]
  },
  {
   "cell_type": "code",
   "execution_count": 26,
   "id": "9cd4ad00",
   "metadata": {},
   "outputs": [],
   "source": [
    "svc = SVC(probability = True, kernel='linear')"
   ]
  },
  {
   "cell_type": "code",
   "execution_count": 27,
   "id": "1d60d0a4",
   "metadata": {},
   "outputs": [],
   "source": [
    "np.random.seed (123)\n",
    "\n",
    "# Create adaboost classifier object\n",
    "adaboost = AdaBoostClassifier(n_estimators = 5, base_estimator = svc,learning_rate = 1)\n",
    "\n",
    "# Train Adaboost Classifer\n",
    "model = adaboost.fit(X_train, y_train)\n",
    "\n",
    "#Predict the response for test dataset\n",
    "y_pred = model.predict(X_test)"
   ]
  },
  {
   "cell_type": "code",
   "execution_count": 28,
   "id": "4553a382",
   "metadata": {},
   "outputs": [
    {
     "name": "stdout",
     "output_type": "stream",
     "text": [
      "              precision    recall  f1-score   support\n",
      "\n",
      "           0       1.00      1.00      1.00        11\n",
      "           1       1.00      0.93      0.97        15\n",
      "           2       0.95      1.00      0.97        19\n",
      "\n",
      "    accuracy                           0.98        45\n",
      "   macro avg       0.98      0.98      0.98        45\n",
      "weighted avg       0.98      0.98      0.98        45\n",
      "\n"
     ]
    }
   ],
   "source": [
    "# Print classification report\n",
    "print(classification_report(y_test, y_pred))"
   ]
  },
  {
   "cell_type": "code",
   "execution_count": 29,
   "id": "7316f2ff",
   "metadata": {},
   "outputs": [
    {
     "data": {
      "text/plain": [
       "array([[11,  0,  0],\n",
       "       [ 0, 14,  1],\n",
       "       [ 0,  0, 19]], dtype=int64)"
      ]
     },
     "execution_count": 29,
     "metadata": {},
     "output_type": "execute_result"
    }
   ],
   "source": [
    "cmb = confusion_matrix(y_test,y_pred)\n",
    "cmb"
   ]
  },
  {
   "cell_type": "code",
   "execution_count": 30,
   "id": "ec14143d",
   "metadata": {},
   "outputs": [
    {
     "data": {
      "text/plain": [
       "Text(0.5, 1.0, 'Confusion Matrix for Iris Dataset after Boosting')"
      ]
     },
     "execution_count": 30,
     "metadata": {},
     "output_type": "execute_result"
    },
    {
     "data": {
      "image/png": "[encoded data removed]",
      "text/plain": [
       "<Figure size 720x432 with 2 Axes>"
      ]
     },
     "metadata": {},
     "output_type": "display_data"
    }
   ],
   "source": [
    "fig = plt.figure(figsize = (10, 6))\n",
    "sns.heatmap(cmb, annot = True)\n",
    "\n",
    "# Labeling the X-axis\n",
    "plt.xlabel(\"Predicted Class\")\n",
    "\n",
    "# Labeling the Y-axis\n",
    "plt.ylabel(\"True Class\")\n",
    "\n",
    "# Give a title to the graph\n",
    "plt.title(\"Confusion Matrix for Iris Dataset after Boosting\")"
   ]
  },
  {
   "cell_type": "markdown",
   "id": "98c85c0f",
   "metadata": {},
   "source": [
    "Berdasar hasil di atas, hasil akurasi yang diperoleh berbeda antara SVM Classifier(parameter kita yang menentukan), SVM Classifier dengan Parameter Tuning (program yang akan mencari parameter terbaik dari input yang dimasukkan), serta SVM Classifier dengan Adaboost Algorithm. Berikut hasil yang diperoleh :\n",
    "\n",
    "1. SVM Classifier (42 Benar, 3 Salah, Akurasi 93%)\n",
    "1. SVM Classifier with Parameter Tuning (44 Benar, 1 Salah, Akurasi 98%)\n",
    "3. SVM Classifier with Adaboost Algorithm (44 Benar, 1 Salah, Akurasi 98%)"
   ]
  },
  {
   "cell_type": "markdown",
   "id": "37ba9576",
   "metadata": {},
   "source": [
    "### 6. Build Model using Random Forest Classifier"
   ]
  },
  {
   "cell_type": "code",
   "execution_count": 31,
   "id": "8e991eab",
   "metadata": {},
   "outputs": [
    {
     "data": {
      "text/plain": [
       "RandomForestClassifier()"
      ]
     },
     "execution_count": 31,
     "metadata": {},
     "output_type": "execute_result"
    }
   ],
   "source": [
    "# Build Model Random Forest\n",
    "rf = RandomForestClassifier()\n",
    "rf.fit(X_train, y_train)"
   ]
  },
  {
   "cell_type": "code",
   "execution_count": 32,
   "id": "cc062fab",
   "metadata": {},
   "outputs": [
    {
     "name": "stdout",
     "output_type": "stream",
     "text": [
      "              precision    recall  f1-score   support\n",
      "\n",
      "           0       1.00      1.00      1.00        11\n",
      "           1       0.88      1.00      0.94        15\n",
      "           2       1.00      0.89      0.94        19\n",
      "\n",
      "    accuracy                           0.96        45\n",
      "   macro avg       0.96      0.96      0.96        45\n",
      "weighted avg       0.96      0.96      0.96        45\n",
      "\n"
     ]
    }
   ],
   "source": [
    "#Predict and print classification report\n",
    "\n",
    "y_preds = rf.predict(X_test)\n",
    "print(classification_report(y_test,y_preds))"
   ]
  },
  {
   "cell_type": "code",
   "execution_count": 33,
   "id": "082f1a09",
   "metadata": {},
   "outputs": [
    {
     "data": {
      "text/plain": [
       "array([[11,  0,  0],\n",
       "       [ 0, 15,  0],\n",
       "       [ 0,  2, 17]], dtype=int64)"
      ]
     },
     "execution_count": 33,
     "metadata": {},
     "output_type": "execute_result"
    }
   ],
   "source": [
    "#Confusion matrix\n",
    "cmr = confusion_matrix(y_test,y_preds)\n",
    "cmr"
   ]
  },
  {
   "cell_type": "code",
   "execution_count": 34,
   "id": "53d185b3",
   "metadata": {},
   "outputs": [
    {
     "data": {
      "text/plain": [
       "Text(0.5, 1.0, 'Confusion Matrix for Iris Dataset using Random Forest')"
      ]
     },
     "execution_count": 34,
     "metadata": {},
     "output_type": "execute_result"
    },
    {
     "data": {
      "image/png": "[encoded data removed]",
      "text/plain": [
       "<Figure size 720x432 with 2 Axes>"
      ]
     },
     "metadata": {},
     "output_type": "display_data"
    }
   ],
   "source": [
    "fig = plt.figure(figsize = (10, 6))\n",
    "sns.heatmap(cmr, annot = True)\n",
    "\n",
    "# Labeling the X-axis\n",
    "plt.xlabel(\"Predicted Class\")\n",
    "\n",
    "# Labeling the Y-axis\n",
    "plt.ylabel(\"True Class\")\n",
    "\n",
    "# Give a title to the graph\n",
    "plt.title(\"Confusion Matrix for Iris Dataset using Random Forest\")"
   ]
  },
  {
   "cell_type": "markdown",
   "id": "f38b3d4e",
   "metadata": {},
   "source": [
    "#### Random Forest using Parameter Tuning"
   ]
  },
  {
   "cell_type": "code",
   "execution_count": 35,
   "id": "efcae495",
   "metadata": {},
   "outputs": [
    {
     "name": "stdout",
     "output_type": "stream",
     "text": [
      "Fitting 5 folds for each of 6 candidates, totalling 30 fits\n",
      "[CV 1/5] END .................criterion=gini, n_estimators=5; total time=   0.0s\n",
      "[CV 2/5] END .................criterion=gini, n_estimators=5; total time=   0.0s\n",
      "[CV 3/5] END .................criterion=gini, n_estimators=5; total time=   0.0s\n",
      "[CV 4/5] END .................criterion=gini, n_estimators=5; total time=   0.0s\n",
      "[CV 5/5] END .................criterion=gini, n_estimators=5; total time=   0.0s\n",
      "[CV 1/5] END ................criterion=gini, n_estimators=10; total time=   0.0s\n",
      "[CV 2/5] END ................criterion=gini, n_estimators=10; total time=   0.0s\n",
      "[CV 3/5] END ................criterion=gini, n_estimators=10; total time=   0.0s\n",
      "[CV 4/5] END ................criterion=gini, n_estimators=10; total time=   0.0s\n",
      "[CV 5/5] END ................criterion=gini, n_estimators=10; total time=   0.0s\n",
      "[CV 1/5] END ................criterion=gini, n_estimators=15; total time=   0.0s\n",
      "[CV 2/5] END ................criterion=gini, n_estimators=15; total time=   0.0s\n",
      "[CV 3/5] END ................criterion=gini, n_estimators=15; total time=   0.0s\n",
      "[CV 4/5] END ................criterion=gini, n_estimators=15; total time=   0.0s\n",
      "[CV 5/5] END ................criterion=gini, n_estimators=15; total time=   0.0s\n",
      "[CV 1/5] END ..............criterion=entropy, n_estimators=5; total time=   0.0s\n",
      "[CV 2/5] END ..............criterion=entropy, n_estimators=5; total time=   0.0s\n",
      "[CV 3/5] END ..............criterion=entropy, n_estimators=5; total time=   0.0s\n",
      "[CV 4/5] END ..............criterion=entropy, n_estimators=5; total time=   0.0s\n",
      "[CV 5/5] END ..............criterion=entropy, n_estimators=5; total time=   0.0s\n",
      "[CV 1/5] END .............criterion=entropy, n_estimators=10; total time=   0.0s\n",
      "[CV 2/5] END .............criterion=entropy, n_estimators=10; total time=   0.0s\n",
      "[CV 3/5] END .............criterion=entropy, n_estimators=10; total time=   0.0s\n",
      "[CV 4/5] END .............criterion=entropy, n_estimators=10; total time=   0.0s\n",
      "[CV 5/5] END .............criterion=entropy, n_estimators=10; total time=   0.0s\n",
      "[CV 1/5] END .............criterion=entropy, n_estimators=15; total time=   0.0s\n",
      "[CV 2/5] END .............criterion=entropy, n_estimators=15; total time=   0.0s\n",
      "[CV 3/5] END .............criterion=entropy, n_estimators=15; total time=   0.0s\n",
      "[CV 4/5] END .............criterion=entropy, n_estimators=15; total time=   0.0s\n",
      "[CV 5/5] END .............criterion=entropy, n_estimators=15; total time=   0.0s\n",
      "{'criterion': 'gini', 'n_estimators': 5}\n",
      "RandomForestClassifier(n_estimators=5)\n"
     ]
    }
   ],
   "source": [
    "np.random.seed(123)\n",
    "\n",
    "# defining parameter range\n",
    "parameter = {'n_estimators':[5,10,15], \n",
    "              'criterion':['gini','entropy']} \n",
    "  \n",
    "grid_rf = GridSearchCV(RandomForestClassifier(), parameter, refit = True, verbose = 3)\n",
    "  \n",
    "# fitting the model for grid search\n",
    "grid_rf.fit(X_train, y_train)\n",
    "\n",
    "# print best parameter after tuning\n",
    "print(grid_rf.best_params_)\n",
    "  \n",
    "# print how our model looks after hyper-parameter tuning\n",
    "print(grid_rf.best_estimator_)"
   ]
  },
  {
   "cell_type": "code",
   "execution_count": 36,
   "id": "e29bb7e2",
   "metadata": {},
   "outputs": [
    {
     "name": "stdout",
     "output_type": "stream",
     "text": [
      "              precision    recall  f1-score   support\n",
      "\n",
      "           0       1.00      1.00      1.00        11\n",
      "           1       0.88      0.93      0.90        15\n",
      "           2       0.94      0.89      0.92        19\n",
      "\n",
      "    accuracy                           0.93        45\n",
      "   macro avg       0.94      0.94      0.94        45\n",
      "weighted avg       0.93      0.93      0.93        45\n",
      "\n"
     ]
    }
   ],
   "source": [
    "#predict and print classification report\n",
    "grid_rf_predictions = grid_rf.predict(X_test)\n",
    "  \n",
    "# print classification report\n",
    "print(classification_report(y_test, grid_rf_predictions))"
   ]
  },
  {
   "cell_type": "code",
   "execution_count": 37,
   "id": "c086ca82",
   "metadata": {},
   "outputs": [
    {
     "data": {
      "text/plain": [
       "array([[11,  0,  0],\n",
       "       [ 0, 14,  1],\n",
       "       [ 0,  2, 17]], dtype=int64)"
      ]
     },
     "execution_count": 37,
     "metadata": {},
     "output_type": "execute_result"
    }
   ],
   "source": [
    "# confusion matrix\n",
    "cmgr = confusion_matrix(y_test,grid_rf_predictions)\n",
    "cmgr"
   ]
  },
  {
   "cell_type": "code",
   "execution_count": 38,
   "id": "b3f5ecd6",
   "metadata": {},
   "outputs": [
    {
     "data": {
      "text/plain": [
       "Text(0.5, 1.0, 'Confusion Matrix for Iris Dataset using Parameter Tuning')"
      ]
     },
     "execution_count": 38,
     "metadata": {},
     "output_type": "execute_result"
    },
    {
     "data": {
      "image/png": "[encoded data removed]",
      "text/plain": [
       "<Figure size 720x432 with 2 Axes>"
      ]
     },
     "metadata": {},
     "output_type": "display_data"
    }
   ],
   "source": [
    "#Plotting confusion matrix\n",
    "\n",
    "fig = plt.figure(figsize = (10, 6))\n",
    "sns.heatmap(cmgr, annot = True)\n",
    "\n",
    "# Labeling the X-axis\n",
    "plt.xlabel(\"Predicted Class\")\n",
    "\n",
    "# Labeling the Y-axis\n",
    "plt.ylabel(\"True Class\")\n",
    "\n",
    "# Give a title to the graph\n",
    "plt.title(\"Confusion Matrix for Iris Dataset using Parameter Tuning\")"
   ]
  },
  {
   "cell_type": "markdown",
   "id": "5a0bce4b",
   "metadata": {},
   "source": [
    "#### Random Forest using Adaboost"
   ]
  },
  {
   "cell_type": "code",
   "execution_count": 39,
   "id": "b79317b9",
   "metadata": {},
   "outputs": [],
   "source": [
    "np.random.seed (123)\n",
    "\n",
    "# Create adaboost classifier object\n",
    "adaaboost = AdaBoostClassifier(n_estimators = 5, base_estimator = rf,learning_rate = 1)\n",
    "\n",
    "# Train Adaboost Classifer\n",
    "model = adaaboost.fit(X_train, y_train)\n",
    "\n",
    "#Predict the response for test dataset\n",
    "y_rf_pred = model.predict(X_test)"
   ]
  },
  {
   "cell_type": "code",
   "execution_count": 40,
   "id": "21f40da8",
   "metadata": {},
   "outputs": [
    {
     "name": "stdout",
     "output_type": "stream",
     "text": [
      "              precision    recall  f1-score   support\n",
      "\n",
      "           0       1.00      1.00      1.00        11\n",
      "           1       0.88      1.00      0.94        15\n",
      "           2       1.00      0.89      0.94        19\n",
      "\n",
      "    accuracy                           0.96        45\n",
      "   macro avg       0.96      0.96      0.96        45\n",
      "weighted avg       0.96      0.96      0.96        45\n",
      "\n"
     ]
    }
   ],
   "source": [
    "# Print classification report\n",
    "print(classification_report(y_test, y_rf_pred))"
   ]
  },
  {
   "cell_type": "code",
   "execution_count": 41,
   "id": "9530e3bd",
   "metadata": {},
   "outputs": [
    {
     "data": {
      "text/plain": [
       "array([[11,  0,  0],\n",
       "       [ 0, 15,  0],\n",
       "       [ 0,  2, 17]], dtype=int64)"
      ]
     },
     "execution_count": 41,
     "metadata": {},
     "output_type": "execute_result"
    }
   ],
   "source": [
    "cmbr = confusion_matrix(y_test,y_rf_pred)\n",
    "cmbr"
   ]
  },
  {
   "cell_type": "code",
   "execution_count": 42,
   "id": "0c9ba7c9",
   "metadata": {},
   "outputs": [
    {
     "data": {
      "text/plain": [
       "Text(0.5, 1.0, 'Confusion Matrix for Iris Dataset after Boosting')"
      ]
     },
     "execution_count": 42,
     "metadata": {},
     "output_type": "execute_result"
    },
    {
     "data": {
      "image/png": "[encoded data removed]",
      "text/plain": [
       "<Figure size 720x432 with 2 Axes>"
      ]
     },
     "metadata": {},
     "output_type": "display_data"
    }
   ],
   "source": [
    "fig = plt.figure(figsize = (10, 6))\n",
    "sns.heatmap(cmbr, annot = True)\n",
    "\n",
    "# Labeling the X-axis\n",
    "plt.xlabel(\"Predicted Class\")\n",
    "\n",
    "# Labeling the Y-axis\n",
    "plt.ylabel(\"True Class\")\n",
    "\n",
    "# Give a title to the graph\n",
    "plt.title(\"Confusion Matrix for Iris Dataset after Boosting\")"
   ]
  },
  {
   "cell_type": "markdown",
   "id": "d531c76b",
   "metadata": {},
   "source": [
    "Berdasar hasil di atas, hasil akurasi yang diperoleh berbeda antara Random Forest Classifier(parameter kita yang menentukan), Random Forest  Classifier dengan Parameter Tuning (program yang akan mencari parameter terbaik dari input yang dimasukkan), serta Random Forest  Classifier dengan Adaboost Algorithm. Berikut hasil yang diperoleh :\n",
    "\n",
    "1. Random Forest  Classifier (43 Benar, 2 Salah, Akurasi 96%)\n",
    "1. Random Forest  Classifier with Parameter Tuning (42 Benar, 3 Salah, Akurasi 93%)\n",
    "3. Random Forest  Classifier with Adaboost Algorithm (43 Benar, 2 Salah, Akurasi 96%)\n",
    "\n",
    "Jadi, secara keseluruhan hasilnya adalah Random Forest Classifier lebih baik tingkat akurasinya daripada SVM Classifier, meskipun pada Random Forest tidak diterapkan Parameter Tuning atau Adaboost Algortihm. Namun, pada algoritma SVM untuk memperoleh tingkat akurasi yang lebih baik disarankan untuk memakai optimisasi parameter (Parameter Tuning) atau menerapkan boosting dengan Adaboost Algorithm."
   ]
  }
 ],
 "metadata": {
  "kernelspec": {
   "display_name": "Python 3",
   "language": "python",
   "name": "python3"
  },
  "language_info": {
   "codemirror_mode": {
    "name": "ipython",
    "version": 3
   },
   "file_extension": ".py",
   "mimetype": "text/x-python",
   "name": "python",
   "nbconvert_exporter": "python",
   "pygments_lexer": "ipython3",
   "version": "3.8.8"
  }
 },
 "nbformat": 4,
 "nbformat_minor": 5
}
