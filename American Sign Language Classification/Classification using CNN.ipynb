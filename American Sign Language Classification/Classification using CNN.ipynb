{
 "cells": [
  {
   "cell_type": "markdown",
   "id": "6c45b8a5",
   "metadata": {},
   "source": [
    "### Import Library"
   ]
  },
  {
   "cell_type": "code",
   "execution_count": 1,
   "id": "2e1d91f1",
   "metadata": {},
   "outputs": [],
   "source": [
    "import numpy as np\n",
    "import pandas as pd\n",
    "import seaborn as sns\n",
    "import tensorflow as tf\n",
    "import keras\n",
    "import csv\n",
    "import cv2\n",
    "import os\n",
    "import zipfile\n",
    "import matplotlib.pyplot as plt\n",
    "%matplotlib inline"
   ]
  },
  {
   "cell_type": "code",
   "execution_count": 2,
   "id": "7e9862b6",
   "metadata": {},
   "outputs": [],
   "source": [
    "from keras.preprocessing.image import ImageDataGenerator\n",
    "from keras.layers import Conv2D, MaxPooling2D, Flatten, Dense\n",
    "from sklearn.metrics import plot_confusion_matrix\n",
    "from sklearn.metrics import classification_report\n",
    "from sklearn.metrics import confusion_matrix\n",
    "from keras.models import Sequential\n",
    "from keras import layers"
   ]
  },
  {
   "cell_type": "markdown",
   "id": "608cf9b8",
   "metadata": {},
   "source": [
    "### Load Data"
   ]
  },
  {
   "cell_type": "code",
   "execution_count": 3,
   "id": "03ae658a",
   "metadata": {},
   "outputs": [],
   "source": [
    "folder_path =('D:/Dataset')\n",
    "zip_path = os.path.join(folder_path, \"asl-dataset.zip\")\n",
    "zipper = zipfile.ZipFile(zip_path)\n",
    "zipper.extractall(folder_path)"
   ]
  },
  {
   "cell_type": "code",
   "execution_count": 4,
   "id": "f8d8c380",
   "metadata": {},
   "outputs": [],
   "source": [
    "train_datagen = ImageDataGenerator( rescale = 1./255)\n",
    "validation_datagen = ImageDataGenerator( rescale = 1./255)\n",
    "test_datagen = ImageDataGenerator(rescale = 1./255)"
   ]
  },
  {
   "cell_type": "code",
   "execution_count": 5,
   "id": "1c034055",
   "metadata": {},
   "outputs": [],
   "source": [
    "datagen = ImageDataGenerator(\n",
    "        validation_split = 0.2,\n",
    "        rescale=1./255,\n",
    "        shear_range=0.2,\n",
    "        zoom_range=0.2,\n",
    "        horizontal_flip=True)"
   ]
  },
  {
   "cell_type": "code",
   "execution_count": 6,
   "id": "b60bd6e8",
   "metadata": {},
   "outputs": [],
   "source": [
    "train_path = ('D:/Dataset/train/')\n",
    "validation_path = ('D:/Dataset/validation/')\n",
    "test_path = ('D:/Dataset/test/')"
   ]
  },
  {
   "cell_type": "code",
   "execution_count": 7,
   "id": "48015af0",
   "metadata": {},
   "outputs": [
    {
     "name": "stdout",
     "output_type": "stream",
     "text": [
      "Found 1832 images belonging to 36 classes.\n",
      "Found 431 images belonging to 36 classes.\n",
      "Found 252 images belonging to 36 classes.\n"
     ]
    }
   ],
   "source": [
    "train_generator = datagen.flow_from_directory(\n",
    "        train_path,\n",
    "        subset ='training',\n",
    "        target_size = (100, 100),\n",
    "        batch_size = 128,\n",
    "        class_mode = 'categorical')\n",
    "\n",
    "val_generator = datagen.flow_from_directory(\n",
    "        train_path,\n",
    "        subset ='validation',\n",
    "        target_size=(100, 100),\n",
    "        batch_size= 32,\n",
    "        class_mode='categorical')\n",
    "\n",
    "test_generator = test_datagen.flow_from_directory(\n",
    "        test_path,\n",
    "        target_size=(100, 100),\n",
    "        batch_size= 32,\n",
    "        class_mode='categorical')"
   ]
  },
  {
   "cell_type": "code",
   "execution_count": 8,
   "id": "54839c92",
   "metadata": {},
   "outputs": [
    {
     "data": {
      "text/plain": [
       "(400, 400, 3)"
      ]
     },
     "execution_count": 8,
     "metadata": {},
     "output_type": "execute_result"
    }
   ],
   "source": [
    "img = cv2.imread('D:/Dataset/train/0/hand1_0_bot_seg_1_cropped.jpeg')\n",
    "img.shape"
   ]
  },
  {
   "cell_type": "code",
   "execution_count": 9,
   "id": "be2afb64",
   "metadata": {},
   "outputs": [
    {
     "data": {
      "text/plain": [
       "{'0': 0,\n",
       " '1': 1,\n",
       " '2': 2,\n",
       " '3': 3,\n",
       " '4': 4,\n",
       " '5': 5,\n",
       " '6': 6,\n",
       " '7': 7,\n",
       " '8': 8,\n",
       " '9': 9,\n",
       " 'a': 10,\n",
       " 'b': 11,\n",
       " 'c': 12,\n",
       " 'd': 13,\n",
       " 'e': 14,\n",
       " 'f': 15,\n",
       " 'g': 16,\n",
       " 'h': 17,\n",
       " 'i': 18,\n",
       " 'j': 19,\n",
       " 'k': 20,\n",
       " 'l': 21,\n",
       " 'm': 22,\n",
       " 'n': 23,\n",
       " 'o': 24,\n",
       " 'p': 25,\n",
       " 'q': 26,\n",
       " 'r': 27,\n",
       " 's': 28,\n",
       " 't': 29,\n",
       " 'u': 30,\n",
       " 'v': 31,\n",
       " 'w': 32,\n",
       " 'x': 33,\n",
       " 'y': 34,\n",
       " 'z': 35}"
      ]
     },
     "execution_count": 9,
     "metadata": {},
     "output_type": "execute_result"
    }
   ],
   "source": [
    "train_generator.class_indices"
   ]
  },
  {
   "cell_type": "code",
   "execution_count": 10,
   "id": "945c11a2",
   "metadata": {},
   "outputs": [
    {
     "data": {
      "text/plain": [
       "array([ 0,  0,  0, ..., 35, 35, 35])"
      ]
     },
     "execution_count": 10,
     "metadata": {},
     "output_type": "execute_result"
    }
   ],
   "source": [
    "train_generator.classes"
   ]
  },
  {
   "cell_type": "markdown",
   "id": "b573f25b",
   "metadata": {},
   "source": [
    "### Build Model"
   ]
  },
  {
   "cell_type": "code",
   "execution_count": 11,
   "id": "84b9d2c6",
   "metadata": {},
   "outputs": [],
   "source": [
    "model = Sequential()\n",
    "model.add(Conv2D(16,(3,3),activation='relu',input_shape=(100,100,3),padding='same'))\n",
    "model.add(MaxPooling2D(2,2))\n",
    "model.add(Conv2D(32,(3,3),activation='relu',padding='same'))\n",
    "model.add(MaxPooling2D(2,2))\n",
    "model.add(Flatten())\n",
    "model.add(Dense(64,activation='relu'))\n",
    "model.add(Dense(36,activation='softmax'))"
   ]
  },
  {
   "cell_type": "code",
   "execution_count": 12,
   "id": "639b0f82",
   "metadata": {},
   "outputs": [
    {
     "name": "stdout",
     "output_type": "stream",
     "text": [
      "Epoch 1/80\n",
      "5/5 [==============================] - 2s 447ms/step - loss: 3.4958 - acc: 0.0531 - val_loss: 3.3323 - val_acc: 0.0938\n",
      "Epoch 2/80\n",
      "5/5 [==============================] - 2s 422ms/step - loss: 3.2292 - acc: 0.1266 - val_loss: 2.9935 - val_acc: 0.1562\n",
      "Epoch 3/80\n",
      "5/5 [==============================] - 2s 416ms/step - loss: 2.9136 - acc: 0.1797 - val_loss: 2.6598 - val_acc: 0.2500\n",
      "Epoch 4/80\n",
      "5/5 [==============================] - 2s 349ms/step - loss: 2.6597 - acc: 0.2156 - val_loss: 2.4893 - val_acc: 0.3438\n",
      "Epoch 5/80\n",
      "5/5 [==============================] - 2s 342ms/step - loss: 2.3916 - acc: 0.3406 - val_loss: 2.2624 - val_acc: 0.2812\n",
      "Epoch 6/80\n",
      "5/5 [==============================] - 2s 412ms/step - loss: 2.2043 - acc: 0.3609 - val_loss: 2.1374 - val_acc: 0.4375\n",
      "Epoch 7/80\n",
      "5/5 [==============================] - 2s 423ms/step - loss: 2.0351 - acc: 0.4004 - val_loss: 2.0710 - val_acc: 0.5000\n",
      "Epoch 8/80\n",
      "5/5 [==============================] - 2s 432ms/step - loss: 1.8108 - acc: 0.4875 - val_loss: 1.8799 - val_acc: 0.4062\n",
      "Epoch 9/80\n",
      "5/5 [==============================] - 2s 430ms/step - loss: 1.6656 - acc: 0.5266 - val_loss: 1.7303 - val_acc: 0.5000\n",
      "Epoch 10/80\n",
      "5/5 [==============================] - 2s 441ms/step - loss: 1.4881 - acc: 0.5562 - val_loss: 1.5502 - val_acc: 0.5000\n",
      "Epoch 11/80\n",
      "5/5 [==============================] - 2s 422ms/step - loss: 1.3755 - acc: 0.5672 - val_loss: 1.5833 - val_acc: 0.5312\n",
      "Epoch 12/80\n",
      "5/5 [==============================] - 2s 418ms/step - loss: 1.1660 - acc: 0.6359 - val_loss: 1.4749 - val_acc: 0.5000\n",
      "Epoch 13/80\n",
      "5/5 [==============================] - 2s 420ms/step - loss: 1.2028 - acc: 0.6047 - val_loss: 1.3666 - val_acc: 0.5938\n",
      "Epoch 14/80\n",
      "5/5 [==============================] - 2s 416ms/step - loss: 1.0189 - acc: 0.6922 - val_loss: 1.2673 - val_acc: 0.6562\n",
      "Epoch 15/80\n",
      "5/5 [==============================] - 2s 425ms/step - loss: 0.9271 - acc: 0.7016 - val_loss: 1.1185 - val_acc: 0.6250\n",
      "Epoch 16/80\n",
      "5/5 [==============================] - 2s 447ms/step - loss: 0.8582 - acc: 0.7156 - val_loss: 1.0941 - val_acc: 0.6562\n",
      "Epoch 17/80\n",
      "5/5 [==============================] - 2s 444ms/step - loss: 0.7908 - acc: 0.7516 - val_loss: 1.0274 - val_acc: 0.7188\n",
      "Epoch 18/80\n",
      "5/5 [==============================] - 2s 451ms/step - loss: 0.6674 - acc: 0.7797 - val_loss: 1.1122 - val_acc: 0.6562\n",
      "Epoch 19/80\n",
      "5/5 [==============================] - 2s 413ms/step - loss: 0.6693 - acc: 0.7844 - val_loss: 0.9658 - val_acc: 0.6562\n",
      "Epoch 20/80\n",
      "5/5 [==============================] - 2s 349ms/step - loss: 0.5924 - acc: 0.8207 - val_loss: 1.1067 - val_acc: 0.6875\n",
      "Epoch 21/80\n",
      "5/5 [==============================] - 2s 411ms/step - loss: 0.5689 - acc: 0.8234 - val_loss: 0.9578 - val_acc: 0.6250\n",
      "Epoch 22/80\n",
      "5/5 [==============================] - 2s 414ms/step - loss: 0.5403 - acc: 0.8266 - val_loss: 0.9461 - val_acc: 0.7188\n",
      "Epoch 23/80\n",
      "5/5 [==============================] - 2s 414ms/step - loss: 0.5411 - acc: 0.8219 - val_loss: 1.0365 - val_acc: 0.6562\n",
      "Epoch 24/80\n",
      "5/5 [==============================] - 2s 413ms/step - loss: 0.4926 - acc: 0.8516 - val_loss: 0.9377 - val_acc: 0.6562\n",
      "Epoch 25/80\n",
      "5/5 [==============================] - 2s 416ms/step - loss: 0.4440 - acc: 0.8500 - val_loss: 0.8953 - val_acc: 0.7500\n",
      "Epoch 26/80\n",
      "5/5 [==============================] - 2s 431ms/step - loss: 0.4776 - acc: 0.8370 - val_loss: 0.8882 - val_acc: 0.6875\n",
      "Epoch 27/80\n",
      "5/5 [==============================] - 2s 410ms/step - loss: 0.4216 - acc: 0.8672 - val_loss: 0.9188 - val_acc: 0.6875\n",
      "Epoch 28/80\n",
      "5/5 [==============================] - 2s 423ms/step - loss: 0.4548 - acc: 0.8388 - val_loss: 0.9702 - val_acc: 0.6562\n",
      "Epoch 29/80\n",
      "5/5 [==============================] - 2s 411ms/step - loss: 0.4206 - acc: 0.8687 - val_loss: 0.9619 - val_acc: 0.6562\n",
      "Epoch 30/80\n",
      "5/5 [==============================] - 2s 334ms/step - loss: 0.3760 - acc: 0.8714 - val_loss: 0.9778 - val_acc: 0.6562\n",
      "Epoch 31/80\n",
      "5/5 [==============================] - 2s 410ms/step - loss: 0.3597 - acc: 0.8766 - val_loss: 0.7791 - val_acc: 0.7188\n",
      "Epoch 32/80\n",
      "5/5 [==============================] - 2s 351ms/step - loss: 0.3929 - acc: 0.8822 - val_loss: 0.7912 - val_acc: 0.6875\n",
      "Epoch 33/80\n",
      "5/5 [==============================] - 2s 411ms/step - loss: 0.3744 - acc: 0.8906 - val_loss: 0.7255 - val_acc: 0.7500\n",
      "Epoch 34/80\n",
      "5/5 [==============================] - 2s 416ms/step - loss: 0.2929 - acc: 0.9078 - val_loss: 0.8727 - val_acc: 0.6875\n",
      "Epoch 35/80\n",
      "5/5 [==============================] - 2s 339ms/step - loss: 0.3281 - acc: 0.8859 - val_loss: 0.8012 - val_acc: 0.6875\n",
      "Epoch 36/80\n",
      "5/5 [==============================] - 2s 411ms/step - loss: 0.2788 - acc: 0.9141 - val_loss: 0.7103 - val_acc: 0.7500\n",
      "Epoch 37/80\n",
      "5/5 [==============================] - 2s 417ms/step - loss: 0.2688 - acc: 0.9078 - val_loss: 0.8355 - val_acc: 0.6875\n",
      "Epoch 38/80\n",
      "5/5 [==============================] - 2s 355ms/step - loss: 0.2281 - acc: 0.9420 - val_loss: 0.7417 - val_acc: 0.7188\n",
      "Epoch 39/80\n",
      "5/5 [==============================] - 2s 367ms/step - loss: 0.2880 - acc: 0.8949 - val_loss: 0.8881 - val_acc: 0.6562\n",
      "Epoch 40/80\n",
      "5/5 [==============================] - 2s 368ms/step - loss: 0.2920 - acc: 0.9040 - val_loss: 0.8497 - val_acc: 0.6562\n",
      "Epoch 41/80\n",
      "5/5 [==============================] - 2s 427ms/step - loss: 0.2625 - acc: 0.9266 - val_loss: 0.8766 - val_acc: 0.7188\n",
      "Epoch 42/80\n",
      "5/5 [==============================] - 2s 428ms/step - loss: 0.2430 - acc: 0.9203 - val_loss: 0.8179 - val_acc: 0.7500\n",
      "Epoch 43/80\n",
      "5/5 [==============================] - 2s 433ms/step - loss: 0.2347 - acc: 0.9219 - val_loss: 0.8100 - val_acc: 0.6250\n",
      "Epoch 44/80\n",
      "5/5 [==============================] - 2s 353ms/step - loss: 0.2387 - acc: 0.9203 - val_loss: 1.0827 - val_acc: 0.6250\n",
      "Epoch 45/80\n",
      "5/5 [==============================] - 2s 425ms/step - loss: 0.2707 - acc: 0.9187 - val_loss: 0.8705 - val_acc: 0.7812\n",
      "Epoch 46/80\n",
      "5/5 [==============================] - 2s 428ms/step - loss: 0.2275 - acc: 0.9203 - val_loss: 0.9847 - val_acc: 0.7188\n",
      "Epoch 47/80\n",
      "5/5 [==============================] - 2s 426ms/step - loss: 0.2016 - acc: 0.9438 - val_loss: 0.9129 - val_acc: 0.7500\n",
      "Epoch 48/80\n",
      "5/5 [==============================] - 2s 428ms/step - loss: 0.1966 - acc: 0.9406 - val_loss: 0.9165 - val_acc: 0.7812\n",
      "Epoch 49/80\n",
      "5/5 [==============================] - 2s 427ms/step - loss: 0.1829 - acc: 0.9375 - val_loss: 0.7990 - val_acc: 0.7812\n",
      "Epoch 50/80\n",
      "5/5 [==============================] - 2s 426ms/step - loss: 0.1637 - acc: 0.9469 - val_loss: 0.6952 - val_acc: 0.7812\n",
      "Epoch 51/80\n",
      "5/5 [==============================] - 2s 429ms/step - loss: 0.1566 - acc: 0.9438 - val_loss: 0.7579 - val_acc: 0.7188\n",
      "Epoch 52/80\n",
      "5/5 [==============================] - 2s 345ms/step - loss: 0.1890 - acc: 0.9384 - val_loss: 0.7596 - val_acc: 0.7812\n",
      "Epoch 53/80\n",
      "5/5 [==============================] - 2s 339ms/step - loss: 0.1383 - acc: 0.9457 - val_loss: 0.9141 - val_acc: 0.7188\n",
      "Epoch 54/80\n",
      "5/5 [==============================] - 2s 429ms/step - loss: 0.1596 - acc: 0.9453 - val_loss: 1.1298 - val_acc: 0.6875\n",
      "Epoch 55/80\n",
      "5/5 [==============================] - 2s 351ms/step - loss: 0.1506 - acc: 0.9565 - val_loss: 0.9403 - val_acc: 0.7500\n",
      "Epoch 56/80\n",
      "5/5 [==============================] - 2s 427ms/step - loss: 0.1634 - acc: 0.9438 - val_loss: 1.1340 - val_acc: 0.7188\n",
      "Epoch 57/80\n",
      "5/5 [==============================] - 2s 432ms/step - loss: 0.1343 - acc: 0.9531 - val_loss: 0.9342 - val_acc: 0.7188\n",
      "Epoch 58/80\n",
      "5/5 [==============================] - 2s 351ms/step - loss: 0.1562 - acc: 0.9529 - val_loss: 1.0881 - val_acc: 0.6875\n",
      "Epoch 59/80\n",
      "5/5 [==============================] - 2s 362ms/step - loss: 0.1616 - acc: 0.9529 - val_loss: 1.0618 - val_acc: 0.6562\n",
      "Epoch 60/80\n",
      "5/5 [==============================] - 2s 425ms/step - loss: 0.1462 - acc: 0.9500 - val_loss: 0.8647 - val_acc: 0.6875\n",
      "Epoch 61/80\n",
      "5/5 [==============================] - 2s 431ms/step - loss: 0.1398 - acc: 0.9609 - val_loss: 1.0201 - val_acc: 0.7500\n",
      "Epoch 62/80\n",
      "5/5 [==============================] - 2s 435ms/step - loss: 0.1630 - acc: 0.9391 - val_loss: 0.8410 - val_acc: 0.6875\n",
      "Epoch 63/80\n",
      "5/5 [==============================] - 2s 355ms/step - loss: 0.1404 - acc: 0.9475 - val_loss: 1.0268 - val_acc: 0.7188\n",
      "Epoch 64/80\n",
      "5/5 [==============================] - 2s 435ms/step - loss: 0.1658 - acc: 0.9594 - val_loss: 0.8009 - val_acc: 0.7188\n",
      "Epoch 65/80\n",
      "5/5 [==============================] - 2s 441ms/step - loss: 0.1407 - acc: 0.9531 - val_loss: 0.9461 - val_acc: 0.7188\n",
      "Epoch 66/80\n",
      "5/5 [==============================] - 2s 440ms/step - loss: 0.1153 - acc: 0.9609 - val_loss: 0.9632 - val_acc: 0.6875\n",
      "Epoch 67/80\n",
      "5/5 [==============================] - 2s 437ms/step - loss: 0.1088 - acc: 0.9609 - val_loss: 0.8800 - val_acc: 0.7500\n",
      "Epoch 68/80\n",
      "5/5 [==============================] - 2s 434ms/step - loss: 0.1036 - acc: 0.9609 - val_loss: 1.0413 - val_acc: 0.6875\n",
      "Epoch 69/80\n",
      "5/5 [==============================] - 2s 346ms/step - loss: 0.1176 - acc: 0.9692 - val_loss: 0.8435 - val_acc: 0.7188\n",
      "Epoch 70/80\n",
      "5/5 [==============================] - 2s 366ms/step - loss: 0.0953 - acc: 0.9710 - val_loss: 0.9112 - val_acc: 0.7500\n",
      "Epoch 71/80\n",
      "5/5 [==============================] - 2s 430ms/step - loss: 0.1252 - acc: 0.9578 - val_loss: 1.0896 - val_acc: 0.6875\n",
      "Epoch 72/80\n",
      "5/5 [==============================] - 2s 430ms/step - loss: 0.1161 - acc: 0.9641 - val_loss: 0.9031 - val_acc: 0.6562\n",
      "Epoch 73/80\n",
      "5/5 [==============================] - 2s 433ms/step - loss: 0.1026 - acc: 0.9688 - val_loss: 1.1463 - val_acc: 0.7188\n",
      "Epoch 74/80\n",
      "5/5 [==============================] - 2s 424ms/step - loss: 0.1096 - acc: 0.9609 - val_loss: 0.8084 - val_acc: 0.6875\n",
      "Epoch 75/80\n",
      "5/5 [==============================] - 2s 426ms/step - loss: 0.0818 - acc: 0.9734 - val_loss: 0.8162 - val_acc: 0.6562\n",
      "Epoch 76/80\n",
      "5/5 [==============================] - 2s 335ms/step - loss: 0.1118 - acc: 0.9601 - val_loss: 0.9905 - val_acc: 0.6250\n",
      "Epoch 77/80\n",
      "5/5 [==============================] - 2s 419ms/step - loss: 0.0957 - acc: 0.9719 - val_loss: 0.8260 - val_acc: 0.6875\n",
      "Epoch 78/80\n",
      "5/5 [==============================] - 2s 342ms/step - loss: 0.1045 - acc: 0.9674 - val_loss: 1.1501 - val_acc: 0.6875\n",
      "Epoch 79/80\n",
      "5/5 [==============================] - 2s 348ms/step - loss: 0.0885 - acc: 0.9783 - val_loss: 1.0464 - val_acc: 0.7188\n",
      "Epoch 80/80\n",
      "5/5 [==============================] - 2s 391ms/step - loss: 0.0933 - acc: 0.9728 - val_loss: 1.0313 - val_acc: 0.6875\n"
     ]
    }
   ],
   "source": [
    "np.random.seed(123)\n",
    "\n",
    "model.compile(loss = 'categorical_crossentropy', optimizer = keras.optimizers.Adam(), metrics = ['acc'])\n",
    "\n",
    "history = model.fit(train_generator, epochs = 80, steps_per_epoch= 5,\n",
    "                    validation_data = next(val_generator), verbose = 1)"
   ]
  },
  {
   "cell_type": "code",
   "execution_count": 13,
   "id": "2109a988",
   "metadata": {},
   "outputs": [
    {
     "name": "stdout",
     "output_type": "stream",
     "text": [
      "Model: \"sequential\"\n",
      "_________________________________________________________________\n",
      "Layer (type)                 Output Shape              Param #   \n",
      "=================================================================\n",
      "conv2d (Conv2D)              (None, 100, 100, 16)      448       \n",
      "_________________________________________________________________\n",
      "max_pooling2d (MaxPooling2D) (None, 50, 50, 16)        0         \n",
      "_________________________________________________________________\n",
      "conv2d_1 (Conv2D)            (None, 50, 50, 32)        4640      \n",
      "_________________________________________________________________\n",
      "max_pooling2d_1 (MaxPooling2 (None, 25, 25, 32)        0         \n",
      "_________________________________________________________________\n",
      "flatten (Flatten)            (None, 20000)             0         \n",
      "_________________________________________________________________\n",
      "dense (Dense)                (None, 64)                1280064   \n",
      "_________________________________________________________________\n",
      "dense_1 (Dense)              (None, 36)                2340      \n",
      "=================================================================\n",
      "Total params: 1,287,492\n",
      "Trainable params: 1,287,492\n",
      "Non-trainable params: 0\n",
      "_________________________________________________________________\n"
     ]
    }
   ],
   "source": [
    "model.summary()"
   ]
  },
  {
   "cell_type": "markdown",
   "id": "78af1f20",
   "metadata": {},
   "source": [
    "### Evaluate"
   ]
  },
  {
   "cell_type": "code",
   "execution_count": 14,
   "id": "7256321c",
   "metadata": {},
   "outputs": [
    {
     "name": "stdout",
     "output_type": "stream",
     "text": [
      "14/14 [==============================] - 2s 112ms/step - loss: 0.7412 - acc: 0.8097\n"
     ]
    },
    {
     "data": {
      "text/plain": [
       "[0.7412098050117493, 0.8097447752952576]"
      ]
     },
     "execution_count": 14,
     "metadata": {},
     "output_type": "execute_result"
    }
   ],
   "source": [
    "model.evaluate(val_generator)"
   ]
  },
  {
   "cell_type": "markdown",
   "id": "56714344",
   "metadata": {},
   "source": [
    "### Visualization"
   ]
  },
  {
   "cell_type": "code",
   "execution_count": 15,
   "id": "0094695f",
   "metadata": {},
   "outputs": [
    {
     "data": {
      "text/plain": [
       "<matplotlib.legend.Legend at 0x16ea7582a60>"
      ]
     },
     "execution_count": 15,
     "metadata": {},
     "output_type": "execute_result"
    },
    {
     "data": {
      "image/png": "[encoded data removed]",
      "text/plain": [
       "<Figure size 432x288 with 1 Axes>"
      ]
     },
     "metadata": {
      "needs_background": "light"
     },
     "output_type": "display_data"
    }
   ],
   "source": [
    "import matplotlib.pyplot as plt\n",
    "\n",
    "epochs = range(80)\n",
    "\n",
    "loss = history.history['loss']\n",
    "val_loss = history.history['val_loss']\n",
    "\n",
    "plt.plot(epochs,loss,'r',label='training loss CNN')\n",
    "plt.plot(epochs,val_loss,'b',label='validasi loss CNN')\n",
    "plt.legend()"
   ]
  },
  {
   "cell_type": "markdown",
   "id": "1fc1d6c6",
   "metadata": {},
   "source": [
    "### Predict"
   ]
  },
  {
   "cell_type": "code",
   "execution_count": 16,
   "id": "1d772e57",
   "metadata": {},
   "outputs": [],
   "source": [
    "predictions = model.predict(x = test_generator, steps=len(test_generator), verbose=0)"
   ]
  },
  {
   "cell_type": "code",
   "execution_count": 17,
   "id": "8bc221e1",
   "metadata": {},
   "outputs": [
    {
     "data": {
      "text/plain": [
       "array([26, 10, 28, 15,  4, 30, 29,  6, 10,  4, 25,  7, 25, 32, 25, 11, 31,\n",
       "       31, 23, 17, 31,  7,  8, 12, 35, 25, 17,  2, 26, 19,  8,  7, 25, 33,\n",
       "        0, 11, 31, 27, 11, 33, 17, 19,  8, 32, 29,  0,  0, 12,  3,  6,  7,\n",
       "       29, 28, 33, 17,  4, 34, 35,  2,  6, 25, 23, 35, 14, 19,  4, 32, 12,\n",
       "       17,  3, 32,  0, 30, 27, 33,  8, 25, 29, 13, 30, 22, 16, 24, 35,  7,\n",
       "       10,  4,  7, 30, 10, 21, 15,  9,  4, 32,  7, 19, 14,  7, 25, 32, 18,\n",
       "       33, 33,  2,  7, 12, 33, 24, 13, 17,  6, 32, 24, 29, 19, 32, 13, 32,\n",
       "       32, 18, 32,  4, 35, 23, 32,  1, 16, 21, 23, 18,  4, 33, 24,  8,  8,\n",
       "       28, 24,  5, 21,  4, 33, 27,  1, 15, 25, 20, 10,  6, 29, 34, 12, 24,\n",
       "       24, 23, 16, 26, 26, 24, 13, 27, 10, 23,  6,  7,  4, 28, 15,  3, 10,\n",
       "       27, 13, 25, 21, 23,  4,  6, 29,  5, 16, 18, 19, 19, 26,  3, 14, 23,\n",
       "       27, 23,  4, 30, 27,  4, 16, 14, 33, 32, 32,  6, 11, 32, 29,  7, 29,\n",
       "       27, 34, 30,  0, 23, 24, 20,  4, 20, 24, 22, 23, 17,  4,  7, 33, 28,\n",
       "       30, 10, 17, 19, 26, 11, 28, 11, 23, 28, 18, 18, 31,  4, 23, 27, 19,\n",
       "       26, 20,  0, 32,  7,  6, 16, 17, 27, 15,  1, 25, 15, 12],\n",
       "      dtype=int64)"
      ]
     },
     "execution_count": 17,
     "metadata": {},
     "output_type": "execute_result"
    }
   ],
   "source": [
    "np.argmax(predictions,axis = 1)"
   ]
  },
  {
   "cell_type": "markdown",
   "id": "203aff97",
   "metadata": {},
   "source": [
    "### Confusion Matrix"
   ]
  },
  {
   "cell_type": "code",
   "execution_count": 18,
   "id": "0b234608",
   "metadata": {},
   "outputs": [],
   "source": [
    "cm = confusion_matrix(y_true=test_generator.classes, y_pred=np.argmax(predictions, axis=-1))"
   ]
  },
  {
   "cell_type": "code",
   "execution_count": 19,
   "id": "ad62c373",
   "metadata": {},
   "outputs": [
    {
     "data": {
      "text/plain": [
       "{'0': 0,\n",
       " '1': 1,\n",
       " '2': 2,\n",
       " '3': 3,\n",
       " '4': 4,\n",
       " '5': 5,\n",
       " '6': 6,\n",
       " '7': 7,\n",
       " '8': 8,\n",
       " '9': 9,\n",
       " 'a': 10,\n",
       " 'b': 11,\n",
       " 'c': 12,\n",
       " 'd': 13,\n",
       " 'e': 14,\n",
       " 'f': 15,\n",
       " 'g': 16,\n",
       " 'h': 17,\n",
       " 'i': 18,\n",
       " 'j': 19,\n",
       " 'k': 20,\n",
       " 'l': 21,\n",
       " 'm': 22,\n",
       " 'n': 23,\n",
       " 'o': 24,\n",
       " 'p': 25,\n",
       " 'q': 26,\n",
       " 'r': 27,\n",
       " 's': 28,\n",
       " 't': 29,\n",
       " 'u': 30,\n",
       " 'v': 31,\n",
       " 'w': 32,\n",
       " 'x': 33,\n",
       " 'y': 34,\n",
       " 'z': 35}"
      ]
     },
     "execution_count": 19,
     "metadata": {},
     "output_type": "execute_result"
    }
   ],
   "source": [
    "test_generator.class_indices"
   ]
  },
  {
   "cell_type": "code",
   "execution_count": 20,
   "id": "9c9d7f46",
   "metadata": {},
   "outputs": [
    {
     "data": {
      "text/plain": [
       "Text(0.5, 1.0, 'Confusion Matrix for CNN')"
      ]
     },
     "execution_count": 20,
     "metadata": {},
     "output_type": "execute_result"
    },
    {
     "data": {
      "image/png": "[encoded data removed]",
      "text/plain": [
       "<Figure size 2160x1080 with 2 Axes>"
      ]
     },
     "metadata": {
      "needs_background": "light"
     },
     "output_type": "display_data"
    }
   ],
   "source": [
    "fig = plt.figure(figsize = (30, 15))\n",
    "sns.heatmap(cm, annot = True)\n",
    "\n",
    "# Labeling the X-axis\n",
    "plt.xlabel(\"Predicted Class\")\n",
    "\n",
    "# Labeling the Y-axis\n",
    "plt.ylabel(\"True Class\")\n",
    "\n",
    "# Give a title to the graph\n",
    "plt.title(\"Confusion Matrix for CNN\",fontsize = 16)"
   ]
  }
 ],
 "metadata": {
  "kernelspec": {
   "display_name": "Python 3",
   "language": "python",
   "name": "python3"
  },
  "language_info": {
   "codemirror_mode": {
    "name": "ipython",
    "version": 3
   },
   "file_extension": ".py",
   "mimetype": "text/x-python",
   "name": "python",
   "nbconvert_exporter": "python",
   "pygments_lexer": "ipython3",
   "version": "3.8.8"
  }
 },
 "nbformat": 4,
 "nbformat_minor": 5
}
