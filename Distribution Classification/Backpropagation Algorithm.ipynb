{
 "cells": [
  {
   "cell_type": "markdown",
   "id": "b01334b8",
   "metadata": {},
   "source": [
    "# ARTIFICIAL NEURAL NETWORK"
   ]
  },
  {
   "cell_type": "markdown",
   "id": "e5c3af59",
   "metadata": {},
   "source": [
    "## IMPORTING THE LIBRARIES"
   ]
  },
  {
   "cell_type": "code",
   "execution_count": 1,
   "id": "7ddeb965",
   "metadata": {},
   "outputs": [],
   "source": [
    "import numpy as np\n",
    "import pandas as pd"
   ]
  },
  {
   "cell_type": "code",
   "execution_count": 2,
   "id": "ba7a18f1",
   "metadata": {},
   "outputs": [],
   "source": [
    "import csv\n",
    "import os"
   ]
  },
  {
   "cell_type": "code",
   "execution_count": 3,
   "id": "1a01951c",
   "metadata": {},
   "outputs": [],
   "source": [
    "import luwiji.neural_network\n",
    "import jcopdl\n",
    "import jcopml"
   ]
  },
  {
   "cell_type": "code",
   "execution_count": 4,
   "id": "d48990a1",
   "metadata": {},
   "outputs": [
    {
     "data": {
      "text/plain": [
       "'0.11.1'"
      ]
     },
     "execution_count": 4,
     "metadata": {},
     "output_type": "execute_result"
    }
   ],
   "source": [
    "import seaborn as sns\n",
    "sns.__version__"
   ]
  },
  {
   "cell_type": "code",
   "execution_count": 5,
   "id": "c11c4bff",
   "metadata": {},
   "outputs": [
    {
     "data": {
      "text/plain": [
       "'2.3.0'"
      ]
     },
     "execution_count": 5,
     "metadata": {},
     "output_type": "execute_result"
    }
   ],
   "source": [
    "import tensorflow as tf\n",
    "tf.__version__"
   ]
  },
  {
   "cell_type": "code",
   "execution_count": 6,
   "id": "279bea5c",
   "metadata": {},
   "outputs": [
    {
     "data": {
      "text/plain": [
       "'1.9.0+cpu'"
      ]
     },
     "execution_count": 6,
     "metadata": {},
     "output_type": "execute_result"
    }
   ],
   "source": [
    "import torch\n",
    "torch.__version__"
   ]
  },
  {
   "cell_type": "code",
   "execution_count": 7,
   "id": "c09f71b6",
   "metadata": {},
   "outputs": [],
   "source": [
    "import torch.nn as nn\n",
    "import torch.nn.functional as F"
   ]
  },
  {
   "cell_type": "code",
   "execution_count": 8,
   "id": "28c0d43b",
   "metadata": {},
   "outputs": [],
   "source": [
    "import matplotlib.pyplot as plt\n",
    "%matplotlib inline"
   ]
  },
  {
   "cell_type": "markdown",
   "id": "97276ff3",
   "metadata": {},
   "source": [
    "### Import nn, optim dari module torch"
   ]
  },
  {
   "cell_type": "code",
   "execution_count": 9,
   "id": "625ea31d",
   "metadata": {},
   "outputs": [],
   "source": [
    "from torch import nn, optim"
   ]
  },
  {
   "cell_type": "code",
   "execution_count": 10,
   "id": "3bdb6534",
   "metadata": {},
   "outputs": [
    {
     "data": {
      "text/plain": [
       "device(type='cuda')"
      ]
     },
     "execution_count": 10,
     "metadata": {},
     "output_type": "execute_result"
    }
   ],
   "source": [
    "device = torch.device(\"cuda\" if torch.cuda.is_available else \"cpu\")\n",
    "device"
   ]
  },
  {
   "cell_type": "markdown",
   "id": "12aef03f",
   "metadata": {},
   "source": [
    "## DATA PREPROCESSING"
   ]
  },
  {
   "cell_type": "markdown",
   "id": "6dcb24fb",
   "metadata": {},
   "source": [
    "### Importing the dataset"
   ]
  },
  {
   "cell_type": "code",
   "execution_count": 11,
   "id": "82632887",
   "metadata": {},
   "outputs": [
    {
     "name": "stdout",
     "output_type": "stream",
     "text": [
      "<class 'pandas.core.frame.DataFrame'>\n",
      "RangeIndex: 18000 entries, 0 to 17999\n",
      "Data columns (total 15 columns):\n",
      " #   Column      Dtype  \n",
      "---  ------      -----  \n",
      " 0   Unnamed: 0  int64  \n",
      " 1   X1          float64\n",
      " 2   X2          float64\n",
      " 3   X3          float64\n",
      " 4   X4          float64\n",
      " 5   X5          float64\n",
      " 6   X6          float64\n",
      " 7   X7          float64\n",
      " 8   X8          float64\n",
      " 9   X9          float64\n",
      " 10  mean        float64\n",
      " 11  Sd          float64\n",
      " 12  pdf         float64\n",
      " 13  CDF         float64\n",
      " 14  Target      object \n",
      "dtypes: float64(13), int64(1), object(1)\n",
      "memory usage: 2.1+ MB\n"
     ]
    },
    {
     "name": "stderr",
     "output_type": "stream",
     "text": [
      "<ipython-input-11-f6886dbfa633>:2: FutureWarning: null_counts is deprecated. Use show_counts instead\n",
      "  dataset.info(verbose = True, null_counts = False)\n"
     ]
    }
   ],
   "source": [
    "dataset = pd.read_csv('D:/Distribusi2000.csv')\n",
    "dataset.info(verbose = True, null_counts = False)"
   ]
  },
  {
   "cell_type": "code",
   "execution_count": 12,
   "id": "98a02cac",
   "metadata": {},
   "outputs": [
    {
     "name": "stdout",
     "output_type": "stream",
     "text": [
      "SHAPE OF DATA FRAME dataset: (18000, 15)\n"
     ]
    }
   ],
   "source": [
    "print(f'SHAPE OF DATA FRAME dataset: {dataset.shape}')"
   ]
  },
  {
   "cell_type": "code",
   "execution_count": 13,
   "id": "bdf6d862",
   "metadata": {},
   "outputs": [
    {
     "data": {
      "text/html": [
       "<div>\n",
       "<style scoped>\n",
       "    .dataframe tbody tr th:only-of-type {\n",
       "        vertical-align: middle;\n",
       "    }\n",
       "\n",
       "    .dataframe tbody tr th {\n",
       "        vertical-align: top;\n",
       "    }\n",
       "\n",
       "    .dataframe thead th {\n",
       "        text-align: right;\n",
       "    }\n",
       "</style>\n",
       "<table border=\"1\" class=\"dataframe\">\n",
       "  <thead>\n",
       "    <tr style=\"text-align: right;\">\n",
       "      <th></th>\n",
       "      <th>Unnamed: 0</th>\n",
       "      <th>X1</th>\n",
       "      <th>X2</th>\n",
       "      <th>X3</th>\n",
       "      <th>X4</th>\n",
       "      <th>X5</th>\n",
       "      <th>X6</th>\n",
       "      <th>X7</th>\n",
       "      <th>X8</th>\n",
       "      <th>X9</th>\n",
       "      <th>mean</th>\n",
       "      <th>Sd</th>\n",
       "      <th>pdf</th>\n",
       "      <th>CDF</th>\n",
       "      <th>Target</th>\n",
       "    </tr>\n",
       "  </thead>\n",
       "  <tbody>\n",
       "    <tr>\n",
       "      <th>0</th>\n",
       "      <td>1</td>\n",
       "      <td>0.562305</td>\n",
       "      <td>1.361072</td>\n",
       "      <td>0.158537</td>\n",
       "      <td>1.114719</td>\n",
       "      <td>0.345193</td>\n",
       "      <td>0.127999</td>\n",
       "      <td>1.755472</td>\n",
       "      <td>0.040238</td>\n",
       "      <td>0.144744</td>\n",
       "      <td>0.623364</td>\n",
       "      <td>0.630375</td>\n",
       "      <td>0.588851</td>\n",
       "      <td>0.607432</td>\n",
       "      <td>Exponential</td>\n",
       "    </tr>\n",
       "    <tr>\n",
       "      <th>1</th>\n",
       "      <td>2</td>\n",
       "      <td>0.384407</td>\n",
       "      <td>0.003187</td>\n",
       "      <td>2.256612</td>\n",
       "      <td>0.647888</td>\n",
       "      <td>0.075514</td>\n",
       "      <td>0.325827</td>\n",
       "      <td>1.695955</td>\n",
       "      <td>2.766358</td>\n",
       "      <td>0.920136</td>\n",
       "      <td>1.008431</td>\n",
       "      <td>0.999684</td>\n",
       "      <td>0.330489</td>\n",
       "      <td>0.779674</td>\n",
       "      <td>Exponential</td>\n",
       "    </tr>\n",
       "    <tr>\n",
       "      <th>2</th>\n",
       "      <td>3</td>\n",
       "      <td>0.886037</td>\n",
       "      <td>1.675818</td>\n",
       "      <td>2.627197</td>\n",
       "      <td>2.917694</td>\n",
       "      <td>1.874634</td>\n",
       "      <td>0.495568</td>\n",
       "      <td>0.550646</td>\n",
       "      <td>0.602245</td>\n",
       "      <td>0.542942</td>\n",
       "      <td>1.352531</td>\n",
       "      <td>0.952956</td>\n",
       "      <td>0.197240</td>\n",
       "      <td>0.868506</td>\n",
       "      <td>Exponential</td>\n",
       "    </tr>\n",
       "    <tr>\n",
       "      <th>3</th>\n",
       "      <td>4</td>\n",
       "      <td>0.021052</td>\n",
       "      <td>0.449460</td>\n",
       "      <td>0.526025</td>\n",
       "      <td>1.309423</td>\n",
       "      <td>0.205172</td>\n",
       "      <td>0.718937</td>\n",
       "      <td>0.403984</td>\n",
       "      <td>2.337368</td>\n",
       "      <td>0.708223</td>\n",
       "      <td>0.742183</td>\n",
       "      <td>0.700292</td>\n",
       "      <td>0.492723</td>\n",
       "      <td>0.671518</td>\n",
       "      <td>Exponential</td>\n",
       "    </tr>\n",
       "    <tr>\n",
       "      <th>4</th>\n",
       "      <td>5</td>\n",
       "      <td>0.037474</td>\n",
       "      <td>0.072275</td>\n",
       "      <td>0.564295</td>\n",
       "      <td>0.042283</td>\n",
       "      <td>0.489744</td>\n",
       "      <td>0.678072</td>\n",
       "      <td>0.386877</td>\n",
       "      <td>2.746147</td>\n",
       "      <td>0.394915</td>\n",
       "      <td>0.601342</td>\n",
       "      <td>0.838072</td>\n",
       "      <td>0.608628</td>\n",
       "      <td>0.594248</td>\n",
       "      <td>Exponential</td>\n",
       "    </tr>\n",
       "  </tbody>\n",
       "</table>\n",
       "</div>"
      ],
      "text/plain": [
       "   Unnamed: 0        X1        X2        X3        X4        X5        X6  \\\n",
       "0           1  0.562305  1.361072  0.158537  1.114719  0.345193  0.127999   \n",
       "1           2  0.384407  0.003187  2.256612  0.647888  0.075514  0.325827   \n",
       "2           3  0.886037  1.675818  2.627197  2.917694  1.874634  0.495568   \n",
       "3           4  0.021052  0.449460  0.526025  1.309423  0.205172  0.718937   \n",
       "4           5  0.037474  0.072275  0.564295  0.042283  0.489744  0.678072   \n",
       "\n",
       "         X7        X8        X9      mean        Sd       pdf       CDF  \\\n",
       "0  1.755472  0.040238  0.144744  0.623364  0.630375  0.588851  0.607432   \n",
       "1  1.695955  2.766358  0.920136  1.008431  0.999684  0.330489  0.779674   \n",
       "2  0.550646  0.602245  0.542942  1.352531  0.952956  0.197240  0.868506   \n",
       "3  0.403984  2.337368  0.708223  0.742183  0.700292  0.492723  0.671518   \n",
       "4  0.386877  2.746147  0.394915  0.601342  0.838072  0.608628  0.594248   \n",
       "\n",
       "        Target  \n",
       "0  Exponential  \n",
       "1  Exponential  \n",
       "2  Exponential  \n",
       "3  Exponential  \n",
       "4  Exponential  "
      ]
     },
     "execution_count": 13,
     "metadata": {},
     "output_type": "execute_result"
    }
   ],
   "source": [
    "dataset.head()"
   ]
  },
  {
   "cell_type": "code",
   "execution_count": 14,
   "id": "c274c02a",
   "metadata": {},
   "outputs": [
    {
     "data": {
      "text/html": [
       "<div>\n",
       "<style scoped>\n",
       "    .dataframe tbody tr th:only-of-type {\n",
       "        vertical-align: middle;\n",
       "    }\n",
       "\n",
       "    .dataframe tbody tr th {\n",
       "        vertical-align: top;\n",
       "    }\n",
       "\n",
       "    .dataframe thead th {\n",
       "        text-align: right;\n",
       "    }\n",
       "</style>\n",
       "<table border=\"1\" class=\"dataframe\">\n",
       "  <thead>\n",
       "    <tr style=\"text-align: right;\">\n",
       "      <th></th>\n",
       "      <th>count</th>\n",
       "      <th>mean</th>\n",
       "      <th>std</th>\n",
       "      <th>min</th>\n",
       "      <th>25%</th>\n",
       "      <th>50%</th>\n",
       "      <th>75%</th>\n",
       "      <th>max</th>\n",
       "    </tr>\n",
       "  </thead>\n",
       "  <tbody>\n",
       "    <tr>\n",
       "      <th>Unnamed: 0</th>\n",
       "      <td>18000.0</td>\n",
       "      <td>9000.500000</td>\n",
       "      <td>5196.296758</td>\n",
       "      <td>1.000000e+00</td>\n",
       "      <td>4500.750000</td>\n",
       "      <td>9000.500000</td>\n",
       "      <td>13500.250000</td>\n",
       "      <td>18000.000000</td>\n",
       "    </tr>\n",
       "    <tr>\n",
       "      <th>X1</th>\n",
       "      <td>18000.0</td>\n",
       "      <td>38.978048</td>\n",
       "      <td>1125.780009</td>\n",
       "      <td>4.280975e-14</td>\n",
       "      <td>0.580751</td>\n",
       "      <td>1.568751</td>\n",
       "      <td>3.813590</td>\n",
       "      <td>123678.774789</td>\n",
       "    </tr>\n",
       "    <tr>\n",
       "      <th>X2</th>\n",
       "      <td>18000.0</td>\n",
       "      <td>27.756522</td>\n",
       "      <td>447.311981</td>\n",
       "      <td>3.687506e-12</td>\n",
       "      <td>0.580670</td>\n",
       "      <td>1.569331</td>\n",
       "      <td>3.853200</td>\n",
       "      <td>36624.938437</td>\n",
       "    </tr>\n",
       "    <tr>\n",
       "      <th>X3</th>\n",
       "      <td>18000.0</td>\n",
       "      <td>33.497129</td>\n",
       "      <td>694.434565</td>\n",
       "      <td>6.721937e-13</td>\n",
       "      <td>0.570499</td>\n",
       "      <td>1.561911</td>\n",
       "      <td>3.813682</td>\n",
       "      <td>73044.181361</td>\n",
       "    </tr>\n",
       "    <tr>\n",
       "      <th>X4</th>\n",
       "      <td>18000.0</td>\n",
       "      <td>26.223934</td>\n",
       "      <td>346.589103</td>\n",
       "      <td>1.804652e-10</td>\n",
       "      <td>0.568859</td>\n",
       "      <td>1.549412</td>\n",
       "      <td>3.788052</td>\n",
       "      <td>27094.555909</td>\n",
       "    </tr>\n",
       "    <tr>\n",
       "      <th>X5</th>\n",
       "      <td>18000.0</td>\n",
       "      <td>42.348340</td>\n",
       "      <td>1442.983118</td>\n",
       "      <td>1.904122e-10</td>\n",
       "      <td>0.585555</td>\n",
       "      <td>1.579747</td>\n",
       "      <td>3.813566</td>\n",
       "      <td>172622.504052</td>\n",
       "    </tr>\n",
       "    <tr>\n",
       "      <th>X6</th>\n",
       "      <td>18000.0</td>\n",
       "      <td>44.316489</td>\n",
       "      <td>1171.250601</td>\n",
       "      <td>2.156504e-12</td>\n",
       "      <td>0.565348</td>\n",
       "      <td>1.571433</td>\n",
       "      <td>3.859301</td>\n",
       "      <td>123443.121200</td>\n",
       "    </tr>\n",
       "    <tr>\n",
       "      <th>X7</th>\n",
       "      <td>18000.0</td>\n",
       "      <td>31.402950</td>\n",
       "      <td>632.964195</td>\n",
       "      <td>1.252890e-11</td>\n",
       "      <td>0.582697</td>\n",
       "      <td>1.561831</td>\n",
       "      <td>3.864302</td>\n",
       "      <td>48367.865015</td>\n",
       "    </tr>\n",
       "    <tr>\n",
       "      <th>X8</th>\n",
       "      <td>18000.0</td>\n",
       "      <td>35.660553</td>\n",
       "      <td>851.399392</td>\n",
       "      <td>2.195352e-11</td>\n",
       "      <td>0.575716</td>\n",
       "      <td>1.566757</td>\n",
       "      <td>3.883138</td>\n",
       "      <td>100434.295697</td>\n",
       "    </tr>\n",
       "    <tr>\n",
       "      <th>X9</th>\n",
       "      <td>18000.0</td>\n",
       "      <td>25.588565</td>\n",
       "      <td>427.858723</td>\n",
       "      <td>4.817312e-12</td>\n",
       "      <td>0.572550</td>\n",
       "      <td>1.572780</td>\n",
       "      <td>3.914265</td>\n",
       "      <td>42950.158093</td>\n",
       "    </tr>\n",
       "    <tr>\n",
       "      <th>mean</th>\n",
       "      <td>18000.0</td>\n",
       "      <td>33.974726</td>\n",
       "      <td>305.285463</td>\n",
       "      <td>9.356558e-02</td>\n",
       "      <td>0.877845</td>\n",
       "      <td>2.330879</td>\n",
       "      <td>3.874607</td>\n",
       "      <td>19207.188548</td>\n",
       "    </tr>\n",
       "    <tr>\n",
       "      <th>Sd</th>\n",
       "      <td>18000.0</td>\n",
       "      <td>72.823180</td>\n",
       "      <td>862.525928</td>\n",
       "      <td>7.340479e-02</td>\n",
       "      <td>0.587751</td>\n",
       "      <td>0.925522</td>\n",
       "      <td>1.951544</td>\n",
       "      <td>57530.772457</td>\n",
       "    </tr>\n",
       "    <tr>\n",
       "      <th>pdf</th>\n",
       "      <td>18000.0</td>\n",
       "      <td>0.305676</td>\n",
       "      <td>0.268577</td>\n",
       "      <td>9.169302e-08</td>\n",
       "      <td>0.117411</td>\n",
       "      <td>0.186322</td>\n",
       "      <td>0.488748</td>\n",
       "      <td>1.658670</td>\n",
       "    </tr>\n",
       "    <tr>\n",
       "      <th>CDF</th>\n",
       "      <td>18000.0</td>\n",
       "      <td>0.541307</td>\n",
       "      <td>0.221862</td>\n",
       "      <td>1.556605e-02</td>\n",
       "      <td>0.440723</td>\n",
       "      <td>0.556773</td>\n",
       "      <td>0.694031</td>\n",
       "      <td>0.999713</td>\n",
       "    </tr>\n",
       "  </tbody>\n",
       "</table>\n",
       "</div>"
      ],
      "text/plain": [
       "              count         mean          std           min          25%  \\\n",
       "Unnamed: 0  18000.0  9000.500000  5196.296758  1.000000e+00  4500.750000   \n",
       "X1          18000.0    38.978048  1125.780009  4.280975e-14     0.580751   \n",
       "X2          18000.0    27.756522   447.311981  3.687506e-12     0.580670   \n",
       "X3          18000.0    33.497129   694.434565  6.721937e-13     0.570499   \n",
       "X4          18000.0    26.223934   346.589103  1.804652e-10     0.568859   \n",
       "X5          18000.0    42.348340  1442.983118  1.904122e-10     0.585555   \n",
       "X6          18000.0    44.316489  1171.250601  2.156504e-12     0.565348   \n",
       "X7          18000.0    31.402950   632.964195  1.252890e-11     0.582697   \n",
       "X8          18000.0    35.660553   851.399392  2.195352e-11     0.575716   \n",
       "X9          18000.0    25.588565   427.858723  4.817312e-12     0.572550   \n",
       "mean        18000.0    33.974726   305.285463  9.356558e-02     0.877845   \n",
       "Sd          18000.0    72.823180   862.525928  7.340479e-02     0.587751   \n",
       "pdf         18000.0     0.305676     0.268577  9.169302e-08     0.117411   \n",
       "CDF         18000.0     0.541307     0.221862  1.556605e-02     0.440723   \n",
       "\n",
       "                    50%           75%            max  \n",
       "Unnamed: 0  9000.500000  13500.250000   18000.000000  \n",
       "X1             1.568751      3.813590  123678.774789  \n",
       "X2             1.569331      3.853200   36624.938437  \n",
       "X3             1.561911      3.813682   73044.181361  \n",
       "X4             1.549412      3.788052   27094.555909  \n",
       "X5             1.579747      3.813566  172622.504052  \n",
       "X6             1.571433      3.859301  123443.121200  \n",
       "X7             1.561831      3.864302   48367.865015  \n",
       "X8             1.566757      3.883138  100434.295697  \n",
       "X9             1.572780      3.914265   42950.158093  \n",
       "mean           2.330879      3.874607   19207.188548  \n",
       "Sd             0.925522      1.951544   57530.772457  \n",
       "pdf            0.186322      0.488748       1.658670  \n",
       "CDF            0.556773      0.694031       0.999713  "
      ]
     },
     "execution_count": 14,
     "metadata": {},
     "output_type": "execute_result"
    }
   ],
   "source": [
    "dataset.describe().transpose()"
   ]
  },
  {
   "cell_type": "code",
   "execution_count": 15,
   "id": "35e08279",
   "metadata": {},
   "outputs": [
    {
     "data": {
      "image/png": "[encoded data removed]",
      "text/plain": [
       "<Figure size 864x576 with 1 Axes>"
      ]
     },
     "metadata": {
      "needs_background": "light"
     },
     "output_type": "display_data"
    }
   ],
   "source": [
    "fig = plt.figure(figsize = (12, 8))\n",
    "sns.set(style = \"darkgrid\")\n",
    "dataset[\"Target\"].value_counts().plot(kind = \"bar\")\n",
    "\n",
    "# Labeling the Y-axis\n",
    "plt.ylabel(\"Number of Data\")\n",
    "\n",
    "# Labeling the X-axis\n",
    "plt.xlabel(\"Classes\")\n",
    "\n",
    "# Give a title to the graph\n",
    "plt.title(\"Graph of Classes Data\")\n",
    "\n",
    "# Saving the plot as an image\n",
    "fig.savefig(\"D:/Graph_relu_2HL.jpg\", bbox_inches = \"tight\", dpi = 150);\n",
    "plt.show()"
   ]
  },
  {
   "cell_type": "markdown",
   "id": "0b1283fd",
   "metadata": {},
   "source": [
    "### Import plot_missing_value dari jcopml"
   ]
  },
  {
   "cell_type": "code",
   "execution_count": 16,
   "id": "67d91713",
   "metadata": {},
   "outputs": [],
   "source": [
    "from jcopml.plot import plot_missing_value"
   ]
  },
  {
   "cell_type": "code",
   "execution_count": 17,
   "id": "6ea0f4f3",
   "metadata": {},
   "outputs": [
    {
     "data": {
      "text/html": [
       "<div>\n",
       "<style scoped>\n",
       "    .dataframe tbody tr th:only-of-type {\n",
       "        vertical-align: middle;\n",
       "    }\n",
       "\n",
       "    .dataframe tbody tr th {\n",
       "        vertical-align: top;\n",
       "    }\n",
       "\n",
       "    .dataframe thead th {\n",
       "        text-align: right;\n",
       "    }\n",
       "</style>\n",
       "<table border=\"1\" class=\"dataframe\">\n",
       "  <thead>\n",
       "    <tr style=\"text-align: right;\">\n",
       "      <th></th>\n",
       "      <th>missing_value</th>\n",
       "      <th>%</th>\n",
       "    </tr>\n",
       "  </thead>\n",
       "  <tbody>\n",
       "    <tr>\n",
       "      <th>Unnamed: 0</th>\n",
       "      <td>0</td>\n",
       "      <td>0.0</td>\n",
       "    </tr>\n",
       "    <tr>\n",
       "      <th>X1</th>\n",
       "      <td>0</td>\n",
       "      <td>0.0</td>\n",
       "    </tr>\n",
       "    <tr>\n",
       "      <th>X2</th>\n",
       "      <td>0</td>\n",
       "      <td>0.0</td>\n",
       "    </tr>\n",
       "    <tr>\n",
       "      <th>X3</th>\n",
       "      <td>0</td>\n",
       "      <td>0.0</td>\n",
       "    </tr>\n",
       "    <tr>\n",
       "      <th>X4</th>\n",
       "      <td>0</td>\n",
       "      <td>0.0</td>\n",
       "    </tr>\n",
       "    <tr>\n",
       "      <th>X5</th>\n",
       "      <td>0</td>\n",
       "      <td>0.0</td>\n",
       "    </tr>\n",
       "    <tr>\n",
       "      <th>X6</th>\n",
       "      <td>0</td>\n",
       "      <td>0.0</td>\n",
       "    </tr>\n",
       "    <tr>\n",
       "      <th>X7</th>\n",
       "      <td>0</td>\n",
       "      <td>0.0</td>\n",
       "    </tr>\n",
       "    <tr>\n",
       "      <th>X8</th>\n",
       "      <td>0</td>\n",
       "      <td>0.0</td>\n",
       "    </tr>\n",
       "    <tr>\n",
       "      <th>X9</th>\n",
       "      <td>0</td>\n",
       "      <td>0.0</td>\n",
       "    </tr>\n",
       "    <tr>\n",
       "      <th>mean</th>\n",
       "      <td>0</td>\n",
       "      <td>0.0</td>\n",
       "    </tr>\n",
       "    <tr>\n",
       "      <th>Sd</th>\n",
       "      <td>0</td>\n",
       "      <td>0.0</td>\n",
       "    </tr>\n",
       "    <tr>\n",
       "      <th>pdf</th>\n",
       "      <td>0</td>\n",
       "      <td>0.0</td>\n",
       "    </tr>\n",
       "    <tr>\n",
       "      <th>CDF</th>\n",
       "      <td>0</td>\n",
       "      <td>0.0</td>\n",
       "    </tr>\n",
       "    <tr>\n",
       "      <th>Target</th>\n",
       "      <td>0</td>\n",
       "      <td>0.0</td>\n",
       "    </tr>\n",
       "  </tbody>\n",
       "</table>\n",
       "</div>"
      ],
      "text/plain": [
       "            missing_value    %\n",
       "Unnamed: 0              0  0.0\n",
       "X1                      0  0.0\n",
       "X2                      0  0.0\n",
       "X3                      0  0.0\n",
       "X4                      0  0.0\n",
       "X5                      0  0.0\n",
       "X6                      0  0.0\n",
       "X7                      0  0.0\n",
       "X8                      0  0.0\n",
       "X9                      0  0.0\n",
       "mean                    0  0.0\n",
       "Sd                      0  0.0\n",
       "pdf                     0  0.0\n",
       "CDF                     0  0.0\n",
       "Target                  0  0.0"
      ]
     },
     "execution_count": 17,
     "metadata": {},
     "output_type": "execute_result"
    },
    {
     "data": {
      "image/png": "[encoded data removed]",
      "text/plain": [
       "<Figure size 1080x576 with 1 Axes>"
      ]
     },
     "metadata": {},
     "output_type": "display_data"
    }
   ],
   "source": [
    "plot_missing_value(dataset, return_df=True)"
   ]
  },
  {
   "cell_type": "markdown",
   "id": "3719ddf6",
   "metadata": {},
   "source": [
    "### Import LabelEncoder dari module sklearn"
   ]
  },
  {
   "cell_type": "code",
   "execution_count": 18,
   "id": "a5937503",
   "metadata": {},
   "outputs": [],
   "source": [
    "from sklearn.preprocessing import LabelEncoder"
   ]
  },
  {
   "cell_type": "markdown",
   "id": "916efced",
   "metadata": {},
   "source": [
    "### Menyalin / copy dataframe agar dataframe awal tetap utuh"
   ]
  },
  {
   "cell_type": "code",
   "execution_count": 19,
   "id": "aea67447",
   "metadata": {},
   "outputs": [],
   "source": [
    "dataset_int = dataset.copy()"
   ]
  },
  {
   "cell_type": "markdown",
   "id": "1cb77838",
   "metadata": {},
   "source": [
    "### Membuat objek/instance yang bernama encoder"
   ]
  },
  {
   "cell_type": "code",
   "execution_count": 20,
   "id": "861932ff",
   "metadata": {},
   "outputs": [],
   "source": [
    "encoder = LabelEncoder()"
   ]
  },
  {
   "cell_type": "markdown",
   "id": "b7d7b7a6",
   "metadata": {},
   "source": [
    "### Membuat list dari nama kolom data kategori"
   ]
  },
  {
   "cell_type": "code",
   "execution_count": 21,
   "id": "53331344",
   "metadata": {},
   "outputs": [],
   "source": [
    "categorical_data = [\"Target\"]"
   ]
  },
  {
   "cell_type": "markdown",
   "id": "0bd891bf",
   "metadata": {},
   "source": [
    "### Mengubah setiap data kategori menjadi numerik dengan encoder"
   ]
  },
  {
   "cell_type": "code",
   "execution_count": 22,
   "id": "0ebba424",
   "metadata": {},
   "outputs": [],
   "source": [
    "for kolom in categorical_data:\n",
    "    dataset_int[kolom] = encoder.fit_transform(dataset[kolom])"
   ]
  },
  {
   "cell_type": "markdown",
   "id": "fdb717d5",
   "metadata": {},
   "source": [
    "### Sekarang data sudah berupa angka sepenuhnya"
   ]
  },
  {
   "cell_type": "code",
   "execution_count": 23,
   "id": "07c2339f",
   "metadata": {},
   "outputs": [
    {
     "name": "stdout",
     "output_type": "stream",
     "text": [
      "SHAPE OF DATA FRAME dataset_int: (18000, 15)\n"
     ]
    }
   ],
   "source": [
    "print(f'SHAPE OF DATA FRAME dataset_int: {dataset_int.shape}')"
   ]
  },
  {
   "cell_type": "code",
   "execution_count": 24,
   "id": "917e8b14",
   "metadata": {},
   "outputs": [
    {
     "data": {
      "text/html": [
       "<div>\n",
       "<style scoped>\n",
       "    .dataframe tbody tr th:only-of-type {\n",
       "        vertical-align: middle;\n",
       "    }\n",
       "\n",
       "    .dataframe tbody tr th {\n",
       "        vertical-align: top;\n",
       "    }\n",
       "\n",
       "    .dataframe thead th {\n",
       "        text-align: right;\n",
       "    }\n",
       "</style>\n",
       "<table border=\"1\" class=\"dataframe\">\n",
       "  <thead>\n",
       "    <tr style=\"text-align: right;\">\n",
       "      <th></th>\n",
       "      <th>Unnamed: 0</th>\n",
       "      <th>X1</th>\n",
       "      <th>X2</th>\n",
       "      <th>X3</th>\n",
       "      <th>X4</th>\n",
       "      <th>X5</th>\n",
       "      <th>X6</th>\n",
       "      <th>X7</th>\n",
       "      <th>X8</th>\n",
       "      <th>X9</th>\n",
       "      <th>mean</th>\n",
       "      <th>Sd</th>\n",
       "      <th>pdf</th>\n",
       "      <th>CDF</th>\n",
       "      <th>Target</th>\n",
       "    </tr>\n",
       "  </thead>\n",
       "  <tbody>\n",
       "    <tr>\n",
       "      <th>0</th>\n",
       "      <td>1</td>\n",
       "      <td>0.562305</td>\n",
       "      <td>1.361072</td>\n",
       "      <td>0.158537</td>\n",
       "      <td>1.114719</td>\n",
       "      <td>0.345193</td>\n",
       "      <td>0.127999</td>\n",
       "      <td>1.755472</td>\n",
       "      <td>0.040238</td>\n",
       "      <td>0.144744</td>\n",
       "      <td>0.623364</td>\n",
       "      <td>0.630375</td>\n",
       "      <td>0.588851</td>\n",
       "      <td>0.607432</td>\n",
       "      <td>1</td>\n",
       "    </tr>\n",
       "    <tr>\n",
       "      <th>1</th>\n",
       "      <td>2</td>\n",
       "      <td>0.384407</td>\n",
       "      <td>0.003187</td>\n",
       "      <td>2.256612</td>\n",
       "      <td>0.647888</td>\n",
       "      <td>0.075514</td>\n",
       "      <td>0.325827</td>\n",
       "      <td>1.695955</td>\n",
       "      <td>2.766358</td>\n",
       "      <td>0.920136</td>\n",
       "      <td>1.008431</td>\n",
       "      <td>0.999684</td>\n",
       "      <td>0.330489</td>\n",
       "      <td>0.779674</td>\n",
       "      <td>1</td>\n",
       "    </tr>\n",
       "    <tr>\n",
       "      <th>2</th>\n",
       "      <td>3</td>\n",
       "      <td>0.886037</td>\n",
       "      <td>1.675818</td>\n",
       "      <td>2.627197</td>\n",
       "      <td>2.917694</td>\n",
       "      <td>1.874634</td>\n",
       "      <td>0.495568</td>\n",
       "      <td>0.550646</td>\n",
       "      <td>0.602245</td>\n",
       "      <td>0.542942</td>\n",
       "      <td>1.352531</td>\n",
       "      <td>0.952956</td>\n",
       "      <td>0.197240</td>\n",
       "      <td>0.868506</td>\n",
       "      <td>1</td>\n",
       "    </tr>\n",
       "    <tr>\n",
       "      <th>3</th>\n",
       "      <td>4</td>\n",
       "      <td>0.021052</td>\n",
       "      <td>0.449460</td>\n",
       "      <td>0.526025</td>\n",
       "      <td>1.309423</td>\n",
       "      <td>0.205172</td>\n",
       "      <td>0.718937</td>\n",
       "      <td>0.403984</td>\n",
       "      <td>2.337368</td>\n",
       "      <td>0.708223</td>\n",
       "      <td>0.742183</td>\n",
       "      <td>0.700292</td>\n",
       "      <td>0.492723</td>\n",
       "      <td>0.671518</td>\n",
       "      <td>1</td>\n",
       "    </tr>\n",
       "    <tr>\n",
       "      <th>4</th>\n",
       "      <td>5</td>\n",
       "      <td>0.037474</td>\n",
       "      <td>0.072275</td>\n",
       "      <td>0.564295</td>\n",
       "      <td>0.042283</td>\n",
       "      <td>0.489744</td>\n",
       "      <td>0.678072</td>\n",
       "      <td>0.386877</td>\n",
       "      <td>2.746147</td>\n",
       "      <td>0.394915</td>\n",
       "      <td>0.601342</td>\n",
       "      <td>0.838072</td>\n",
       "      <td>0.608628</td>\n",
       "      <td>0.594248</td>\n",
       "      <td>1</td>\n",
       "    </tr>\n",
       "    <tr>\n",
       "      <th>...</th>\n",
       "      <td>...</td>\n",
       "      <td>...</td>\n",
       "      <td>...</td>\n",
       "      <td>...</td>\n",
       "      <td>...</td>\n",
       "      <td>...</td>\n",
       "      <td>...</td>\n",
       "      <td>...</td>\n",
       "      <td>...</td>\n",
       "      <td>...</td>\n",
       "      <td>...</td>\n",
       "      <td>...</td>\n",
       "      <td>...</td>\n",
       "      <td>...</td>\n",
       "      <td>...</td>\n",
       "    </tr>\n",
       "    <tr>\n",
       "      <th>445</th>\n",
       "      <td>446</td>\n",
       "      <td>1.454909</td>\n",
       "      <td>0.744764</td>\n",
       "      <td>0.111202</td>\n",
       "      <td>0.553298</td>\n",
       "      <td>0.330695</td>\n",
       "      <td>0.588303</td>\n",
       "      <td>0.178750</td>\n",
       "      <td>0.100546</td>\n",
       "      <td>0.360805</td>\n",
       "      <td>0.491475</td>\n",
       "      <td>0.424811</td>\n",
       "      <td>0.717669</td>\n",
       "      <td>0.521554</td>\n",
       "      <td>1</td>\n",
       "    </tr>\n",
       "    <tr>\n",
       "      <th>446</th>\n",
       "      <td>447</td>\n",
       "      <td>0.260028</td>\n",
       "      <td>0.115305</td>\n",
       "      <td>0.491474</td>\n",
       "      <td>0.674136</td>\n",
       "      <td>0.559672</td>\n",
       "      <td>0.827936</td>\n",
       "      <td>2.403393</td>\n",
       "      <td>0.461596</td>\n",
       "      <td>0.412977</td>\n",
       "      <td>0.689613</td>\n",
       "      <td>0.675967</td>\n",
       "      <td>0.533149</td>\n",
       "      <td>0.644567</td>\n",
       "      <td>1</td>\n",
       "    </tr>\n",
       "    <tr>\n",
       "      <th>447</th>\n",
       "      <td>448</td>\n",
       "      <td>0.115250</td>\n",
       "      <td>0.022138</td>\n",
       "      <td>1.415829</td>\n",
       "      <td>0.065567</td>\n",
       "      <td>0.704922</td>\n",
       "      <td>0.103098</td>\n",
       "      <td>0.391668</td>\n",
       "      <td>0.773626</td>\n",
       "      <td>0.373916</td>\n",
       "      <td>0.440668</td>\n",
       "      <td>0.457467</td>\n",
       "      <td>0.774500</td>\n",
       "      <td>0.483666</td>\n",
       "      <td>1</td>\n",
       "    </tr>\n",
       "    <tr>\n",
       "      <th>448</th>\n",
       "      <td>449</td>\n",
       "      <td>1.107852</td>\n",
       "      <td>0.124686</td>\n",
       "      <td>0.191649</td>\n",
       "      <td>0.301138</td>\n",
       "      <td>0.278465</td>\n",
       "      <td>0.465515</td>\n",
       "      <td>0.398311</td>\n",
       "      <td>0.997451</td>\n",
       "      <td>0.420878</td>\n",
       "      <td>0.476216</td>\n",
       "      <td>0.345363</td>\n",
       "      <td>0.734284</td>\n",
       "      <td>0.510477</td>\n",
       "      <td>1</td>\n",
       "    </tr>\n",
       "    <tr>\n",
       "      <th>449</th>\n",
       "      <td>450</td>\n",
       "      <td>1.483682</td>\n",
       "      <td>0.384097</td>\n",
       "      <td>1.048202</td>\n",
       "      <td>0.705359</td>\n",
       "      <td>2.548385</td>\n",
       "      <td>1.874398</td>\n",
       "      <td>0.287135</td>\n",
       "      <td>0.121551</td>\n",
       "      <td>0.739871</td>\n",
       "      <td>1.021409</td>\n",
       "      <td>0.806836</td>\n",
       "      <td>0.324118</td>\n",
       "      <td>0.783921</td>\n",
       "      <td>1</td>\n",
       "    </tr>\n",
       "  </tbody>\n",
       "</table>\n",
       "<p>450 rows × 15 columns</p>\n",
       "</div>"
      ],
      "text/plain": [
       "     Unnamed: 0        X1        X2        X3        X4        X5        X6  \\\n",
       "0             1  0.562305  1.361072  0.158537  1.114719  0.345193  0.127999   \n",
       "1             2  0.384407  0.003187  2.256612  0.647888  0.075514  0.325827   \n",
       "2             3  0.886037  1.675818  2.627197  2.917694  1.874634  0.495568   \n",
       "3             4  0.021052  0.449460  0.526025  1.309423  0.205172  0.718937   \n",
       "4             5  0.037474  0.072275  0.564295  0.042283  0.489744  0.678072   \n",
       "..          ...       ...       ...       ...       ...       ...       ...   \n",
       "445         446  1.454909  0.744764  0.111202  0.553298  0.330695  0.588303   \n",
       "446         447  0.260028  0.115305  0.491474  0.674136  0.559672  0.827936   \n",
       "447         448  0.115250  0.022138  1.415829  0.065567  0.704922  0.103098   \n",
       "448         449  1.107852  0.124686  0.191649  0.301138  0.278465  0.465515   \n",
       "449         450  1.483682  0.384097  1.048202  0.705359  2.548385  1.874398   \n",
       "\n",
       "           X7        X8        X9      mean        Sd       pdf       CDF  \\\n",
       "0    1.755472  0.040238  0.144744  0.623364  0.630375  0.588851  0.607432   \n",
       "1    1.695955  2.766358  0.920136  1.008431  0.999684  0.330489  0.779674   \n",
       "2    0.550646  0.602245  0.542942  1.352531  0.952956  0.197240  0.868506   \n",
       "3    0.403984  2.337368  0.708223  0.742183  0.700292  0.492723  0.671518   \n",
       "4    0.386877  2.746147  0.394915  0.601342  0.838072  0.608628  0.594248   \n",
       "..        ...       ...       ...       ...       ...       ...       ...   \n",
       "445  0.178750  0.100546  0.360805  0.491475  0.424811  0.717669  0.521554   \n",
       "446  2.403393  0.461596  0.412977  0.689613  0.675967  0.533149  0.644567   \n",
       "447  0.391668  0.773626  0.373916  0.440668  0.457467  0.774500  0.483666   \n",
       "448  0.398311  0.997451  0.420878  0.476216  0.345363  0.734284  0.510477   \n",
       "449  0.287135  0.121551  0.739871  1.021409  0.806836  0.324118  0.783921   \n",
       "\n",
       "     Target  \n",
       "0         1  \n",
       "1         1  \n",
       "2         1  \n",
       "3         1  \n",
       "4         1  \n",
       "..      ...  \n",
       "445       1  \n",
       "446       1  \n",
       "447       1  \n",
       "448       1  \n",
       "449       1  \n",
       "\n",
       "[450 rows x 15 columns]"
      ]
     },
     "execution_count": 24,
     "metadata": {},
     "output_type": "execute_result"
    }
   ],
   "source": [
    "dataset_int.head(450)"
   ]
  },
  {
   "cell_type": "markdown",
   "id": "1e4e96d4",
   "metadata": {},
   "source": [
    "### Import TensorDataset, DataLoader dari module torch"
   ]
  },
  {
   "cell_type": "code",
   "execution_count": 25,
   "id": "9289cd2f",
   "metadata": {},
   "outputs": [],
   "source": [
    "from torch.utils.data import TensorDataset, DataLoader"
   ]
  },
  {
   "cell_type": "markdown",
   "id": "5bfbd6ee",
   "metadata": {},
   "source": [
    "### Import train_test_split dari module sklearn"
   ]
  },
  {
   "cell_type": "code",
   "execution_count": 26,
   "id": "94894fda",
   "metadata": {},
   "outputs": [],
   "source": [
    "from sklearn.model_selection import train_test_split"
   ]
  },
  {
   "cell_type": "markdown",
   "id": "3d1c826e",
   "metadata": {},
   "source": [
    "### Mengambil data tetap"
   ]
  },
  {
   "cell_type": "code",
   "execution_count": 27,
   "id": "72d8a39a",
   "metadata": {},
   "outputs": [],
   "source": [
    "RANDOM_SEED = 123\n",
    "np.random.seed(RANDOM_SEED)"
   ]
  },
  {
   "cell_type": "markdown",
   "id": "4dd4de42",
   "metadata": {},
   "source": [
    "### Memisahkan dataframe awal menjadi data dan label"
   ]
  },
  {
   "cell_type": "code",
   "execution_count": 28,
   "id": "ec149168",
   "metadata": {},
   "outputs": [],
   "source": [
    "X = dataset_int.iloc[:, 1:-1].values\n",
    "y = dataset_int.iloc[:, -1].values"
   ]
  },
  {
   "cell_type": "code",
   "execution_count": 29,
   "id": "1efacb32",
   "metadata": {},
   "outputs": [],
   "source": [
    "X_train, X_test, y_train, y_test = train_test_split(X, y, test_size = 0.2, random_state = 33)"
   ]
  },
  {
   "cell_type": "markdown",
   "id": "31bf6eda",
   "metadata": {},
   "source": [
    "## FEATURE SCALING"
   ]
  },
  {
   "cell_type": "markdown",
   "id": "ccfa325a",
   "metadata": {},
   "source": [
    "### Import MinMaxScaler dari module sklearn"
   ]
  },
  {
   "cell_type": "code",
   "execution_count": 30,
   "id": "a4ba9b48",
   "metadata": {},
   "outputs": [],
   "source": [
    "from sklearn.preprocessing import StandardScaler"
   ]
  },
  {
   "cell_type": "code",
   "execution_count": 31,
   "id": "42b35e29",
   "metadata": {},
   "outputs": [],
   "source": [
    "scaler = StandardScaler()\n",
    "X_train = scaler.fit_transform(X_train)\n",
    "X_test = scaler.transform(X_test)"
   ]
  },
  {
   "cell_type": "code",
   "execution_count": 32,
   "id": "50761aa8",
   "metadata": {},
   "outputs": [],
   "source": [
    "X_train = torch.FloatTensor(X_train)\n",
    "X_test = torch.FloatTensor(X_test)"
   ]
  },
  {
   "cell_type": "code",
   "execution_count": 33,
   "id": "d2362977",
   "metadata": {},
   "outputs": [
    {
     "data": {
      "text/plain": [
       "tensor([[-0.0336, -0.0598, -0.0656,  ..., -0.0841,  1.3823,  0.5474],\n",
       "        [-0.0336, -0.0597, -0.0663,  ..., -0.0845,  3.0402, -1.2867],\n",
       "        [-0.0336, -0.0592, -0.0616,  ..., -0.0840,  0.6023, -0.2313],\n",
       "        ...,\n",
       "        [-0.0335, -0.0581, -0.0652,  ..., -0.0844,  1.9382, -0.4034],\n",
       "        [-0.0306, -0.0554, -0.0568,  ..., -0.0834, -0.3787,  0.1457],\n",
       "        [-0.0313, -0.0557, -0.0616,  ..., -0.0824, -0.4744, -0.0304]])"
      ]
     },
     "execution_count": 33,
     "metadata": {},
     "output_type": "execute_result"
    }
   ],
   "source": [
    "X_train"
   ]
  },
  {
   "cell_type": "code",
   "execution_count": 34,
   "id": "c60e5a2f",
   "metadata": {},
   "outputs": [
    {
     "name": "stdout",
     "output_type": "stream",
     "text": [
      "X_train: torch.Size([14400, 13])\n"
     ]
    }
   ],
   "source": [
    "print(f'X_train: {X_train.shape}')"
   ]
  },
  {
   "cell_type": "code",
   "execution_count": 35,
   "id": "abb715ca",
   "metadata": {},
   "outputs": [
    {
     "name": "stdout",
     "output_type": "stream",
     "text": [
      "y_train: (14400,)\n"
     ]
    }
   ],
   "source": [
    "print(f'y_train: {y_train.shape}')"
   ]
  },
  {
   "cell_type": "code",
   "execution_count": 36,
   "id": "375d8ca6",
   "metadata": {},
   "outputs": [],
   "source": [
    "y_train = F.one_hot(torch.LongTensor(y_train), num_classes = 9)\n",
    "y_test = F.one_hot(torch.LongTensor(y_test), num_classes = 9)"
   ]
  },
  {
   "cell_type": "code",
   "execution_count": 37,
   "id": "be442184",
   "metadata": {},
   "outputs": [],
   "source": [
    "y_train = (y_train).to(torch.float32)\n",
    "y_test = (y_test).to(torch.float32)"
   ]
  },
  {
   "cell_type": "code",
   "execution_count": 38,
   "id": "31028d00",
   "metadata": {},
   "outputs": [
    {
     "name": "stdout",
     "output_type": "stream",
     "text": [
      "X_test: torch.Size([3600, 13])\n"
     ]
    }
   ],
   "source": [
    "print(f'X_test: {X_test.shape}')"
   ]
  },
  {
   "cell_type": "code",
   "execution_count": 39,
   "id": "54915e69",
   "metadata": {},
   "outputs": [
    {
     "name": "stdout",
     "output_type": "stream",
     "text": [
      "y_test: torch.Size([3600, 9])\n"
     ]
    }
   ],
   "source": [
    "print(f'y_test: {y_test.shape}')"
   ]
  },
  {
   "cell_type": "code",
   "execution_count": 40,
   "id": "95943f6e",
   "metadata": {},
   "outputs": [],
   "source": [
    "train_set = TensorDataset(X_train, y_train)\n",
    "trainloader = DataLoader(train_set, batch_size = 32, shuffle = True)"
   ]
  },
  {
   "cell_type": "code",
   "execution_count": 41,
   "id": "8c4dd847",
   "metadata": {},
   "outputs": [],
   "source": [
    "test_set = TensorDataset(X_test, y_test)\n",
    "testloader = DataLoader(test_set, batch_size = 32, shuffle = False)"
   ]
  },
  {
   "cell_type": "code",
   "execution_count": 42,
   "id": "07ac1545",
   "metadata": {},
   "outputs": [],
   "source": [
    "iterator = iter (trainloader)"
   ]
  },
  {
   "cell_type": "code",
   "execution_count": 43,
   "id": "7580ab5b",
   "metadata": {},
   "outputs": [
    {
     "data": {
      "text/plain": [
       "[tensor([[-3.3278e-02, -5.7832e-02, -6.3992e-02, -6.9695e-02, -2.8226e-02,\n",
       "          -4.9135e-02, -4.6074e-02, -3.9216e-02, -5.6963e-02, -1.0989e-01,\n",
       "          -8.4193e-02,  6.1519e-01, -2.4709e-01],\n",
       "         [-8.6552e-03,  1.0960e-02,  9.2084e-04,  1.0995e-02, -9.6336e-03,\n",
       "          -1.1446e-02, -5.6308e-03, -7.1041e-03,  1.3233e-02, -1.1313e-02,\n",
       "          -8.4260e-02,  1.1548e+00,  4.8226e-02],\n",
       "         [-3.2786e-02, -4.7977e-02, -6.4985e-02, -7.1705e-02, -2.8556e-02,\n",
       "          -4.8197e-02, -4.8196e-02, -3.8845e-02, -5.6030e-02, -1.0872e-01,\n",
       "          -8.2934e-02,  8.3176e-02,  3.7785e-01],\n",
       "         [-3.3609e-02, -4.8120e-02, -6.4782e-02, -6.4715e-02, -2.8162e-02,\n",
       "          -4.9452e-02, -4.1980e-02, -3.6063e-02, -4.5196e-02, -1.0400e-01,\n",
       "          -8.2149e-02, -5.0740e-01,  9.7539e-02],\n",
       "         [-8.6383e-03,  9.8886e-03,  9.2814e-04,  1.1584e-02, -9.3419e-03,\n",
       "          -1.0440e-02, -4.3884e-03, -7.5812e-03,  1.1510e-02, -1.1056e-02,\n",
       "          -8.4214e-02,  1.2410e+00,  2.6621e-01],\n",
       "         [-3.1106e-02, -5.5093e-02, -5.9558e-02, -6.9715e-02, -2.7681e-02,\n",
       "          -4.6805e-02, -4.7287e-02, -3.8758e-02, -5.6791e-02, -1.0684e-01,\n",
       "          -8.3617e-02, -5.7434e-02, -7.3163e-01],\n",
       "         [-3.3105e-02, -5.6763e-02, -6.3923e-02, -7.1261e-02, -2.7064e-02,\n",
       "          -4.8630e-02, -4.8404e-02, -3.9313e-02, -5.6531e-02, -1.0956e-01,\n",
       "          -8.3838e-02, -5.5971e-01, -1.9995e+00],\n",
       "         [ 4.5619e-02, -5.7287e-02, -6.6286e-02, -7.1859e-02, -2.6256e-02,\n",
       "           5.0379e-01, -4.7623e-02, -3.9604e-02, -5.8580e-02,  8.5436e-02,\n",
       "           8.2256e-02, -1.1327e+00,  1.3580e+00],\n",
       "         [-2.7001e-02, -5.7859e-02, -6.1232e-02, -6.6196e-02, -2.8044e-02,\n",
       "          -4.4990e-02, -4.7932e-02, -3.8969e-02, -5.7084e-02, -1.0517e-01,\n",
       "          -8.1834e-02, -7.1375e-01,  1.3336e+00],\n",
       "         [-3.2238e-02, -5.9207e-02, -6.6230e-02, -7.2252e-02, -2.8627e-02,\n",
       "          -4.9840e-02, -4.8006e-02, -3.7326e-02, -5.6828e-02, -1.1061e-01,\n",
       "          -8.3777e-02,  7.4360e-01,  5.5402e-01],\n",
       "         [-3.2785e-02, -5.9591e-02, -6.6118e-02, -7.0187e-02, -2.8335e-02,\n",
       "          -4.9633e-02, -4.8576e-02, -3.9817e-02, -5.6446e-02, -1.1133e-01,\n",
       "          -8.4258e-02,  1.5524e+00,  4.4518e-01],\n",
       "         [-8.8104e-03,  1.0873e-02, -3.7600e-03,  1.1248e-02, -9.6313e-03,\n",
       "          -1.0664e-02, -4.4307e-03, -7.3707e-03,  1.1083e-02, -1.2055e-02,\n",
       "          -8.3835e-02,  8.0032e-01, -5.2271e-01],\n",
       "         [-3.2811e-02, -5.8892e-02, -6.4625e-02, -7.2046e-02, -2.8718e-02,\n",
       "          -4.7135e-02, -4.8051e-02, -3.9631e-02, -5.8175e-02, -1.1082e-01,\n",
       "          -8.3869e-02,  9.2812e-01,  4.0612e-01],\n",
       "         [-3.2370e-02, -5.1795e-02, -5.9926e-02, -5.6610e-02, -2.8137e-02,\n",
       "          -4.5061e-02, -4.5418e-02, -3.6962e-02, -5.1538e-02, -1.0299e-01,\n",
       "          -8.3096e-02, -8.5708e-01, -2.0998e-01],\n",
       "         [-3.2169e-02, -5.8268e-02, -6.4430e-02, -7.0990e-02, -2.7939e-02,\n",
       "          -4.8775e-02, -4.7426e-02, -3.8802e-02, -5.6106e-02, -1.0949e-01,\n",
       "          -8.4263e-02, -5.5400e-01, -1.9841e+00],\n",
       "         [-8.9740e-03,  1.1936e-02, -2.6448e-03,  1.0884e-02, -9.7919e-03,\n",
       "          -1.0715e-02, -4.2075e-03, -7.6586e-03,  1.1216e-02, -1.1953e-02,\n",
       "          -8.3980e-02,  8.5400e-01, -4.5017e-01],\n",
       "         [-3.2912e-02, -5.5235e-02, -5.9748e-02, -6.7577e-02, -2.7989e-02,\n",
       "          -4.6353e-02, -3.8009e-02, -3.7732e-02, -5.3234e-02, -1.0421e-01,\n",
       "          -8.2434e-02, -3.7774e-01,  1.4347e-01],\n",
       "         [-3.3049e-02, -5.9111e-02, -6.6200e-02, -6.6906e-02, -2.8788e-02,\n",
       "          -4.7908e-02, -4.7060e-02, -3.9672e-02, -5.6890e-02, -1.1035e-01,\n",
       "          -8.3843e-02,  5.3148e-01,  7.2403e-01],\n",
       "         [-3.3377e-02, -5.4539e-02, -6.0467e-02, -7.0855e-02, -2.7747e-02,\n",
       "          -4.8527e-02, -4.6452e-02, -3.8957e-02, -5.2453e-02, -1.0780e-01,\n",
       "          -8.3685e-02, -2.2087e-01,  7.2901e-01],\n",
       "         [-3.2565e-02, -4.8303e-02, -5.0996e-02, -6.5877e-02, -2.7906e-02,\n",
       "          -4.8308e-02, -3.5748e-02, -3.5753e-02, -4.2178e-02, -9.8739e-02,\n",
       "          -8.1341e-02, -8.0422e-01,  1.1720e+00],\n",
       "         [-3.0141e-02, -5.5285e-02, -6.5951e-02, -6.4222e-02, -2.8163e-02,\n",
       "          -4.9149e-02, -4.8969e-02, -3.7663e-02, -4.1156e-02, -1.0528e-01,\n",
       "          -8.1940e-02, -4.2941e-01, -2.1351e-01],\n",
       "         [-3.1868e-02, -5.6502e-02, -6.4482e-02, -6.9373e-02, -2.8697e-02,\n",
       "          -4.6007e-02, -4.7597e-02, -3.9510e-02, -5.7690e-02, -1.0905e-01,\n",
       "          -8.3537e-02,  2.1685e-01,  2.2399e-01],\n",
       "         [-1.0211e-02,  9.1720e-03,  1.5704e-03,  5.9405e-03, -9.2363e-03,\n",
       "          -1.2120e-02, -3.5913e-03, -7.0786e-03,  1.2953e-02, -1.2373e-02,\n",
       "          -8.3703e-02,  6.3051e-01, -7.3592e-01],\n",
       "         [-3.3279e-02, -5.7279e-02, -6.3629e-02, -6.7693e-02, -2.8396e-02,\n",
       "          -4.8886e-02, -4.7331e-02, -3.8488e-02, -5.6019e-02, -1.0941e-01,\n",
       "          -8.4296e-02, -5.4788e-01, -1.9669e+00],\n",
       "         [-3.2347e-02, -5.6933e-02, -6.5026e-02, -7.1898e-02, -2.7784e-02,\n",
       "          -5.0030e-02, -4.8560e-02, -3.9225e-02, -5.7359e-02, -1.1048e-01,\n",
       "          -8.4003e-02, -6.5043e-01, -2.1789e+00],\n",
       "         [-3.0601e-02, -5.7467e-02, -6.2249e-02, -6.4690e-02, -2.6438e-02,\n",
       "          -4.6445e-02, -4.5767e-02, -3.5702e-02, -5.5688e-02, -1.0430e-01,\n",
       "          -8.3458e-02, -7.6816e-01, -3.5551e-01],\n",
       "         [-3.2833e-02, -5.4638e-02, -6.0762e-02, -6.5596e-02, -2.6750e-02,\n",
       "          -4.6626e-02, -4.5959e-02, -3.7728e-02, -5.2571e-02, -1.0523e-01,\n",
       "          -8.3981e-02, -6.9276e-01, -4.6718e-01],\n",
       "         [-3.3023e-02, -4.7952e-02, -6.5293e-02, -7.1286e-02, -2.8690e-02,\n",
       "          -4.6871e-02, -4.6551e-02, -3.8441e-02, -5.1047e-02, -1.0716e-01,\n",
       "          -8.2776e-02, -3.8409e-01,  9.2172e-01],\n",
       "         [-1.9286e-02, -5.8329e-02, -6.2719e-02, -6.4755e-02, -2.6795e-02,\n",
       "          -4.7986e-02, -3.8573e-02, -3.8442e-02, -4.3633e-02, -9.7211e-02,\n",
       "          -7.8441e-02, -8.7151e-01,  1.3381e+00],\n",
       "         [-3.1940e-02, -5.6591e-02, -4.3482e-02, -6.3476e-02, -2.5775e-02,\n",
       "          -4.4968e-02, -4.7255e-02, -3.7629e-02, -5.3412e-02, -1.0130e-01,\n",
       "          -8.1396e-02, -6.4730e-01,  7.9304e-01],\n",
       "         [-3.3655e-02, -6.0031e-02, -2.2314e-02,  9.7941e-01, -2.8602e-02,\n",
       "           6.9951e-02, -4.8654e-02,  1.1121e-01, -5.8554e-02,  1.2554e-01,\n",
       "           6.6563e-02, -1.1340e+00,  1.3179e+00],\n",
       "         [-3.3254e-02, -5.9480e-02, -6.5783e-02, -7.1499e-02, -2.8407e-02,\n",
       "          -4.9558e-02, -4.8875e-02, -3.9637e-02, -5.5580e-02, -1.1155e-01,\n",
       "          -8.4289e-02,  1.7361e+00, -2.4143e-01]]),\n",
       " tensor([[0., 0., 1., 0., 0., 0., 0., 0., 0.],\n",
       "         [0., 0., 0., 0., 0., 0., 1., 0., 0.],\n",
       "         [0., 0., 1., 0., 0., 0., 0., 0., 0.],\n",
       "         [1., 0., 0., 0., 0., 0., 0., 0., 0.],\n",
       "         [0., 0., 0., 0., 0., 0., 1., 0., 0.],\n",
       "         [0., 0., 0., 0., 0., 0., 0., 1., 0.],\n",
       "         [0., 0., 0., 1., 0., 0., 0., 0., 0.],\n",
       "         [0., 0., 0., 0., 1., 0., 0., 0., 0.],\n",
       "         [0., 0., 1., 0., 0., 0., 0., 0., 0.],\n",
       "         [0., 1., 0., 0., 0., 0., 0., 0., 0.],\n",
       "         [0., 0., 0., 0., 0., 0., 0., 0., 1.],\n",
       "         [0., 0., 0., 0., 0., 0., 1., 0., 0.],\n",
       "         [0., 1., 0., 0., 0., 0., 0., 0., 0.],\n",
       "         [0., 0., 0., 0., 0., 1., 0., 0., 0.],\n",
       "         [0., 0., 0., 1., 0., 0., 0., 0., 0.],\n",
       "         [0., 0., 0., 0., 0., 0., 1., 0., 0.],\n",
       "         [0., 0., 0., 0., 0., 0., 0., 1., 0.],\n",
       "         [0., 1., 0., 0., 0., 0., 0., 0., 0.],\n",
       "         [0., 0., 1., 0., 0., 0., 0., 0., 0.],\n",
       "         [0., 0., 0., 0., 0., 0., 0., 1., 0.],\n",
       "         [1., 0., 0., 0., 0., 0., 0., 0., 0.],\n",
       "         [0., 0., 1., 0., 0., 0., 0., 0., 0.],\n",
       "         [0., 0., 0., 0., 0., 0., 1., 0., 0.],\n",
       "         [0., 0., 0., 1., 0., 0., 0., 0., 0.],\n",
       "         [0., 0., 0., 1., 0., 0., 0., 0., 0.],\n",
       "         [0., 0., 0., 0., 0., 1., 0., 0., 0.],\n",
       "         [0., 0., 0., 0., 0., 1., 0., 0., 0.],\n",
       "         [0., 0., 1., 0., 0., 0., 0., 0., 0.],\n",
       "         [0., 0., 0., 0., 0., 0., 0., 1., 0.],\n",
       "         [0., 0., 0., 0., 0., 0., 0., 1., 0.],\n",
       "         [0., 0., 0., 0., 1., 0., 0., 0., 0.],\n",
       "         [0., 1., 0., 0., 0., 0., 0., 0., 0.]])]"
      ]
     },
     "execution_count": 43,
     "metadata": {},
     "output_type": "execute_result"
    }
   ],
   "source": [
    "iterator.next()"
   ]
  },
  {
   "cell_type": "markdown",
   "id": "79d109aa",
   "metadata": {},
   "source": [
    "## BANGUN ARSITEKTUR DAN CONFIG"
   ]
  },
  {
   "cell_type": "code",
   "execution_count": 44,
   "id": "cd0efd40",
   "metadata": {},
   "outputs": [],
   "source": [
    "class DistributionClassifier(nn.Module):\n",
    "    def __init__(self, in_features, h1, h2, out_features):\n",
    "        super().__init__()\n",
    "        self.fc1 = nn.Linear(in_features, h1)    # input layer\n",
    "        self.fc2 = nn.Linear(h1, h2)             # hidden layer\n",
    "        self.out = nn.Linear(h2, out_features)   # output layer\n",
    "        \n",
    "    def forward(self, x):\n",
    "        x = F.relu(self.fc1(x))\n",
    "        x = F.relu(self.fc2(x))\n",
    "        x = self.out(x)\n",
    "        return x"
   ]
  },
  {
   "cell_type": "markdown",
   "id": "3c945afa",
   "metadata": {},
   "source": [
    "### Import Callback, set_config dari module jcopdl"
   ]
  },
  {
   "cell_type": "code",
   "execution_count": 45,
   "id": "f0d184a2",
   "metadata": {},
   "outputs": [],
   "source": [
    "from jcopdl.callback import Callback, set_config"
   ]
  },
  {
   "cell_type": "code",
   "execution_count": 46,
   "id": "29f95de4",
   "metadata": {},
   "outputs": [],
   "source": [
    "config = set_config({\n",
    "    \"in_features\":13,\n",
    "    \"h1\":12,\n",
    "    \"h2\":12,\n",
    "    \"out_features\":9\n",
    "})"
   ]
  },
  {
   "cell_type": "markdown",
   "id": "43409b8e",
   "metadata": {},
   "source": [
    "## TRAINING PREPARATION -> MCOC"
   ]
  },
  {
   "cell_type": "code",
   "execution_count": 47,
   "id": "229d288b",
   "metadata": {},
   "outputs": [],
   "source": [
    "model = DistributionClassifier(config.in_features, config.h1, config.h2,\n",
    "                               config.out_features)\n",
    "criterion = nn.BCEWithLogitsLoss()\n",
    "optimizer = torch.optim.Adam(model.parameters(), lr = 0.01)\n",
    "callback = Callback(model, config, early_stop_patience = 10, outdir = \"D:/Model_StandarScaler_Relu_2HL\")"
   ]
  },
  {
   "cell_type": "markdown",
   "id": "9ceab441",
   "metadata": {},
   "source": [
    "## TRAINING LOOPING "
   ]
  },
  {
   "cell_type": "markdown",
   "id": "6e3f376d",
   "metadata": {},
   "source": [
    "### Import tqdm dari module tqdm"
   ]
  },
  {
   "cell_type": "code",
   "execution_count": 48,
   "id": "ec934b36",
   "metadata": {},
   "outputs": [],
   "source": [
    "from tqdm.auto import  tqdm"
   ]
  },
  {
   "cell_type": "code",
   "execution_count": 49,
   "id": "ef843ad8",
   "metadata": {},
   "outputs": [],
   "source": [
    "def loop_fn(mode, dataset, dataloader, model, criterion, optimizer):\n",
    "    if mode == \"train\":\n",
    "        model.train()\n",
    "    elif mode == \"test\":\n",
    "        model.eval()\n",
    "    cost = correct = 0\n",
    "    for feature, target in tqdm(dataloader, desc = mode.title()):\n",
    "        output = model(feature)          # feedforward\n",
    "        loss = criterion(output, target)\n",
    "        \n",
    "        if mode == \"train\":\n",
    "            loss.backward()\n",
    "            optimizer.step()              # update weight\n",
    "            optimizer.zero_grad()\n",
    "            \n",
    "        cost += loss.item() * feature.shape[0]\n",
    "        correct += (output.argmax(1) == target.argmax(1)).sum().item()\n",
    "    cost = (cost/len(dataset))\n",
    "    correct = (correct/len(dataset))\n",
    "    return cost, correct"
   ]
  },
  {
   "cell_type": "code",
   "execution_count": 50,
   "id": "58231d23",
   "metadata": {},
   "outputs": [],
   "source": [
    "np.random.seed(123)"
   ]
  },
  {
   "cell_type": "code",
   "execution_count": 52,
   "id": "b64bf4b0",
   "metadata": {},
   "outputs": [
    {
     "data": {
      "text/plain": [
       "OrderedDict([('fc1.weight',\n",
       "              tensor([[-2.5618, -2.6317, -2.1125, -2.3840, -0.7754, -1.7775, -1.9485, -2.1305,\n",
       "                       -2.3725, -1.3282, -1.2140, -0.6701, -1.1821],\n",
       "                      [ 0.4826, -0.2061,  0.0719, -0.0555,  0.8214,  0.1190,  0.6139,  0.1769,\n",
       "                        0.2888,  0.0666,  0.0580, -3.1715, -1.7510],\n",
       "                      [-1.9965, -2.7879, -1.9671, -1.8442, -0.9051, -2.0527, -2.3569, -1.2686,\n",
       "                       -2.7833, -1.8655,  0.2261,  3.2047,  1.7106],\n",
       "                      [ 0.7401,  0.6786,  0.5860,  0.6429,  0.8157,  0.9495,  1.2361,  0.9694,\n",
       "                        0.6903, -0.2034, -0.6838, -2.7664, -1.8102],\n",
       "                      [-0.6301,  0.4297, -0.1953,  0.6362, -1.4794, -0.8657, -0.6500, -1.2443,\n",
       "                        0.2528, -0.1524, -2.2573,  1.6685, -0.8345],\n",
       "                      [-3.7237, -3.8153, -4.5512, -4.9377, -3.7687, -3.5730, -4.3259, -3.8961,\n",
       "                       -4.8240, -4.3067, -0.0670,  0.7208, -0.4352],\n",
       "                      [ 0.5016,  0.9166,  0.8062,  0.8422,  0.1523,  0.6843,  0.9112,  0.8116,\n",
       "                        0.5845,  0.3605, -1.0112,  2.5546,  0.5428],\n",
       "                      [ 2.0129,  1.6030,  1.1230,  1.3049,  2.2400,  1.2119,  2.1308,  1.5670,\n",
       "                        1.2544,  0.1499, -1.1215, -0.3103, -3.4620],\n",
       "                      [ 0.4935,  0.4254,  1.1215,  0.7535,  0.9022,  0.9010,  0.9043,  1.5316,\n",
       "                        0.3978,  1.8501,  1.6009, -2.3592, -0.9855],\n",
       "                      [-1.2043, -0.5357, -0.9618, -1.8830, -1.3510, -0.7269, -1.0571, -1.2036,\n",
       "                       -0.9680, -1.7223,  0.0945,  1.3804,  0.5480],\n",
       "                      [-1.4861, -0.4445, -0.3147, -0.3259, -1.8677, -0.3093, -0.8900, -0.8816,\n",
       "                       -0.6248, -1.0740, -2.0609, -0.8743, -1.5814],\n",
       "                      [ 1.0234,  0.3277,  0.7659,  0.8160,  0.8234,  0.8096,  1.0297,  1.3271,\n",
       "                        0.1622,  1.0682,  1.5082, -2.9171, -1.2334]])),\n",
       "             ('fc1.bias',\n",
       "              tensor([ 0.5632, -0.1632, -0.5298,  0.3525,  2.1756, -0.1533,  1.7812, -0.9929,\n",
       "                      -0.0369,  0.3698,  1.6589, -0.3632])),\n",
       "             ('fc2.weight',\n",
       "              tensor([[-1.2607e-01,  6.8120e-02, -1.8701e-01, -2.3815e-01,  1.4401e-01,\n",
       "                       -1.8939e-01, -2.1234e-01, -2.8718e-01,  3.4567e-02,  1.2624e-02,\n",
       "                        4.4696e-02, -3.7971e-01],\n",
       "                      [ 1.2305e-03, -2.5534e+00,  2.9537e+00, -1.3635e+00,  1.5967e+00,\n",
       "                        1.4945e+00,  1.9410e+00,  2.0263e+00, -2.7855e+00,  9.3014e-01,\n",
       "                       -1.9341e-01, -5.9271e+00],\n",
       "                      [-1.4478e+00,  1.1947e+00,  2.1527e+00,  1.4884e+00, -4.8527e-02,\n",
       "                       -2.2740e+00,  3.0132e+00,  8.1044e-01,  1.4643e+00,  1.0857e+00,\n",
       "                       -7.7171e-01,  2.2148e+00],\n",
       "                      [-3.2426e-01,  1.4171e+00,  3.8059e+00,  1.1754e+00, -1.2589e+00,\n",
       "                        1.3873e+00, -3.0805e-02, -6.3444e-01,  1.8579e+00,  1.1313e+00,\n",
       "                       -1.0381e+00,  3.6581e+00],\n",
       "                      [ 1.8841e+00, -8.6729e-01, -9.2519e-01, -6.3549e-01,  1.4018e-01,\n",
       "                        2.2407e+00, -2.6293e-01, -6.4162e-01,  1.9906e+00,  2.1042e-01,\n",
       "                        7.6355e-01,  1.1474e+00],\n",
       "                      [ 2.0359e+00,  1.4416e+00, -2.7292e+00,  1.0644e+00,  1.3773e+00,\n",
       "                        4.1262e-01,  9.2654e-02,  9.7645e-01, -4.4943e-01, -3.9196e-01,\n",
       "                        2.8670e+00, -3.0561e-01],\n",
       "                      [-4.5284e-02, -3.2875e-02, -1.1781e-01, -2.6069e-01, -2.8092e-01,\n",
       "                        1.0729e-01, -1.5850e-01, -1.8558e-01, -2.2523e-02, -9.6132e-02,\n",
       "                       -9.3392e-02,  9.2755e-03],\n",
       "                      [ 9.3817e-01, -1.2923e+00, -1.4839e+00, -1.3238e+00,  2.1500e+00,\n",
       "                        1.9484e+00,  9.6331e-01,  1.4737e+00, -2.6995e+00,  1.9685e+00,\n",
       "                        1.4148e+00, -4.8036e+00],\n",
       "                      [ 8.4753e-01,  1.6637e+00, -2.4446e-01,  1.6202e+00,  1.0441e+00,\n",
       "                       -1.8388e+00,  1.4078e+00,  7.6208e-01,  2.1310e-01, -3.5651e-01,\n",
       "                        1.8908e+00,  1.4995e+00],\n",
       "                      [-6.6793e-01, -1.2425e-01,  1.1113e+00,  1.8941e-01,  5.6022e-01,\n",
       "                       -9.4678e-01,  1.3898e+00, -6.5419e-01,  1.9317e+00, -2.2980e-02,\n",
       "                        2.5268e-01,  2.2942e+00],\n",
       "                      [ 8.4920e-01,  2.9462e-01,  9.6700e-01,  3.1080e-01,  2.3714e-01,\n",
       "                       -3.7310e-01, -7.6644e-01, -4.7114e+00,  1.0529e+00, -8.9609e-01,\n",
       "                        7.9072e-01,  1.8717e+00],\n",
       "                      [-1.1497e-02, -5.1854e-03,  8.5317e-02,  9.8975e-02, -1.1362e-02,\n",
       "                       -4.2153e-01, -7.3429e-02,  1.3833e-02, -1.5169e-01, -2.2570e-01,\n",
       "                        9.7297e-02, -1.7612e-01]])),\n",
       "             ('fc2.bias',\n",
       "              tensor([-0.3150,  0.5787, -0.1923, -0.7160,  0.8523,  1.5871, -0.2189,  0.9173,\n",
       "                       0.7473,  1.0292,  0.9770, -0.3178])),\n",
       "             ('out.weight',\n",
       "              tensor([[-2.1721e-01, -7.0722e+00, -3.6131e+00, -8.5250e-01,  3.6227e-01,\n",
       "                        3.8979e-01, -2.6503e-01,  9.2473e-01, -3.1169e-01, -5.7037e-01,\n",
       "                       -6.1891e-01, -1.3048e-01],\n",
       "                      [ 5.1920e-02,  4.1581e-01, -1.6686e+00, -7.9369e-01,  2.2241e+00,\n",
       "                       -6.8229e+00, -1.2032e-01,  1.4541e+00,  4.7623e-01, -2.5436e-01,\n",
       "                       -1.7784e-01, -3.1672e-01],\n",
       "                      [-1.9106e-01,  2.2303e+00, -4.9197e+00, -2.1918e+00,  7.3965e-01,\n",
       "                       -2.1385e+00,  1.3025e-02,  1.0532e+00, -2.3653e+00,  6.4766e-01,\n",
       "                        2.8166e-01, -2.9954e-01],\n",
       "                      [-6.1306e-02, -8.1472e-01, -1.5482e+00,  9.8780e-01,  1.9296e-01,\n",
       "                        4.0232e-01, -1.3975e-01, -2.6267e+00,  4.5947e-02, -1.5424e+00,\n",
       "                       -2.6998e+00, -5.3425e-02],\n",
       "                      [-7.5383e-02, -1.8121e+00,  1.1749e+00,  1.6262e+00,  3.2612e-01,\n",
       "                       -9.6045e-01, -2.6739e-01, -1.7402e+00, -5.5491e-01,  7.1823e-02,\n",
       "                       -5.8784e-02, -5.8094e-02],\n",
       "                      [-1.8881e-02, -1.6269e+00, -3.1651e+00, -1.1968e+00,  9.6140e-01,\n",
       "                        3.4000e-01,  3.4999e-02, -4.6111e+00, -5.2285e-03, -6.4237e-02,\n",
       "                        1.3175e+00,  1.9886e-01],\n",
       "                      [-3.5539e-01,  1.4365e-01,  8.2223e-01, -1.3845e+00, -2.9962e+00,\n",
       "                        5.8584e-01, -2.8467e-01, -1.2399e-01,  6.9575e-01, -1.0244e-01,\n",
       "                       -4.5829e-01, -1.6235e-01],\n",
       "                      [ 9.0915e-02, -4.3852e-01, -5.9454e+00, -6.0402e+00, -7.0251e-02,\n",
       "                        2.1270e-01, -2.0412e-01,  1.8004e+00, -8.5070e-01, -1.8371e+00,\n",
       "                       -1.5967e+00,  1.9327e-01],\n",
       "                      [ 2.3965e-01,  8.1650e-01, -2.8683e-01,  1.2882e+00, -3.8124e+00,\n",
       "                       -1.6434e+00,  1.4424e-01, -5.3923e-01, -2.6867e+00, -1.0848e+00,\n",
       "                       -1.3110e+00,  1.3457e-03]])),\n",
       "             ('out.bias',\n",
       "              tensor([-0.3255, -0.8689,  0.6620, -1.0213, -1.3009,  0.2248,  0.1487, -0.0145,\n",
       "                      -0.8527]))])"
      ]
     },
     "execution_count": 52,
     "metadata": {},
     "output_type": "execute_result"
    }
   ],
   "source": [
    "model.state_dict()"
   ]
  },
  {
   "cell_type": "code",
   "execution_count": 53,
   "id": "d946cce8",
   "metadata": {},
   "outputs": [],
   "source": [
    "torch.save(model.state_dict(),\"D:/weights_best.pth\")"
   ]
  },
  {
   "cell_type": "code",
   "execution_count": 54,
   "id": "b69d21e4",
   "metadata": {},
   "outputs": [],
   "source": [
    "log = {\n",
    "    \"train_cost\": train_cost,\n",
    "    \"test_cost\" : test_cost,\n",
    "    \"train_score\": train_score,\n",
    "    \"test_score\": test_score\n",
    "}\n",
    "torch.save(log,\"D:/Model_StandarScaler_Relu_2HL/logs.pth\")"
   ]
  },
  {
   "cell_type": "code",
   "execution_count": 55,
   "id": "dbaa9cd6",
   "metadata": {},
   "outputs": [
    {
     "data": {
      "text/plain": [
       "OrderedDict([('fc1.weight',\n",
       "              tensor([[-2.5618, -2.6317, -2.1125, -2.3840, -0.7754, -1.7775, -1.9485, -2.1305,\n",
       "                       -2.3725, -1.3282, -1.2140, -0.6701, -1.1821],\n",
       "                      [ 0.4826, -0.2061,  0.0719, -0.0555,  0.8214,  0.1190,  0.6139,  0.1769,\n",
       "                        0.2888,  0.0666,  0.0580, -3.1715, -1.7510],\n",
       "                      [-1.9965, -2.7879, -1.9671, -1.8442, -0.9051, -2.0527, -2.3569, -1.2686,\n",
       "                       -2.7833, -1.8655,  0.2261,  3.2047,  1.7106],\n",
       "                      [ 0.7401,  0.6786,  0.5860,  0.6429,  0.8157,  0.9495,  1.2361,  0.9694,\n",
       "                        0.6903, -0.2034, -0.6838, -2.7664, -1.8102],\n",
       "                      [-0.6301,  0.4297, -0.1953,  0.6362, -1.4794, -0.8657, -0.6500, -1.2443,\n",
       "                        0.2528, -0.1524, -2.2573,  1.6685, -0.8345],\n",
       "                      [-3.7237, -3.8153, -4.5512, -4.9377, -3.7687, -3.5730, -4.3259, -3.8961,\n",
       "                       -4.8240, -4.3067, -0.0670,  0.7208, -0.4352],\n",
       "                      [ 0.5016,  0.9166,  0.8062,  0.8422,  0.1523,  0.6843,  0.9112,  0.8116,\n",
       "                        0.5845,  0.3605, -1.0112,  2.5546,  0.5428],\n",
       "                      [ 2.0129,  1.6030,  1.1230,  1.3049,  2.2400,  1.2119,  2.1308,  1.5670,\n",
       "                        1.2544,  0.1499, -1.1215, -0.3103, -3.4620],\n",
       "                      [ 0.4935,  0.4254,  1.1215,  0.7535,  0.9022,  0.9010,  0.9043,  1.5316,\n",
       "                        0.3978,  1.8501,  1.6009, -2.3592, -0.9855],\n",
       "                      [-1.2043, -0.5357, -0.9618, -1.8830, -1.3510, -0.7269, -1.0571, -1.2036,\n",
       "                       -0.9680, -1.7223,  0.0945,  1.3804,  0.5480],\n",
       "                      [-1.4861, -0.4445, -0.3147, -0.3259, -1.8677, -0.3093, -0.8900, -0.8816,\n",
       "                       -0.6248, -1.0740, -2.0609, -0.8743, -1.5814],\n",
       "                      [ 1.0234,  0.3277,  0.7659,  0.8160,  0.8234,  0.8096,  1.0297,  1.3271,\n",
       "                        0.1622,  1.0682,  1.5082, -2.9171, -1.2334]])),\n",
       "             ('fc1.bias',\n",
       "              tensor([ 0.5632, -0.1632, -0.5298,  0.3525,  2.1756, -0.1533,  1.7812, -0.9929,\n",
       "                      -0.0369,  0.3698,  1.6589, -0.3632])),\n",
       "             ('fc2.weight',\n",
       "              tensor([[-1.2607e-01,  6.8120e-02, -1.8701e-01, -2.3815e-01,  1.4401e-01,\n",
       "                       -1.8939e-01, -2.1234e-01, -2.8718e-01,  3.4567e-02,  1.2624e-02,\n",
       "                        4.4696e-02, -3.7971e-01],\n",
       "                      [ 1.2305e-03, -2.5534e+00,  2.9537e+00, -1.3635e+00,  1.5967e+00,\n",
       "                        1.4945e+00,  1.9410e+00,  2.0263e+00, -2.7855e+00,  9.3014e-01,\n",
       "                       -1.9341e-01, -5.9271e+00],\n",
       "                      [-1.4478e+00,  1.1947e+00,  2.1527e+00,  1.4884e+00, -4.8527e-02,\n",
       "                       -2.2740e+00,  3.0132e+00,  8.1044e-01,  1.4643e+00,  1.0857e+00,\n",
       "                       -7.7171e-01,  2.2148e+00],\n",
       "                      [-3.2426e-01,  1.4171e+00,  3.8059e+00,  1.1754e+00, -1.2589e+00,\n",
       "                        1.3873e+00, -3.0805e-02, -6.3444e-01,  1.8579e+00,  1.1313e+00,\n",
       "                       -1.0381e+00,  3.6581e+00],\n",
       "                      [ 1.8841e+00, -8.6729e-01, -9.2519e-01, -6.3549e-01,  1.4018e-01,\n",
       "                        2.2407e+00, -2.6293e-01, -6.4162e-01,  1.9906e+00,  2.1042e-01,\n",
       "                        7.6355e-01,  1.1474e+00],\n",
       "                      [ 2.0359e+00,  1.4416e+00, -2.7292e+00,  1.0644e+00,  1.3773e+00,\n",
       "                        4.1262e-01,  9.2654e-02,  9.7645e-01, -4.4943e-01, -3.9196e-01,\n",
       "                        2.8670e+00, -3.0561e-01],\n",
       "                      [-4.5284e-02, -3.2875e-02, -1.1781e-01, -2.6069e-01, -2.8092e-01,\n",
       "                        1.0729e-01, -1.5850e-01, -1.8558e-01, -2.2523e-02, -9.6132e-02,\n",
       "                       -9.3392e-02,  9.2755e-03],\n",
       "                      [ 9.3817e-01, -1.2923e+00, -1.4839e+00, -1.3238e+00,  2.1500e+00,\n",
       "                        1.9484e+00,  9.6331e-01,  1.4737e+00, -2.6995e+00,  1.9685e+00,\n",
       "                        1.4148e+00, -4.8036e+00],\n",
       "                      [ 8.4753e-01,  1.6637e+00, -2.4446e-01,  1.6202e+00,  1.0441e+00,\n",
       "                       -1.8388e+00,  1.4078e+00,  7.6208e-01,  2.1310e-01, -3.5651e-01,\n",
       "                        1.8908e+00,  1.4995e+00],\n",
       "                      [-6.6793e-01, -1.2425e-01,  1.1113e+00,  1.8941e-01,  5.6022e-01,\n",
       "                       -9.4678e-01,  1.3898e+00, -6.5419e-01,  1.9317e+00, -2.2980e-02,\n",
       "                        2.5268e-01,  2.2942e+00],\n",
       "                      [ 8.4920e-01,  2.9462e-01,  9.6700e-01,  3.1080e-01,  2.3714e-01,\n",
       "                       -3.7310e-01, -7.6644e-01, -4.7114e+00,  1.0529e+00, -8.9609e-01,\n",
       "                        7.9072e-01,  1.8717e+00],\n",
       "                      [-1.1497e-02, -5.1854e-03,  8.5317e-02,  9.8975e-02, -1.1362e-02,\n",
       "                       -4.2153e-01, -7.3429e-02,  1.3833e-02, -1.5169e-01, -2.2570e-01,\n",
       "                        9.7297e-02, -1.7612e-01]])),\n",
       "             ('fc2.bias',\n",
       "              tensor([-0.3150,  0.5787, -0.1923, -0.7160,  0.8523,  1.5871, -0.2189,  0.9173,\n",
       "                       0.7473,  1.0292,  0.9770, -0.3178])),\n",
       "             ('out.weight',\n",
       "              tensor([[-2.1721e-01, -7.0722e+00, -3.6131e+00, -8.5250e-01,  3.6227e-01,\n",
       "                        3.8979e-01, -2.6503e-01,  9.2473e-01, -3.1169e-01, -5.7037e-01,\n",
       "                       -6.1891e-01, -1.3048e-01],\n",
       "                      [ 5.1920e-02,  4.1581e-01, -1.6686e+00, -7.9369e-01,  2.2241e+00,\n",
       "                       -6.8229e+00, -1.2032e-01,  1.4541e+00,  4.7623e-01, -2.5436e-01,\n",
       "                       -1.7784e-01, -3.1672e-01],\n",
       "                      [-1.9106e-01,  2.2303e+00, -4.9197e+00, -2.1918e+00,  7.3965e-01,\n",
       "                       -2.1385e+00,  1.3025e-02,  1.0532e+00, -2.3653e+00,  6.4766e-01,\n",
       "                        2.8166e-01, -2.9954e-01],\n",
       "                      [-6.1306e-02, -8.1472e-01, -1.5482e+00,  9.8780e-01,  1.9296e-01,\n",
       "                        4.0232e-01, -1.3975e-01, -2.6267e+00,  4.5947e-02, -1.5424e+00,\n",
       "                       -2.6998e+00, -5.3425e-02],\n",
       "                      [-7.5383e-02, -1.8121e+00,  1.1749e+00,  1.6262e+00,  3.2612e-01,\n",
       "                       -9.6045e-01, -2.6739e-01, -1.7402e+00, -5.5491e-01,  7.1823e-02,\n",
       "                       -5.8784e-02, -5.8094e-02],\n",
       "                      [-1.8881e-02, -1.6269e+00, -3.1651e+00, -1.1968e+00,  9.6140e-01,\n",
       "                        3.4000e-01,  3.4999e-02, -4.6111e+00, -5.2285e-03, -6.4237e-02,\n",
       "                        1.3175e+00,  1.9886e-01],\n",
       "                      [-3.5539e-01,  1.4365e-01,  8.2223e-01, -1.3845e+00, -2.9962e+00,\n",
       "                        5.8584e-01, -2.8467e-01, -1.2399e-01,  6.9575e-01, -1.0244e-01,\n",
       "                       -4.5829e-01, -1.6235e-01],\n",
       "                      [ 9.0915e-02, -4.3852e-01, -5.9454e+00, -6.0402e+00, -7.0251e-02,\n",
       "                        2.1270e-01, -2.0412e-01,  1.8004e+00, -8.5070e-01, -1.8371e+00,\n",
       "                       -1.5967e+00,  1.9327e-01],\n",
       "                      [ 2.3965e-01,  8.1650e-01, -2.8683e-01,  1.2882e+00, -3.8124e+00,\n",
       "                       -1.6434e+00,  1.4424e-01, -5.3923e-01, -2.6867e+00, -1.0848e+00,\n",
       "                       -1.3110e+00,  1.3457e-03]])),\n",
       "             ('out.bias',\n",
       "              tensor([-0.3255, -0.8689,  0.6620, -1.0213, -1.3009,  0.2248,  0.1487, -0.0145,\n",
       "                      -0.8527]))])"
      ]
     },
     "execution_count": 55,
     "metadata": {},
     "output_type": "execute_result"
    }
   ],
   "source": [
    "model.state_dict()"
   ]
  },
  {
   "cell_type": "markdown",
   "id": "a3935b75",
   "metadata": {},
   "source": [
    "## LOAD MODEL "
   ]
  },
  {
   "cell_type": "code",
   "execution_count": 56,
   "id": "d0f03bc4",
   "metadata": {},
   "outputs": [
    {
     "data": {
      "text/plain": [
       "<All keys matched successfully>"
      ]
     },
     "execution_count": 56,
     "metadata": {},
     "output_type": "execute_result"
    }
   ],
   "source": [
    "weight = torch.load(\"D:/weights_best.pth\", map_location = \"cpu\")\n",
    "config = torch.load(\"D:/configs.pth\", map_location = \"cpu\")\n",
    "model = DistributionClassifier(config.in_features, config.h1, config.h2,config.out_features)\n",
    "model.load_state_dict(weight)"
   ]
  },
  {
   "cell_type": "markdown",
   "id": "7d96c9e0",
   "metadata": {},
   "source": [
    "## PREDICTION"
   ]
  },
  {
   "cell_type": "code",
   "execution_count": 57,
   "id": "4dabb378",
   "metadata": {},
   "outputs": [
    {
     "data": {
      "text/plain": [
       "tensor([0, 6, 8,  ..., 3, 2, 0])"
      ]
     },
     "execution_count": 57,
     "metadata": {},
     "output_type": "execute_result"
    }
   ],
   "source": [
    "with torch.no_grad():\n",
    "        model.eval()\n",
    "        output = model(X_test) \n",
    "        pred = output.argmax(1)\n",
    "pred"
   ]
  },
  {
   "cell_type": "markdown",
   "id": "2aa9d094",
   "metadata": {},
   "source": [
    "## ACCURACY DAN CONFUSION MATRIX"
   ]
  },
  {
   "cell_type": "markdown",
   "id": "7e3b56f9",
   "metadata": {},
   "source": [
    "### Import confusion_matrix, accuracy_score dari module sklearn"
   ]
  },
  {
   "cell_type": "code",
   "execution_count": 58,
   "id": "a1f03f7a",
   "metadata": {},
   "outputs": [],
   "source": [
    "from sklearn.metrics import confusion_matrix, accuracy_score, mean_squared_error"
   ]
  },
  {
   "cell_type": "code",
   "execution_count": 59,
   "id": "cebba554",
   "metadata": {},
   "outputs": [
    {
     "data": {
      "text/plain": [
       "0.9980555555555556"
      ]
     },
     "execution_count": 59,
     "metadata": {},
     "output_type": "execute_result"
    }
   ],
   "source": [
    "accuracy_score(y_test.argmax(1),pred)"
   ]
  },
  {
   "cell_type": "code",
   "execution_count": 60,
   "id": "14e916b5",
   "metadata": {},
   "outputs": [
    {
     "data": {
      "text/plain": [
       "array([[420,   0,   0,   0,   0,   0,   0,   2,   0],\n",
       "       [  0, 419,   0,   0,   0,   0,   0,   0,   0],\n",
       "       [  0,   0, 382,   0,   0,   0,   0,   0,   0],\n",
       "       [  0,   0,   0, 394,   0,   0,   0,   0,   0],\n",
       "       [  0,   0,   0,   1, 390,   2,   0,   0,   0],\n",
       "       [  0,   0,   0,   0,   0, 402,   0,   0,   0],\n",
       "       [  0,   0,   0,   0,   0,   0, 384,   0,   0],\n",
       "       [  1,   0,   1,   0,   0,   0,   0, 388,   0],\n",
       "       [  0,   0,   0,   0,   0,   0,   0,   0, 414]], dtype=int64)"
      ]
     },
     "execution_count": 60,
     "metadata": {},
     "output_type": "execute_result"
    }
   ],
   "source": [
    "cm = confusion_matrix(y_test.argmax(1),pred)\n",
    "cm"
   ]
  },
  {
   "cell_type": "code",
   "execution_count": 61,
   "id": "5fd00900",
   "metadata": {},
   "outputs": [
    {
     "data": {
      "text/plain": [
       "0.22047927592204922"
      ]
     },
     "execution_count": 61,
     "metadata": {},
     "output_type": "execute_result"
    }
   ],
   "source": [
    "rmse = mean_squared_error(y_test.argmax(1),pred, squared = False)\n",
    "rmse"
   ]
  },
  {
   "cell_type": "markdown",
   "id": "d3772cbf",
   "metadata": {},
   "source": [
    "## PLOT CONFUSION MATRIX"
   ]
  },
  {
   "cell_type": "code",
   "execution_count": 62,
   "id": "01b25dc0",
   "metadata": {},
   "outputs": [
    {
     "data": {
      "image/png": "[encoded data removed]",
      "text/plain": [
       "<Figure size 864x576 with 2 Axes>"
      ]
     },
     "metadata": {},
     "output_type": "display_data"
    }
   ],
   "source": [
    "fig = plt.figure(figsize = (12,8))\n",
    "sns.heatmap(cm, annot = True)\n",
    "\n",
    "# Labeling the X-axis\n",
    "plt.xlabel(\"Predicted Class\")\n",
    "\n",
    "# Labeling the Y-axis\n",
    "plt.ylabel(\"True Class\")\n",
    "\n",
    "# Give a title to the graph\n",
    "plt.title(\"DistributionClassifier Confusion Matrix\")\n",
    "\n",
    "# Saving the plot as an image\n",
    "fig.savefig(\"D:/confusion_matrix_relu_2HL.jpg\", bbox_inches = \"tight\", dpi = 150)\n",
    "plt.show()"
   ]
  }
 ],
 "metadata": {
  "kernelspec": {
   "display_name": "Python 3",
   "language": "python",
   "name": "python3"
  },
  "language_info": {
   "codemirror_mode": {
    "name": "ipython",
    "version": 3
   },
   "file_extension": ".py",
   "mimetype": "text/x-python",
   "name": "python",
   "nbconvert_exporter": "python",
   "pygments_lexer": "ipython3",
   "version": "3.8.8"
  }
 },
 "nbformat": 4,
 "nbformat_minor": 5
}
